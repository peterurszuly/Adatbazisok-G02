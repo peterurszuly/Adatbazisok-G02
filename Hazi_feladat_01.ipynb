{
    "metadata": {
        "kernelspec": {
            "name": "SQL",
            "display_name": "SQL",
            "language": "sql"
        },
        "language_info": {
            "name": "sql",
            "version": ""
        }
    },
    "nbformat_minor": 2,
    "nbformat": 4,
    "cells": [
        {
            "cell_type": "markdown",
            "source": [
                "Házi feladat 01:\n",
                "\n",
                "Adatprofilozás a webshop/termekek táblán.\n",
                "\n",
                "1\\. oszlop -\\> listaar"
            ],
            "metadata": {
                "azdata_cell_guid": "e4bd3df2-0168-4a06-a971-474eb58212c5"
            },
            "attachments": {}
        },
        {
            "cell_type": "code",
            "source": [
                "SELECT *\r\n",
                "from Termek"
            ],
            "metadata": {
                "language": "sql",
                "azdata_cell_guid": "60b96085-ff46-407b-8e1d-307f2755ea24"
            },
            "outputs": [],
            "execution_count": null
        },
        {
            "cell_type": "code",
            "source": [
                "SELECT  MIN(LISTAAR) AS min_ar,\r\n",
                "        MAX(LISTAAR) AS max_ar,\r\n",
                "        AVG(LISTAAR) AS atlag_ar\r\n",
                "FROM Termek;"
            ],
            "metadata": {
                "azdata_cell_guid": "0fc9b8bb-d0a8-4cac-ae23-04df20448941",
                "language": "sql"
            },
            "outputs": [
                {
                    "output_type": "display_data",
                    "data": {
                        "text/html": "(1 row affected)"
                    },
                    "metadata": {}
                },
                {
                    "output_type": "display_data",
                    "data": {
                        "text/html": "Total execution time: 00:00:00.006"
                    },
                    "metadata": {}
                },
                {
                    "output_type": "execute_result",
                    "metadata": {},
                    "execution_count": 22,
                    "data": {
                        "application/vnd.dataresource+json": {
                            "schema": {
                                "fields": [
                                    {
                                        "name": "min_ar"
                                    },
                                    {
                                        "name": "max_ar"
                                    },
                                    {
                                        "name": "atlag_ar"
                                    }
                                ]
                            },
                            "data": [
                                {
                                    "min_ar": "0",
                                    "max_ar": "46000",
                                    "atlag_ar": "786,2813067150635"
                                }
                            ]
                        },
                        "text/html": [
                            "<table>",
                            "<tr><th>min_ar</th><th>max_ar</th><th>atlag_ar</th></tr>",
                            "<tr><td>0</td><td>46000</td><td>786,2813067150635</td></tr>",
                            "</table>"
                        ]
                    }
                }
            ],
            "execution_count": 22
        },
        {
            "cell_type": "code",
            "source": [
                "--árak eloszlása\r\n",
                "SELECT LISTAAR, COUNT(*) AS db\r\n",
                "FROM Termek\r\n",
                "GROUP BY LISTAAR\r\n",
                "ORDER BY LISTAAR;"
            ],
            "metadata": {
                "language": "sql",
                "azdata_cell_guid": "db70daba-c7da-4b4f-8306-b9544e21c1fa"
            },
            "outputs": [
                {
                    "output_type": "display_data",
                    "data": {
                        "text/html": "(220 rows affected)"
                    },
                    "metadata": {}
                },
                {
                    "output_type": "display_data",
                    "data": {
                        "text/html": "Total execution time: 00:00:00.053"
                    },
                    "metadata": {}
                },
                {
                    "output_type": "execute_result",
                    "metadata": {
                        "azdata_chartOptions": {
                            "type": "bar",
                            "dataDirection": "vertical",
                            "columnsAsLabels": true,
                            "labelFirstColumn": false,
                            "legendPosition": "top"
                        }
                    },
                    "execution_count": 29,
                    "data": {
                        "application/vnd.dataresource+json": {
                            "schema": {
                                "fields": [
                                    {
                                        "name": "LISTAAR"
                                    },
                                    {
                                        "name": "db"
                                    }
                                ]
                            },
                            "data": [
                                {
                                    "LISTAAR": "0",
                                    "db": "1"
                                },
                                {
                                    "LISTAAR": "3",
                                    "db": "3"
                                },
                                {
                                    "LISTAAR": "4",
                                    "db": "2"
                                },
                                {
                                    "LISTAAR": "5",
                                    "db": "1"
                                },
                                {
                                    "LISTAAR": "6",
                                    "db": "2"
                                },
                                {
                                    "LISTAAR": "8",
                                    "db": "6"
                                },
                                {
                                    "LISTAAR": "9",
                                    "db": "3"
                                },
                                {
                                    "LISTAAR": "10",
                                    "db": "2"
                                },
                                {
                                    "LISTAAR": "11",
                                    "db": "7"
                                },
                                {
                                    "LISTAAR": "12",
                                    "db": "1"
                                },
                                {
                                    "LISTAAR": "13",
                                    "db": "1"
                                },
                                {
                                    "LISTAAR": "14",
                                    "db": "3"
                                },
                                {
                                    "LISTAAR": "15",
                                    "db": "14"
                                },
                                {
                                    "LISTAAR": "18",
                                    "db": "2"
                                },
                                {
                                    "LISTAAR": "19",
                                    "db": "8"
                                },
                                {
                                    "LISTAAR": "20",
                                    "db": "3"
                                },
                                {
                                    "LISTAAR": "23",
                                    "db": "9"
                                },
                                {
                                    "LISTAAR": "24",
                                    "db": "4"
                                },
                                {
                                    "LISTAAR": "25",
                                    "db": "2"
                                },
                                {
                                    "LISTAAR": "26",
                                    "db": "6"
                                },
                                {
                                    "LISTAAR": "28",
                                    "db": "1"
                                },
                                {
                                    "LISTAAR": "29",
                                    "db": "1"
                                },
                                {
                                    "LISTAAR": "30",
                                    "db": "16"
                                },
                                {
                                    "LISTAAR": "31",
                                    "db": "1"
                                },
                                {
                                    "LISTAAR": "33",
                                    "db": "7"
                                },
                                {
                                    "LISTAAR": "34",
                                    "db": "4"
                                },
                                {
                                    "LISTAAR": "35",
                                    "db": "3"
                                },
                                {
                                    "LISTAAR": "36",
                                    "db": "10"
                                },
                                {
                                    "LISTAAR": "38",
                                    "db": "1"
                                },
                                {
                                    "LISTAAR": "39",
                                    "db": "4"
                                },
                                {
                                    "LISTAAR": "40",
                                    "db": "9"
                                },
                                {
                                    "LISTAAR": "41",
                                    "db": "1"
                                },
                                {
                                    "LISTAAR": "43",
                                    "db": "1"
                                },
                                {
                                    "LISTAAR": "44",
                                    "db": "16"
                                },
                                {
                                    "LISTAAR": "45",
                                    "db": "2"
                                },
                                {
                                    "LISTAAR": "46",
                                    "db": "2"
                                },
                                {
                                    "LISTAAR": "48",
                                    "db": "7"
                                },
                                {
                                    "LISTAAR": "49",
                                    "db": "3"
                                },
                                {
                                    "LISTAAR": "50",
                                    "db": "1"
                                },
                                {
                                    "LISTAAR": "51",
                                    "db": "4"
                                },
                                {
                                    "LISTAAR": "53",
                                    "db": "2"
                                },
                                {
                                    "LISTAAR": "55",
                                    "db": "8"
                                },
                                {
                                    "LISTAAR": "56",
                                    "db": "4"
                                },
                                {
                                    "LISTAAR": "58",
                                    "db": "3"
                                },
                                {
                                    "LISTAAR": "59",
                                    "db": "8"
                                },
                                {
                                    "LISTAAR": "60",
                                    "db": "1"
                                },
                                {
                                    "LISTAAR": "61",
                                    "db": "2"
                                },
                                {
                                    "LISTAAR": "63",
                                    "db": "5"
                                },
                                {
                                    "LISTAAR": "64",
                                    "db": "1"
                                },
                                {
                                    "LISTAAR": "65",
                                    "db": "2"
                                },
                                {
                                    "LISTAAR": "66",
                                    "db": "4"
                                },
                                {
                                    "LISTAAR": "68",
                                    "db": "1"
                                },
                                {
                                    "LISTAAR": "70",
                                    "db": "1"
                                },
                                {
                                    "LISTAAR": "73",
                                    "db": "6"
                                },
                                {
                                    "LISTAAR": "74",
                                    "db": "5"
                                },
                                {
                                    "LISTAAR": "76",
                                    "db": "1"
                                },
                                {
                                    "LISTAAR": "78",
                                    "db": "5"
                                },
                                {
                                    "LISTAAR": "79",
                                    "db": "1"
                                },
                                {
                                    "LISTAAR": "80",
                                    "db": "2"
                                },
                                {
                                    "LISTAAR": "81",
                                    "db": "9"
                                },
                                {
                                    "LISTAAR": "85",
                                    "db": "1"
                                },
                                {
                                    "LISTAAR": "89",
                                    "db": "15"
                                },
                                {
                                    "LISTAAR": "91",
                                    "db": "1"
                                },
                                {
                                    "LISTAAR": "93",
                                    "db": "4"
                                },
                                {
                                    "LISTAAR": "94",
                                    "db": "2"
                                },
                                {
                                    "LISTAAR": "95",
                                    "db": "2"
                                },
                                {
                                    "LISTAAR": "96",
                                    "db": "1"
                                },
                                {
                                    "LISTAAR": "99",
                                    "db": "1"
                                },
                                {
                                    "LISTAAR": "101",
                                    "db": "2"
                                },
                                {
                                    "LISTAAR": "103",
                                    "db": "12"
                                },
                                {
                                    "LISTAAR": "106",
                                    "db": "5"
                                },
                                {
                                    "LISTAAR": "109",
                                    "db": "1"
                                },
                                {
                                    "LISTAAR": "110",
                                    "db": "5"
                                },
                                {
                                    "LISTAAR": "114",
                                    "db": "2"
                                },
                                {
                                    "LISTAAR": "115",
                                    "db": "2"
                                },
                                {
                                    "LISTAAR": "118",
                                    "db": "3"
                                },
                                {
                                    "LISTAAR": "119",
                                    "db": "1"
                                },
                                {
                                    "LISTAAR": "121",
                                    "db": "2"
                                },
                                {
                                    "LISTAAR": "123",
                                    "db": "1"
                                },
                                {
                                    "LISTAAR": "124",
                                    "db": "1"
                                },
                                {
                                    "LISTAAR": "125",
                                    "db": "3"
                                },
                                {
                                    "LISTAAR": "129",
                                    "db": "3"
                                },
                                {
                                    "LISTAAR": "131",
                                    "db": "1"
                                },
                                {
                                    "LISTAAR": "133",
                                    "db": "9"
                                },
                                {
                                    "LISTAAR": "140",
                                    "db": "3"
                                },
                                {
                                    "LISTAAR": "144",
                                    "db": "6"
                                },
                                {
                                    "LISTAAR": "146",
                                    "db": "1"
                                },
                                {
                                    "LISTAAR": "148",
                                    "db": "7"
                                },
                                {
                                    "LISTAAR": "155",
                                    "db": "3"
                                },
                                {
                                    "LISTAAR": "161",
                                    "db": "12"
                                },
                                {
                                    "LISTAAR": "165",
                                    "db": "1"
                                },
                                {
                                    "LISTAAR": "166",
                                    "db": "1"
                                },
                                {
                                    "LISTAAR": "168",
                                    "db": "1"
                                },
                                {
                                    "LISTAAR": "169",
                                    "db": "4"
                                },
                                {
                                    "LISTAAR": "173",
                                    "db": "1"
                                },
                                {
                                    "LISTAAR": "175",
                                    "db": "2"
                                },
                                {
                                    "LISTAAR": "176",
                                    "db": "3"
                                },
                                {
                                    "LISTAAR": "180",
                                    "db": "4"
                                },
                                {
                                    "LISTAAR": "183",
                                    "db": "1"
                                },
                                {
                                    "LISTAAR": "184",
                                    "db": "3"
                                },
                                {
                                    "LISTAAR": "185",
                                    "db": "3"
                                },
                                {
                                    "LISTAAR": "188",
                                    "db": "1"
                                },
                                {
                                    "LISTAAR": "189",
                                    "db": "1"
                                },
                                {
                                    "LISTAAR": "190",
                                    "db": "1"
                                },
                                {
                                    "LISTAAR": "191",
                                    "db": "1"
                                },
                                {
                                    "LISTAAR": "195",
                                    "db": "3"
                                },
                                {
                                    "LISTAAR": "198",
                                    "db": "1"
                                },
                                {
                                    "LISTAAR": "203",
                                    "db": "2"
                                },
                                {
                                    "LISTAAR": "206",
                                    "db": "3"
                                },
                                {
                                    "LISTAAR": "210",
                                    "db": "2"
                                },
                                {
                                    "LISTAAR": "211",
                                    "db": "1"
                                },
                                {
                                    "LISTAAR": "214",
                                    "db": "4"
                                },
                                {
                                    "LISTAAR": "218",
                                    "db": "2"
                                },
                                {
                                    "LISTAAR": "220",
                                    "db": "1"
                                },
                                {
                                    "LISTAAR": "228",
                                    "db": "4"
                                },
                                {
                                    "LISTAAR": "230",
                                    "db": "1"
                                },
                                {
                                    "LISTAAR": "231",
                                    "db": "1"
                                },
                                {
                                    "LISTAAR": "235",
                                    "db": "1"
                                },
                                {
                                    "LISTAAR": "239",
                                    "db": "1"
                                },
                                {
                                    "LISTAAR": "240",
                                    "db": "2"
                                },
                                {
                                    "LISTAAR": "243",
                                    "db": "2"
                                },
                                {
                                    "LISTAAR": "249",
                                    "db": "1"
                                },
                                {
                                    "LISTAAR": "256",
                                    "db": "1"
                                },
                                {
                                    "LISTAAR": "259",
                                    "db": "1"
                                },
                                {
                                    "LISTAAR": "264",
                                    "db": "1"
                                },
                                {
                                    "LISTAAR": "273",
                                    "db": "2"
                                },
                                {
                                    "LISTAAR": "276",
                                    "db": "2"
                                },
                                {
                                    "LISTAAR": "278",
                                    "db": "2"
                                },
                                {
                                    "LISTAAR": "286",
                                    "db": "2"
                                },
                                {
                                    "LISTAAR": "290",
                                    "db": "1"
                                },
                                {
                                    "LISTAAR": "291",
                                    "db": "1"
                                },
                                {
                                    "LISTAAR": "293",
                                    "db": "2"
                                },
                                {
                                    "LISTAAR": "294",
                                    "db": "1"
                                },
                                {
                                    "LISTAAR": "297",
                                    "db": "1"
                                },
                                {
                                    "LISTAAR": "299",
                                    "db": "1"
                                },
                                {
                                    "LISTAAR": "308",
                                    "db": "1"
                                },
                                {
                                    "LISTAAR": "310",
                                    "db": "1"
                                },
                                {
                                    "LISTAAR": "314",
                                    "db": "1"
                                },
                                {
                                    "LISTAAR": "316",
                                    "db": "1"
                                },
                                {
                                    "LISTAAR": "324",
                                    "db": "3"
                                },
                                {
                                    "LISTAAR": "328",
                                    "db": "1"
                                },
                                {
                                    "LISTAAR": "339",
                                    "db": "1"
                                },
                                {
                                    "LISTAAR": "342",
                                    "db": "1"
                                },
                                {
                                    "LISTAAR": "345",
                                    "db": "1"
                                },
                                {
                                    "LISTAAR": "353",
                                    "db": "1"
                                },
                                {
                                    "LISTAAR": "356",
                                    "db": "1"
                                },
                                {
                                    "LISTAAR": "360",
                                    "db": "2"
                                },
                                {
                                    "LISTAAR": "364",
                                    "db": "1"
                                },
                                {
                                    "LISTAAR": "390",
                                    "db": "4"
                                },
                                {
                                    "LISTAAR": "401",
                                    "db": "1"
                                },
                                {
                                    "LISTAAR": "403",
                                    "db": "3"
                                },
                                {
                                    "LISTAAR": "405",
                                    "db": "1"
                                },
                                {
                                    "LISTAAR": "410",
                                    "db": "1"
                                },
                                {
                                    "LISTAAR": "411",
                                    "db": "2"
                                },
                                {
                                    "LISTAAR": "426",
                                    "db": "1"
                                },
                                {
                                    "LISTAAR": "434",
                                    "db": "2"
                                },
                                {
                                    "LISTAAR": "438",
                                    "db": "1"
                                },
                                {
                                    "LISTAAR": "440",
                                    "db": "3"
                                },
                                {
                                    "LISTAAR": "449",
                                    "db": "1"
                                },
                                {
                                    "LISTAAR": "455",
                                    "db": "1"
                                },
                                {
                                    "LISTAAR": "464",
                                    "db": "1"
                                },
                                {
                                    "LISTAAR": "468",
                                    "db": "1"
                                },
                                {
                                    "LISTAAR": "493",
                                    "db": "1"
                                },
                                {
                                    "LISTAAR": "508",
                                    "db": "2"
                                },
                                {
                                    "LISTAAR": "511",
                                    "db": "1"
                                },
                                {
                                    "LISTAAR": "526",
                                    "db": "2"
                                },
                                {
                                    "LISTAAR": "551",
                                    "db": "1"
                                },
                                {
                                    "LISTAAR": "581",
                                    "db": "1"
                                },
                                {
                                    "LISTAAR": "625",
                                    "db": "1"
                                },
                                {
                                    "LISTAAR": "633",
                                    "db": "1"
                                },
                                {
                                    "LISTAAR": "650",
                                    "db": "1"
                                },
                                {
                                    "LISTAAR": "655",
                                    "db": "2"
                                },
                                {
                                    "LISTAAR": "674",
                                    "db": "1"
                                },
                                {
                                    "LISTAAR": "684",
                                    "db": "1"
                                },
                                {
                                    "LISTAAR": "686",
                                    "db": "1"
                                },
                                {
                                    "LISTAAR": "690",
                                    "db": "1"
                                },
                                {
                                    "LISTAAR": "691",
                                    "db": "1"
                                },
                                {
                                    "LISTAAR": "699",
                                    "db": "1"
                                },
                                {
                                    "LISTAAR": "720",
                                    "db": "1"
                                },
                                {
                                    "LISTAAR": "728",
                                    "db": "5"
                                },
                                {
                                    "LISTAAR": "735",
                                    "db": "1"
                                },
                                {
                                    "LISTAAR": "765",
                                    "db": "2"
                                },
                                {
                                    "LISTAAR": "773",
                                    "db": "1"
                                },
                                {
                                    "LISTAAR": "780",
                                    "db": "1"
                                },
                                {
                                    "LISTAAR": "785",
                                    "db": "1"
                                },
                                {
                                    "LISTAAR": "794",
                                    "db": "1"
                                },
                                {
                                    "LISTAAR": "845",
                                    "db": "1"
                                },
                                {
                                    "LISTAAR": "868",
                                    "db": "1"
                                },
                                {
                                    "LISTAAR": "875",
                                    "db": "1"
                                },
                                {
                                    "LISTAAR": "990",
                                    "db": "2"
                                },
                                {
                                    "LISTAAR": "1019",
                                    "db": "1"
                                },
                                {
                                    "LISTAAR": "1089",
                                    "db": "3"
                                },
                                {
                                    "LISTAAR": "1147",
                                    "db": "1"
                                },
                                {
                                    "LISTAAR": "1173",
                                    "db": "1"
                                },
                                {
                                    "LISTAAR": "1290",
                                    "db": "2"
                                },
                                {
                                    "LISTAAR": "1351",
                                    "db": "1"
                                },
                                {
                                    "LISTAAR": "1377",
                                    "db": "1"
                                },
                                {
                                    "LISTAAR": "1488",
                                    "db": "1"
                                },
                                {
                                    "LISTAAR": "1500",
                                    "db": "1"
                                },
                                {
                                    "LISTAAR": "1765",
                                    "db": "1"
                                },
                                {
                                    "LISTAAR": "1990",
                                    "db": "1"
                                },
                                {
                                    "LISTAAR": "2100",
                                    "db": "1"
                                },
                                {
                                    "LISTAAR": "3900",
                                    "db": "2"
                                },
                                {
                                    "LISTAAR": "4575",
                                    "db": "1"
                                },
                                {
                                    "LISTAAR": "4990",
                                    "db": "2"
                                },
                                {
                                    "LISTAAR": "6490",
                                    "db": "1"
                                },
                                {
                                    "LISTAAR": "6900",
                                    "db": "2"
                                },
                                {
                                    "LISTAAR": "7890",
                                    "db": "1"
                                },
                                {
                                    "LISTAAR": "7900",
                                    "db": "2"
                                },
                                {
                                    "LISTAAR": "8000",
                                    "db": "2"
                                },
                                {
                                    "LISTAAR": "8290",
                                    "db": "1"
                                },
                                {
                                    "LISTAAR": "8900",
                                    "db": "2"
                                },
                                {
                                    "LISTAAR": "11900",
                                    "db": "1"
                                },
                                {
                                    "LISTAAR": "14250",
                                    "db": "1"
                                },
                                {
                                    "LISTAAR": "16900",
                                    "db": "2"
                                },
                                {
                                    "LISTAAR": "22000",
                                    "db": "1"
                                },
                                {
                                    "LISTAAR": "24000",
                                    "db": "1"
                                },
                                {
                                    "LISTAAR": "32000",
                                    "db": "1"
                                },
                                {
                                    "LISTAAR": "39000",
                                    "db": "1"
                                },
                                {
                                    "LISTAAR": "46000",
                                    "db": "1"
                                }
                            ]
                        },
                        "text/html": [
                            "<table>",
                            "<tr><th>LISTAAR</th><th>db</th></tr>",
                            "<tr><td>0</td><td>1</td></tr>",
                            "<tr><td>3</td><td>3</td></tr>",
                            "<tr><td>4</td><td>2</td></tr>",
                            "<tr><td>5</td><td>1</td></tr>",
                            "<tr><td>6</td><td>2</td></tr>",
                            "<tr><td>8</td><td>6</td></tr>",
                            "<tr><td>9</td><td>3</td></tr>",
                            "<tr><td>10</td><td>2</td></tr>",
                            "<tr><td>11</td><td>7</td></tr>",
                            "<tr><td>12</td><td>1</td></tr>",
                            "<tr><td>13</td><td>1</td></tr>",
                            "<tr><td>14</td><td>3</td></tr>",
                            "<tr><td>15</td><td>14</td></tr>",
                            "<tr><td>18</td><td>2</td></tr>",
                            "<tr><td>19</td><td>8</td></tr>",
                            "<tr><td>20</td><td>3</td></tr>",
                            "<tr><td>23</td><td>9</td></tr>",
                            "<tr><td>24</td><td>4</td></tr>",
                            "<tr><td>25</td><td>2</td></tr>",
                            "<tr><td>26</td><td>6</td></tr>",
                            "<tr><td>28</td><td>1</td></tr>",
                            "<tr><td>29</td><td>1</td></tr>",
                            "<tr><td>30</td><td>16</td></tr>",
                            "<tr><td>31</td><td>1</td></tr>",
                            "<tr><td>33</td><td>7</td></tr>",
                            "<tr><td>34</td><td>4</td></tr>",
                            "<tr><td>35</td><td>3</td></tr>",
                            "<tr><td>36</td><td>10</td></tr>",
                            "<tr><td>38</td><td>1</td></tr>",
                            "<tr><td>39</td><td>4</td></tr>",
                            "<tr><td>40</td><td>9</td></tr>",
                            "<tr><td>41</td><td>1</td></tr>",
                            "<tr><td>43</td><td>1</td></tr>",
                            "<tr><td>44</td><td>16</td></tr>",
                            "<tr><td>45</td><td>2</td></tr>",
                            "<tr><td>46</td><td>2</td></tr>",
                            "<tr><td>48</td><td>7</td></tr>",
                            "<tr><td>49</td><td>3</td></tr>",
                            "<tr><td>50</td><td>1</td></tr>",
                            "<tr><td>51</td><td>4</td></tr>",
                            "<tr><td>53</td><td>2</td></tr>",
                            "<tr><td>55</td><td>8</td></tr>",
                            "<tr><td>56</td><td>4</td></tr>",
                            "<tr><td>58</td><td>3</td></tr>",
                            "<tr><td>59</td><td>8</td></tr>",
                            "<tr><td>60</td><td>1</td></tr>",
                            "<tr><td>61</td><td>2</td></tr>",
                            "<tr><td>63</td><td>5</td></tr>",
                            "<tr><td>64</td><td>1</td></tr>",
                            "<tr><td>65</td><td>2</td></tr>",
                            "<tr><td>66</td><td>4</td></tr>",
                            "<tr><td>68</td><td>1</td></tr>",
                            "<tr><td>70</td><td>1</td></tr>",
                            "<tr><td>73</td><td>6</td></tr>",
                            "<tr><td>74</td><td>5</td></tr>",
                            "<tr><td>76</td><td>1</td></tr>",
                            "<tr><td>78</td><td>5</td></tr>",
                            "<tr><td>79</td><td>1</td></tr>",
                            "<tr><td>80</td><td>2</td></tr>",
                            "<tr><td>81</td><td>9</td></tr>",
                            "<tr><td>85</td><td>1</td></tr>",
                            "<tr><td>89</td><td>15</td></tr>",
                            "<tr><td>91</td><td>1</td></tr>",
                            "<tr><td>93</td><td>4</td></tr>",
                            "<tr><td>94</td><td>2</td></tr>",
                            "<tr><td>95</td><td>2</td></tr>",
                            "<tr><td>96</td><td>1</td></tr>",
                            "<tr><td>99</td><td>1</td></tr>",
                            "<tr><td>101</td><td>2</td></tr>",
                            "<tr><td>103</td><td>12</td></tr>",
                            "<tr><td>106</td><td>5</td></tr>",
                            "<tr><td>109</td><td>1</td></tr>",
                            "<tr><td>110</td><td>5</td></tr>",
                            "<tr><td>114</td><td>2</td></tr>",
                            "<tr><td>115</td><td>2</td></tr>",
                            "<tr><td>118</td><td>3</td></tr>",
                            "<tr><td>119</td><td>1</td></tr>",
                            "<tr><td>121</td><td>2</td></tr>",
                            "<tr><td>123</td><td>1</td></tr>",
                            "<tr><td>124</td><td>1</td></tr>",
                            "<tr><td>125</td><td>3</td></tr>",
                            "<tr><td>129</td><td>3</td></tr>",
                            "<tr><td>131</td><td>1</td></tr>",
                            "<tr><td>133</td><td>9</td></tr>",
                            "<tr><td>140</td><td>3</td></tr>",
                            "<tr><td>144</td><td>6</td></tr>",
                            "<tr><td>146</td><td>1</td></tr>",
                            "<tr><td>148</td><td>7</td></tr>",
                            "<tr><td>155</td><td>3</td></tr>",
                            "<tr><td>161</td><td>12</td></tr>",
                            "<tr><td>165</td><td>1</td></tr>",
                            "<tr><td>166</td><td>1</td></tr>",
                            "<tr><td>168</td><td>1</td></tr>",
                            "<tr><td>169</td><td>4</td></tr>",
                            "<tr><td>173</td><td>1</td></tr>",
                            "<tr><td>175</td><td>2</td></tr>",
                            "<tr><td>176</td><td>3</td></tr>",
                            "<tr><td>180</td><td>4</td></tr>",
                            "<tr><td>183</td><td>1</td></tr>",
                            "<tr><td>184</td><td>3</td></tr>",
                            "<tr><td>185</td><td>3</td></tr>",
                            "<tr><td>188</td><td>1</td></tr>",
                            "<tr><td>189</td><td>1</td></tr>",
                            "<tr><td>190</td><td>1</td></tr>",
                            "<tr><td>191</td><td>1</td></tr>",
                            "<tr><td>195</td><td>3</td></tr>",
                            "<tr><td>198</td><td>1</td></tr>",
                            "<tr><td>203</td><td>2</td></tr>",
                            "<tr><td>206</td><td>3</td></tr>",
                            "<tr><td>210</td><td>2</td></tr>",
                            "<tr><td>211</td><td>1</td></tr>",
                            "<tr><td>214</td><td>4</td></tr>",
                            "<tr><td>218</td><td>2</td></tr>",
                            "<tr><td>220</td><td>1</td></tr>",
                            "<tr><td>228</td><td>4</td></tr>",
                            "<tr><td>230</td><td>1</td></tr>",
                            "<tr><td>231</td><td>1</td></tr>",
                            "<tr><td>235</td><td>1</td></tr>",
                            "<tr><td>239</td><td>1</td></tr>",
                            "<tr><td>240</td><td>2</td></tr>",
                            "<tr><td>243</td><td>2</td></tr>",
                            "<tr><td>249</td><td>1</td></tr>",
                            "<tr><td>256</td><td>1</td></tr>",
                            "<tr><td>259</td><td>1</td></tr>",
                            "<tr><td>264</td><td>1</td></tr>",
                            "<tr><td>273</td><td>2</td></tr>",
                            "<tr><td>276</td><td>2</td></tr>",
                            "<tr><td>278</td><td>2</td></tr>",
                            "<tr><td>286</td><td>2</td></tr>",
                            "<tr><td>290</td><td>1</td></tr>",
                            "<tr><td>291</td><td>1</td></tr>",
                            "<tr><td>293</td><td>2</td></tr>",
                            "<tr><td>294</td><td>1</td></tr>",
                            "<tr><td>297</td><td>1</td></tr>",
                            "<tr><td>299</td><td>1</td></tr>",
                            "<tr><td>308</td><td>1</td></tr>",
                            "<tr><td>310</td><td>1</td></tr>",
                            "<tr><td>314</td><td>1</td></tr>",
                            "<tr><td>316</td><td>1</td></tr>",
                            "<tr><td>324</td><td>3</td></tr>",
                            "<tr><td>328</td><td>1</td></tr>",
                            "<tr><td>339</td><td>1</td></tr>",
                            "<tr><td>342</td><td>1</td></tr>",
                            "<tr><td>345</td><td>1</td></tr>",
                            "<tr><td>353</td><td>1</td></tr>",
                            "<tr><td>356</td><td>1</td></tr>",
                            "<tr><td>360</td><td>2</td></tr>",
                            "<tr><td>364</td><td>1</td></tr>",
                            "<tr><td>390</td><td>4</td></tr>",
                            "<tr><td>401</td><td>1</td></tr>",
                            "<tr><td>403</td><td>3</td></tr>",
                            "<tr><td>405</td><td>1</td></tr>",
                            "<tr><td>410</td><td>1</td></tr>",
                            "<tr><td>411</td><td>2</td></tr>",
                            "<tr><td>426</td><td>1</td></tr>",
                            "<tr><td>434</td><td>2</td></tr>",
                            "<tr><td>438</td><td>1</td></tr>",
                            "<tr><td>440</td><td>3</td></tr>",
                            "<tr><td>449</td><td>1</td></tr>",
                            "<tr><td>455</td><td>1</td></tr>",
                            "<tr><td>464</td><td>1</td></tr>",
                            "<tr><td>468</td><td>1</td></tr>",
                            "<tr><td>493</td><td>1</td></tr>",
                            "<tr><td>508</td><td>2</td></tr>",
                            "<tr><td>511</td><td>1</td></tr>",
                            "<tr><td>526</td><td>2</td></tr>",
                            "<tr><td>551</td><td>1</td></tr>",
                            "<tr><td>581</td><td>1</td></tr>",
                            "<tr><td>625</td><td>1</td></tr>",
                            "<tr><td>633</td><td>1</td></tr>",
                            "<tr><td>650</td><td>1</td></tr>",
                            "<tr><td>655</td><td>2</td></tr>",
                            "<tr><td>674</td><td>1</td></tr>",
                            "<tr><td>684</td><td>1</td></tr>",
                            "<tr><td>686</td><td>1</td></tr>",
                            "<tr><td>690</td><td>1</td></tr>",
                            "<tr><td>691</td><td>1</td></tr>",
                            "<tr><td>699</td><td>1</td></tr>",
                            "<tr><td>720</td><td>1</td></tr>",
                            "<tr><td>728</td><td>5</td></tr>",
                            "<tr><td>735</td><td>1</td></tr>",
                            "<tr><td>765</td><td>2</td></tr>",
                            "<tr><td>773</td><td>1</td></tr>",
                            "<tr><td>780</td><td>1</td></tr>",
                            "<tr><td>785</td><td>1</td></tr>",
                            "<tr><td>794</td><td>1</td></tr>",
                            "<tr><td>845</td><td>1</td></tr>",
                            "<tr><td>868</td><td>1</td></tr>",
                            "<tr><td>875</td><td>1</td></tr>",
                            "<tr><td>990</td><td>2</td></tr>",
                            "<tr><td>1019</td><td>1</td></tr>",
                            "<tr><td>1089</td><td>3</td></tr>",
                            "<tr><td>1147</td><td>1</td></tr>",
                            "<tr><td>1173</td><td>1</td></tr>",
                            "<tr><td>1290</td><td>2</td></tr>",
                            "<tr><td>1351</td><td>1</td></tr>",
                            "<tr><td>1377</td><td>1</td></tr>",
                            "<tr><td>1488</td><td>1</td></tr>",
                            "<tr><td>1500</td><td>1</td></tr>",
                            "<tr><td>1765</td><td>1</td></tr>",
                            "<tr><td>1990</td><td>1</td></tr>",
                            "<tr><td>2100</td><td>1</td></tr>",
                            "<tr><td>3900</td><td>2</td></tr>",
                            "<tr><td>4575</td><td>1</td></tr>",
                            "<tr><td>4990</td><td>2</td></tr>",
                            "<tr><td>6490</td><td>1</td></tr>",
                            "<tr><td>6900</td><td>2</td></tr>",
                            "<tr><td>7890</td><td>1</td></tr>",
                            "<tr><td>7900</td><td>2</td></tr>",
                            "<tr><td>8000</td><td>2</td></tr>",
                            "<tr><td>8290</td><td>1</td></tr>",
                            "<tr><td>8900</td><td>2</td></tr>",
                            "<tr><td>11900</td><td>1</td></tr>",
                            "<tr><td>14250</td><td>1</td></tr>",
                            "<tr><td>16900</td><td>2</td></tr>",
                            "<tr><td>22000</td><td>1</td></tr>",
                            "<tr><td>24000</td><td>1</td></tr>",
                            "<tr><td>32000</td><td>1</td></tr>",
                            "<tr><td>39000</td><td>1</td></tr>",
                            "<tr><td>46000</td><td>1</td></tr>",
                            "</table>"
                        ]
                    }
                }
            ],
            "execution_count": 29
        },
        {
            "cell_type": "markdown",
            "source": [
                "2\\. oszlop -\\> leiras"
            ],
            "metadata": {
                "azdata_cell_guid": "7f4db158-7f10-40d0-8639-392f7345a910"
            },
            "attachments": {}
        },
        {
            "cell_type": "code",
            "source": [
                "SELECT \r\n",
                "    COUNT(CASE WHEN LEIRAS IS NULL THEN 1 END) AS null_db,\r\n",
                "    COUNT(CASE WHEN LEIRAS IS NOT NULL THEN 1 END) AS nem_null_db\r\n",
                "FROM Termek;\r\n",
                ""
            ],
            "metadata": {
                "azdata_cell_guid": "9e965d7a-2581-4e3a-9eda-a972c1034f01",
                "language": "sql",
                "tags": []
            },
            "outputs": [
                {
                    "output_type": "display_data",
                    "data": {
                        "text/html": "Warning: Null value is eliminated by an aggregate or other SET operation."
                    },
                    "metadata": {}
                },
                {
                    "output_type": "display_data",
                    "data": {
                        "text/html": "(1 row affected)"
                    },
                    "metadata": {}
                },
                {
                    "output_type": "display_data",
                    "data": {
                        "text/html": "Total execution time: 00:00:00.013"
                    },
                    "metadata": {}
                },
                {
                    "output_type": "execute_result",
                    "metadata": {
                        "azdata_chartOptions": {
                            "type": "pie",
                            "dataDirection": "horizontal",
                            "columnsAsLabels": true,
                            "labelFirstColumn": false,
                            "legendPosition": "left"
                        }
                    },
                    "execution_count": 28,
                    "data": {
                        "application/vnd.dataresource+json": {
                            "schema": {
                                "fields": [
                                    {
                                        "name": "null_db"
                                    },
                                    {
                                        "name": "nem_null_db"
                                    }
                                ]
                            },
                            "data": [
                                {
                                    "null_db": "527",
                                    "nem_null_db": "24"
                                }
                            ]
                        },
                        "text/html": [
                            "<table>",
                            "<tr><th>null_db</th><th>nem_null_db</th></tr>",
                            "<tr><td>527</td><td>24</td></tr>",
                            "</table>"
                        ]
                    }
                }
            ],
            "execution_count": 28
        },
        {
            "cell_type": "markdown",
            "source": [
                "3\\. oszlop -\\> keszlet"
            ],
            "metadata": {
                "azdata_cell_guid": "210d3dfd-9015-489e-bc23-8454ded8dcae"
            },
            "attachments": {}
        },
        {
            "cell_type": "code",
            "source": [
                "--min, max, atlag\r\n",
                "SELECT MIN(KESZLET) AS min_db,\r\n",
                "         MAX(KESZLET) AS max_db, \r\n",
                "         AVG(KESZLET) AS atlag_db\r\n",
                "FROM Termek;\r\n",
                ""
            ],
            "metadata": {
                "azdata_cell_guid": "565cf552-5b97-4733-835c-5901c1750035",
                "language": "sql"
            },
            "outputs": [
                {
                    "output_type": "display_data",
                    "data": {
                        "text/html": "(1 row affected)"
                    },
                    "metadata": {}
                },
                {
                    "output_type": "display_data",
                    "data": {
                        "text/html": "Total execution time: 00:00:00.006"
                    },
                    "metadata": {}
                },
                {
                    "output_type": "execute_result",
                    "metadata": {},
                    "execution_count": 21,
                    "data": {
                        "application/vnd.dataresource+json": {
                            "schema": {
                                "fields": [
                                    {
                                        "name": "min_db"
                                    },
                                    {
                                        "name": "max_db"
                                    },
                                    {
                                        "name": "atlag_db"
                                    }
                                ]
                            },
                            "data": [
                                {
                                    "min_db": "0",
                                    "max_db": "50000",
                                    "atlag_db": "1585,9909255898367"
                                }
                            ]
                        },
                        "text/html": [
                            "<table>",
                            "<tr><th>min_db</th><th>max_db</th><th>atlag_db</th></tr>",
                            "<tr><td>0</td><td>50000</td><td>1585,9909255898367</td></tr>",
                            "</table>"
                        ]
                    }
                }
            ],
            "execution_count": 21
        },
        {
            "cell_type": "code",
            "source": [
                "\r\n",
                "--leszlet eloszlása\r\n",
                "SELECT KESZLET, COUNT(*) AS db\r\n",
                "FROM Termek\r\n",
                "GROUP BY KESZLET\r\n",
                "ORDER BY KESZLET;"
            ],
            "metadata": {
                "azdata_cell_guid": "44008fdb-4e0c-4f79-9c67-cc5463d3d8ca",
                "language": "sql"
            },
            "outputs": [
                {
                    "output_type": "display_data",
                    "data": {
                        "text/html": "(100 rows affected)"
                    },
                    "metadata": {}
                },
                {
                    "output_type": "display_data",
                    "data": {
                        "text/html": "Total execution time: 00:00:01.174"
                    },
                    "metadata": {}
                },
                {
                    "output_type": "execute_result",
                    "metadata": {
                        "azdata_chartOptions": {
                            "type": "bar",
                            "dataDirection": "vertical",
                            "columnsAsLabels": true,
                            "labelFirstColumn": false,
                            "legendPosition": "top"
                        }
                    },
                    "execution_count": 20,
                    "data": {
                        "application/vnd.dataresource+json": {
                            "schema": {
                                "fields": [
                                    {
                                        "name": "KESZLET"
                                    },
                                    {
                                        "name": "db"
                                    }
                                ]
                            },
                            "data": [
                                {
                                    "KESZLET": "0",
                                    "db": "2"
                                },
                                {
                                    "KESZLET": "53",
                                    "db": "1"
                                },
                                {
                                    "KESZLET": "77",
                                    "db": "2"
                                },
                                {
                                    "KESZLET": "78",
                                    "db": "1"
                                },
                                {
                                    "KESZLET": "100",
                                    "db": "107"
                                },
                                {
                                    "KESZLET": "105",
                                    "db": "1"
                                },
                                {
                                    "KESZLET": "113",
                                    "db": "1"
                                },
                                {
                                    "KESZLET": "119",
                                    "db": "1"
                                },
                                {
                                    "KESZLET": "150",
                                    "db": "1"
                                },
                                {
                                    "KESZLET": "162",
                                    "db": "1"
                                },
                                {
                                    "KESZLET": "173",
                                    "db": "1"
                                },
                                {
                                    "KESZLET": "182",
                                    "db": "1"
                                },
                                {
                                    "KESZLET": "200",
                                    "db": "83"
                                },
                                {
                                    "KESZLET": "205",
                                    "db": "1"
                                },
                                {
                                    "KESZLET": "229",
                                    "db": "1"
                                },
                                {
                                    "KESZLET": "238",
                                    "db": "1"
                                },
                                {
                                    "KESZLET": "264",
                                    "db": "1"
                                },
                                {
                                    "KESZLET": "283",
                                    "db": "1"
                                },
                                {
                                    "KESZLET": "289",
                                    "db": "1"
                                },
                                {
                                    "KESZLET": "297",
                                    "db": "1"
                                },
                                {
                                    "KESZLET": "300",
                                    "db": "46"
                                },
                                {
                                    "KESZLET": "323",
                                    "db": "1"
                                },
                                {
                                    "KESZLET": "325",
                                    "db": "1"
                                },
                                {
                                    "KESZLET": "328",
                                    "db": "1"
                                },
                                {
                                    "KESZLET": "355",
                                    "db": "1"
                                },
                                {
                                    "KESZLET": "369",
                                    "db": "2"
                                },
                                {
                                    "KESZLET": "373",
                                    "db": "1"
                                },
                                {
                                    "KESZLET": "376",
                                    "db": "1"
                                },
                                {
                                    "KESZLET": "381",
                                    "db": "1"
                                },
                                {
                                    "KESZLET": "389",
                                    "db": "1"
                                },
                                {
                                    "KESZLET": "396",
                                    "db": "1"
                                },
                                {
                                    "KESZLET": "400",
                                    "db": "29"
                                },
                                {
                                    "KESZLET": "406",
                                    "db": "1"
                                },
                                {
                                    "KESZLET": "449",
                                    "db": "1"
                                },
                                {
                                    "KESZLET": "468",
                                    "db": "1"
                                },
                                {
                                    "KESZLET": "470",
                                    "db": "1"
                                },
                                {
                                    "KESZLET": "500",
                                    "db": "27"
                                },
                                {
                                    "KESZLET": "600",
                                    "db": "17"
                                },
                                {
                                    "KESZLET": "700",
                                    "db": "15"
                                },
                                {
                                    "KESZLET": "800",
                                    "db": "8"
                                },
                                {
                                    "KESZLET": "900",
                                    "db": "17"
                                },
                                {
                                    "KESZLET": "1000",
                                    "db": "21"
                                },
                                {
                                    "KESZLET": "1100",
                                    "db": "7"
                                },
                                {
                                    "KESZLET": "1200",
                                    "db": "6"
                                },
                                {
                                    "KESZLET": "1300",
                                    "db": "6"
                                },
                                {
                                    "KESZLET": "1400",
                                    "db": "4"
                                },
                                {
                                    "KESZLET": "1500",
                                    "db": "9"
                                },
                                {
                                    "KESZLET": "1600",
                                    "db": "5"
                                },
                                {
                                    "KESZLET": "1700",
                                    "db": "2"
                                },
                                {
                                    "KESZLET": "1800",
                                    "db": "4"
                                },
                                {
                                    "KESZLET": "1900",
                                    "db": "5"
                                },
                                {
                                    "KESZLET": "2000",
                                    "db": "13"
                                },
                                {
                                    "KESZLET": "2010",
                                    "db": "1"
                                },
                                {
                                    "KESZLET": "2100",
                                    "db": "2"
                                },
                                {
                                    "KESZLET": "2200",
                                    "db": "5"
                                },
                                {
                                    "KESZLET": "2300",
                                    "db": "3"
                                },
                                {
                                    "KESZLET": "2400",
                                    "db": "2"
                                },
                                {
                                    "KESZLET": "2500",
                                    "db": "4"
                                },
                                {
                                    "KESZLET": "2600",
                                    "db": "6"
                                },
                                {
                                    "KESZLET": "2700",
                                    "db": "1"
                                },
                                {
                                    "KESZLET": "2800",
                                    "db": "1"
                                },
                                {
                                    "KESZLET": "2900",
                                    "db": "1"
                                },
                                {
                                    "KESZLET": "3000",
                                    "db": "5"
                                },
                                {
                                    "KESZLET": "3100",
                                    "db": "1"
                                },
                                {
                                    "KESZLET": "3200",
                                    "db": "1"
                                },
                                {
                                    "KESZLET": "3500",
                                    "db": "2"
                                },
                                {
                                    "KESZLET": "3600",
                                    "db": "3"
                                },
                                {
                                    "KESZLET": "3700",
                                    "db": "1"
                                },
                                {
                                    "KESZLET": "3900",
                                    "db": "2"
                                },
                                {
                                    "KESZLET": "4000",
                                    "db": "3"
                                },
                                {
                                    "KESZLET": "4100",
                                    "db": "1"
                                },
                                {
                                    "KESZLET": "4200",
                                    "db": "1"
                                },
                                {
                                    "KESZLET": "4300",
                                    "db": "1"
                                },
                                {
                                    "KESZLET": "4400",
                                    "db": "3"
                                },
                                {
                                    "KESZLET": "4500",
                                    "db": "1"
                                },
                                {
                                    "KESZLET": "4700",
                                    "db": "1"
                                },
                                {
                                    "KESZLET": "4900",
                                    "db": "1"
                                },
                                {
                                    "KESZLET": "5000",
                                    "db": "2"
                                },
                                {
                                    "KESZLET": "5100",
                                    "db": "1"
                                },
                                {
                                    "KESZLET": "5900",
                                    "db": "1"
                                },
                                {
                                    "KESZLET": "6000",
                                    "db": "2"
                                },
                                {
                                    "KESZLET": "6200",
                                    "db": "1"
                                },
                                {
                                    "KESZLET": "6600",
                                    "db": "1"
                                },
                                {
                                    "KESZLET": "6900",
                                    "db": "1"
                                },
                                {
                                    "KESZLET": "7000",
                                    "db": "1"
                                },
                                {
                                    "KESZLET": "7200",
                                    "db": "1"
                                },
                                {
                                    "KESZLET": "7700",
                                    "db": "1"
                                },
                                {
                                    "KESZLET": "8000",
                                    "db": "3"
                                },
                                {
                                    "KESZLET": "9000",
                                    "db": "2"
                                },
                                {
                                    "KESZLET": "10000",
                                    "db": "4"
                                },
                                {
                                    "KESZLET": "12000",
                                    "db": "1"
                                },
                                {
                                    "KESZLET": "12500",
                                    "db": "1"
                                },
                                {
                                    "KESZLET": "15000",
                                    "db": "1"
                                },
                                {
                                    "KESZLET": "22000",
                                    "db": "1"
                                },
                                {
                                    "KESZLET": "25000",
                                    "db": "1"
                                },
                                {
                                    "KESZLET": "26000",
                                    "db": "1"
                                },
                                {
                                    "KESZLET": "30000",
                                    "db": "1"
                                },
                                {
                                    "KESZLET": "35000",
                                    "db": "1"
                                },
                                {
                                    "KESZLET": "40000",
                                    "db": "1"
                                },
                                {
                                    "KESZLET": "50000",
                                    "db": "2"
                                }
                            ]
                        },
                        "text/html": [
                            "<table>",
                            "<tr><th>KESZLET</th><th>db</th></tr>",
                            "<tr><td>0</td><td>2</td></tr>",
                            "<tr><td>53</td><td>1</td></tr>",
                            "<tr><td>77</td><td>2</td></tr>",
                            "<tr><td>78</td><td>1</td></tr>",
                            "<tr><td>100</td><td>107</td></tr>",
                            "<tr><td>105</td><td>1</td></tr>",
                            "<tr><td>113</td><td>1</td></tr>",
                            "<tr><td>119</td><td>1</td></tr>",
                            "<tr><td>150</td><td>1</td></tr>",
                            "<tr><td>162</td><td>1</td></tr>",
                            "<tr><td>173</td><td>1</td></tr>",
                            "<tr><td>182</td><td>1</td></tr>",
                            "<tr><td>200</td><td>83</td></tr>",
                            "<tr><td>205</td><td>1</td></tr>",
                            "<tr><td>229</td><td>1</td></tr>",
                            "<tr><td>238</td><td>1</td></tr>",
                            "<tr><td>264</td><td>1</td></tr>",
                            "<tr><td>283</td><td>1</td></tr>",
                            "<tr><td>289</td><td>1</td></tr>",
                            "<tr><td>297</td><td>1</td></tr>",
                            "<tr><td>300</td><td>46</td></tr>",
                            "<tr><td>323</td><td>1</td></tr>",
                            "<tr><td>325</td><td>1</td></tr>",
                            "<tr><td>328</td><td>1</td></tr>",
                            "<tr><td>355</td><td>1</td></tr>",
                            "<tr><td>369</td><td>2</td></tr>",
                            "<tr><td>373</td><td>1</td></tr>",
                            "<tr><td>376</td><td>1</td></tr>",
                            "<tr><td>381</td><td>1</td></tr>",
                            "<tr><td>389</td><td>1</td></tr>",
                            "<tr><td>396</td><td>1</td></tr>",
                            "<tr><td>400</td><td>29</td></tr>",
                            "<tr><td>406</td><td>1</td></tr>",
                            "<tr><td>449</td><td>1</td></tr>",
                            "<tr><td>468</td><td>1</td></tr>",
                            "<tr><td>470</td><td>1</td></tr>",
                            "<tr><td>500</td><td>27</td></tr>",
                            "<tr><td>600</td><td>17</td></tr>",
                            "<tr><td>700</td><td>15</td></tr>",
                            "<tr><td>800</td><td>8</td></tr>",
                            "<tr><td>900</td><td>17</td></tr>",
                            "<tr><td>1000</td><td>21</td></tr>",
                            "<tr><td>1100</td><td>7</td></tr>",
                            "<tr><td>1200</td><td>6</td></tr>",
                            "<tr><td>1300</td><td>6</td></tr>",
                            "<tr><td>1400</td><td>4</td></tr>",
                            "<tr><td>1500</td><td>9</td></tr>",
                            "<tr><td>1600</td><td>5</td></tr>",
                            "<tr><td>1700</td><td>2</td></tr>",
                            "<tr><td>1800</td><td>4</td></tr>",
                            "<tr><td>1900</td><td>5</td></tr>",
                            "<tr><td>2000</td><td>13</td></tr>",
                            "<tr><td>2010</td><td>1</td></tr>",
                            "<tr><td>2100</td><td>2</td></tr>",
                            "<tr><td>2200</td><td>5</td></tr>",
                            "<tr><td>2300</td><td>3</td></tr>",
                            "<tr><td>2400</td><td>2</td></tr>",
                            "<tr><td>2500</td><td>4</td></tr>",
                            "<tr><td>2600</td><td>6</td></tr>",
                            "<tr><td>2700</td><td>1</td></tr>",
                            "<tr><td>2800</td><td>1</td></tr>",
                            "<tr><td>2900</td><td>1</td></tr>",
                            "<tr><td>3000</td><td>5</td></tr>",
                            "<tr><td>3100</td><td>1</td></tr>",
                            "<tr><td>3200</td><td>1</td></tr>",
                            "<tr><td>3500</td><td>2</td></tr>",
                            "<tr><td>3600</td><td>3</td></tr>",
                            "<tr><td>3700</td><td>1</td></tr>",
                            "<tr><td>3900</td><td>2</td></tr>",
                            "<tr><td>4000</td><td>3</td></tr>",
                            "<tr><td>4100</td><td>1</td></tr>",
                            "<tr><td>4200</td><td>1</td></tr>",
                            "<tr><td>4300</td><td>1</td></tr>",
                            "<tr><td>4400</td><td>3</td></tr>",
                            "<tr><td>4500</td><td>1</td></tr>",
                            "<tr><td>4700</td><td>1</td></tr>",
                            "<tr><td>4900</td><td>1</td></tr>",
                            "<tr><td>5000</td><td>2</td></tr>",
                            "<tr><td>5100</td><td>1</td></tr>",
                            "<tr><td>5900</td><td>1</td></tr>",
                            "<tr><td>6000</td><td>2</td></tr>",
                            "<tr><td>6200</td><td>1</td></tr>",
                            "<tr><td>6600</td><td>1</td></tr>",
                            "<tr><td>6900</td><td>1</td></tr>",
                            "<tr><td>7000</td><td>1</td></tr>",
                            "<tr><td>7200</td><td>1</td></tr>",
                            "<tr><td>7700</td><td>1</td></tr>",
                            "<tr><td>8000</td><td>3</td></tr>",
                            "<tr><td>9000</td><td>2</td></tr>",
                            "<tr><td>10000</td><td>4</td></tr>",
                            "<tr><td>12000</td><td>1</td></tr>",
                            "<tr><td>12500</td><td>1</td></tr>",
                            "<tr><td>15000</td><td>1</td></tr>",
                            "<tr><td>22000</td><td>1</td></tr>",
                            "<tr><td>25000</td><td>1</td></tr>",
                            "<tr><td>26000</td><td>1</td></tr>",
                            "<tr><td>30000</td><td>1</td></tr>",
                            "<tr><td>35000</td><td>1</td></tr>",
                            "<tr><td>40000</td><td>1</td></tr>",
                            "<tr><td>50000</td><td>2</td></tr>",
                            "</table>"
                        ]
                    }
                }
            ],
            "execution_count": 20
        }
    ]
}