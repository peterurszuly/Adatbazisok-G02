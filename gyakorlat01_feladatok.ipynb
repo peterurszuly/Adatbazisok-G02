{
    "metadata": {
        "kernelspec": {
            "name": "SQL",
            "display_name": "SQL",
            "language": "sql"
        },
        "language_info": {
            "name": "sql",
            "version": ""
        },
        "extensions": {
            "azuredatastudio": {
                "version": 1,
                "views": []
            }
        }
    },
    "nbformat_minor": 2,
    "nbformat": 4,
    "cells": [
        {
            "cell_type": "markdown",
            "source": [
                "1. Listázzuk a <span style=\"color: #800000;\">`kolcsonzes`</span> tábla következő oszlopait: ID, ki\\_datum, vissza\\_datum! \n",
                "\n",
                "  \n",
                "\n",
                "a.  Az ID oszlop neve legyen Azonosító\n",
                "\n",
                "b.  A ki\\_datum oszlop neve legyen Kölcsönzés\\_dátuma\n",
                "\n",
                "c.  A vissza\\_datum oszlop neve legyen Visszahozatal\\_dátuma"
            ],
            "metadata": {
                "azdata_cell_guid": "77f2d5b3-38e9-41cc-893f-f5afd02b97ef"
            },
            "attachments": {}
        },
        {
            "cell_type": "code",
            "source": [
                "SELECT  ID AS 'Azonosító',\r\n",
                "        ki_datum AS 'Kölcsönzés dátuma',\r\n",
                "        vissza_datum AS 'Visszahozatal dátuma'\r\n",
                "FROM kolcsonzesek\r\n",
                ""
            ],
            "metadata": {
                "azdata_cell_guid": "bd3cef1a-4e6e-4ece-9dc3-aaa9d2b5d66d",
                "tags": [],
                "language": "sql"
            },
            "outputs": [],
            "execution_count": null
        },
        {
            "cell_type": "markdown",
            "source": [
                "2. Melyek azok a kölcsönzések, amelyek 2005.01.01 és 2007.01.01 között történtek?"
            ],
            "metadata": {
                "azdata_cell_guid": "88f5b4bb-f4c1-4bad-a0c7-b2592687b422"
            },
            "attachments": {}
        },
        {
            "cell_type": "code",
            "source": [
                "SELECT *\r\n",
                "FROM kolcsonzesek\r\n",
                "WHERE ki_datum >= '2005.01.01' AND\r\n",
                "        ki_datum <= '2007.01.01'\r\n",
                "        --Where ki_datum between '2005.01.01' and '2007.01.01'"
            ],
            "metadata": {
                "azdata_cell_guid": "e9de5726-f036-4fb9-8c33-a873955ed886",
                "language": "sql",
                "tags": []
            },
            "outputs": [],
            "execution_count": null
        },
        {
            "cell_type": "markdown",
            "source": [
                "3. Melyek azok a tagok, akiknek kedvenc stílusa a játék, és nevük a-ra végződik?\n",
                "\n",
                "  \n",
                "\n",
                "a.  Csak a tagok neve jelenjen meg, az oszlop neve Név legyen"
            ],
            "metadata": {
                "azdata_cell_guid": "9e7249de-1b59-43d8-84b1-26fa7d81fc5a"
            },
            "attachments": {}
        },
        {
            "cell_type": "code",
            "source": [
                "--LIKE\r\n",
                "SELECT nev AS 'Név'\r\n",
                "FROM tagok\r\n",
                "WHERE kedvencstilus = 'játék' and\r\n",
                "        nev like '%a'\r\n",
                ""
            ],
            "metadata": {
                "azdata_cell_guid": "6405d3e8-a9b1-45d7-aa76-3b1e785ef6cc",
                "language": "sql"
            },
            "outputs": [],
            "execution_count": null
        },
        {
            "cell_type": "markdown",
            "source": [
                "4. Listázzuk egy oszlopban a tagok nevét, címét és kedvenc stílusát összefűzve! \n",
                "\n",
                "  \n",
                "\n",
                "a.  A nevet, címet és a stílust kötőjellel válasszuk el\n",
                "\n",
                "b.  A kötőjelek előtt és után legyen 1-1 szóköz\n",
                "\n",
                "c.  Az oszlop neve legyen TAG\n",
                "\n",
                "d.  Kinga keresztnevű tagok ne legyenek benne a listában"
            ],
            "metadata": {
                "azdata_cell_guid": "6478e469-c094-472c-a772-ccd5b5c61516"
            },
            "attachments": {}
        },
        {
            "cell_type": "code",
            "source": [
                "SELECT nev+' - ' + cim + ' - ' + kedvencstilus as 'Tag'\r\n",
                "FROM tagok\r\n",
                "WHERE nev NOT LIKE '%kinga'\r\n",
                ""
            ],
            "metadata": {
                "azdata_cell_guid": "02031ea2-3838-458d-839c-228e3b362b61",
                "language": "sql"
            },
            "outputs": [],
            "execution_count": null
        },
        {
            "cell_type": "markdown",
            "source": [
                "5. Mennyi lenne a dvd-k nettó ára, ha 20%-kal csökkenne? \n",
                "\n",
                "  \n",
                "\n",
                "a.  Csak a dvd-k címét és a csökkentett árat jelenítsük meg\n",
                "\n",
                "b.  A csökkentett árat nevezzük el diszkont\\_ar-nak"
            ],
            "metadata": {
                "azdata_cell_guid": "9edbbaf9-c276-4898-9a01-e1b2993c089f"
            },
            "attachments": {}
        },
        {
            "cell_type": "code",
            "source": [
                "SELECT  cim, \r\n",
                "        nettoar * 0,8 AS 'diszkont_ar'--diszkont ár kiszám\r\n",
                "FROM dvd\r\n",
                ""
            ],
            "metadata": {
                "azdata_cell_guid": "5ad5fdcb-2878-4111-861a-833bcd50e935",
                "language": "sql"
            },
            "outputs": [
                {
                    "output_type": "display_data",
                    "data": {
                        "text/html": "(318 rows affected)"
                    },
                    "metadata": {}
                },
                {
                    "output_type": "display_data",
                    "data": {
                        "text/html": "Total execution time: 00:00:00.020"
                    },
                    "metadata": {}
                },
                {
                    "output_type": "execute_result",
                    "metadata": {},
                    "execution_count": 9,
                    "data": {
                        "application/vnd.dataresource+json": {
                            "schema": {
                                "fields": [
                                    {
                                        "name": "cim"
                                    },
                                    {
                                        "name": "(No column name)"
                                    },
                                    {
                                        "name": "diszkont_ar"
                                    }
                                ]
                            },
                            "data": [
                                {
                                    "cim": "NULL",
                                    "(No column name)": "0",
                                    "diszkont_ar": "8"
                                },
                                {
                                    "cim": "A II. világháború története (1999)",
                                    "(No column name)": "0",
                                    "diszkont_ar": "8"
                                },
                                {
                                    "cim": "3D Dinosaur - adventure",
                                    "(No column name)": "0",
                                    "diszkont_ar": "8"
                                },
                                {
                                    "cim": "3D virtuális origami (2000)",
                                    "(No column name)": "0",
                                    "diszkont_ar": "8"
                                },
                                {
                                    "cim": "Az 1848-1849-iki szabadságharc története (2002)",
                                    "(No column name)": "0",
                                    "diszkont_ar": "8"
                                },
                                {
                                    "cim": "Ablak zsiráf (1999)",
                                    "(No column name)": "0",
                                    "diszkont_ar": "8"
                                },
                                {
                                    "cim": "Ady Endre összes művei (1999)",
                                    "(No column name)": "0",
                                    "diszkont_ar": "8"
                                },
                                {
                                    "cim": "Afrika",
                                    "(No column name)": "0",
                                    "diszkont_ar": "8"
                                },
                                {
                                    "cim": "Age of Empires (2000)",
                                    "(No column name)": "0",
                                    "diszkont_ar": "8"
                                },
                                {
                                    "cim": "Airport Inc.",
                                    "(No column name)": "0",
                                    "diszkont_ar": "8"
                                },
                                {
                                    "cim": "American Rodeo : BullRider 2000 (2001)",
                                    "(No column name)": "0",
                                    "diszkont_ar": "8"
                                },
                                {
                                    "cim": "Angol : 8-10 éveseknek (2002)",
                                    "(No column name)": "0",
                                    "diszkont_ar": "8"
                                },
                                {
                                    "cim": "Angol és német nyelvtani gyakorlatok (2002)",
                                    "(No column name)": "0",
                                    "diszkont_ar": "8"
                                },
                                {
                                    "cim": "Angol szótanító CD-ROM",
                                    "(No column name)": "0",
                                    "diszkont_ar": "8"
                                },
                                {
                                    "cim": "Angol szótanító CD-ROM",
                                    "(No column name)": "0",
                                    "diszkont_ar": "8"
                                },
                                {
                                    "cim": "Angol szótár (1996)",
                                    "(No column name)": "0",
                                    "diszkont_ar": "8"
                                },
                                {
                                    "cim": "Angol-magyar, Magyar-angol hangosszótár",
                                    "(No column name)": "0",
                                    "diszkont_ar": "8"
                                },
                                {
                                    "cim": "Angol-magyar nagyszótár (Halász Előd)",
                                    "(No column name)": "0",
                                    "diszkont_ar": "8"
                                },
                                {
                                    "cim": "Az áramvonalas fakanál",
                                    "(No column name)": "0",
                                    "diszkont_ar": "8"
                                },
                                {
                                    "cim": "Arany János: A bajusz (2002)",
                                    "(No column name)": "0",
                                    "diszkont_ar": "8"
                                },
                                {
                                    "cim": "Az Árpád-ház története",
                                    "(No column name)": "0",
                                    "diszkont_ar": "8"
                                },
                                {
                                    "cim": "Art Attack (1998)",
                                    "(No column name)": "0",
                                    "diszkont_ar": "8"
                                },
                                {
                                    "cim": "Art puzzle (1998)",
                                    "(No column name)": "0",
                                    "diszkont_ar": "8"
                                },
                                {
                                    "cim": "Az ásványok világa",
                                    "(No column name)": "0",
                                    "diszkont_ar": "8"
                                },
                                {
                                    "cim": "Ausztrália",
                                    "(No column name)": "0",
                                    "diszkont_ar": "8"
                                },
                                {
                                    "cim": "Auto 2000 - Kerékvilág",
                                    "(No column name)": "0",
                                    "diszkont_ar": "8"
                                },
                                {
                                    "cim": "Ázsia (2000)",
                                    "(No column name)": "0",
                                    "diszkont_ar": "8"
                                },
                                {
                                    "cim": "Biblia (1995)",
                                    "(No column name)": "0",
                                    "diszkont_ar": "8"
                                },
                                {
                                    "cim": "Biológia '97",
                                    "(No column name)": "0",
                                    "diszkont_ar": "8"
                                },
                                {
                                    "cim": "Biológia (2000)",
                                    "(No column name)": "0",
                                    "diszkont_ar": "8"
                                },
                                {
                                    "cim": "Biológia (2001)",
                                    "(No column name)": "0",
                                    "diszkont_ar": "8"
                                },
                                {
                                    "cim": "Biológia : 12-14 éveseknek (2003)",
                                    "(No column name)": "0",
                                    "diszkont_ar": "8"
                                },
                                {
                                    "cim": "Blinky Bill : A fantasztikus léggömbkaland",
                                    "(No column name)": "0",
                                    "diszkont_ar": "8"
                                },
                                {
                                    "cim": "Broken Sword II. (cop. 1997)",
                                    "(No column name)": "0",
                                    "diszkont_ar": "8"
                                },
                                {
                                    "cim": "Budapest kalauz",
                                    "(No column name)": "0",
                                    "diszkont_ar": "8"
                                },
                                {
                                    "cim": "Budapest Museum",
                                    "(No column name)": "0",
                                    "diszkont_ar": "8"
                                },
                                {
                                    "cim": "Buggy",
                                    "(No column name)": "0",
                                    "diszkont_ar": "8"
                                },
                                {
                                    "cim": "Byte Magyarország (2002)",
                                    "(No column name)": "0",
                                    "diszkont_ar": "8"
                                },
                                {
                                    "cim": "Caesar III.",
                                    "(No column name)": "0",
                                    "diszkont_ar": "8"
                                },
                                {
                                    "cim": "Capitalism II. (2001)",
                                    "(No column name)": "0",
                                    "diszkont_ar": "8"
                                },
                                {
                                    "cim": "Capitalism Plus",
                                    "(No column name)": "0",
                                    "diszkont_ar": "8"
                                },
                                {
                                    "cim": "Castle Explorer",
                                    "(No column name)": "0",
                                    "diszkont_ar": "8"
                                },
                                {
                                    "cim": "CD Panoráma 1-4. (1998)",
                                    "(No column name)": "0",
                                    "diszkont_ar": "8"
                                },
                                {
                                    "cim": "Computer iskola (1998)",
                                    "(No column name)": "0",
                                    "diszkont_ar": "8"
                                },
                                {
                                    "cim": "Csizmás kandúr (1998)",
                                    "(No column name)": "0",
                                    "diszkont_ar": "8"
                                },
                                {
                                    "cim": "Csodálatos univerzum (1997)",
                                    "(No column name)": "0",
                                    "diszkont_ar": "8"
                                },
                                {
                                    "cim": "Dél-Amerika (1999)",
                                    "(No column name)": "0",
                                    "diszkont_ar": "8"
                                },
                                {
                                    "cim": "Dementia 1-5. (1997)",
                                    "(No column name)": "0",
                                    "diszkont_ar": "8"
                                },
                                {
                                    "cim": "Deutsch: Anfanger (kezdő) + Telepítő ",
                                    "(No column name)": "0",
                                    "diszkont_ar": "8"
                                },
                                {
                                    "cim": "Deutsch: Fortgeschrittene (haladó) + Installation",
                                    "(No column name)": "0",
                                    "diszkont_ar": "8"
                                },
                                {
                                    "cim": "Deutsch: Mittelstufe (középhaladó)+ Telepítő",
                                    "(No column name)": "0",
                                    "diszkont_ar": "8"
                                },
                                {
                                    "cim": "Diablo",
                                    "(No column name)": "0",
                                    "diszkont_ar": "8"
                                },
                                {
                                    "cim": "Diablo II. (2000)",
                                    "(No column name)": "0",
                                    "diszkont_ar": "8"
                                },
                                {
                                    "cim": "Dicső napok és hétköznapok 1848 - Digitális forrásgyűjtemény 1.",
                                    "(No column name)": "0",
                                    "diszkont_ar": "8"
                                },
                                {
                                    "cim": "Dreams to Reality 1-2. (1997)",
                                    "(No column name)": "0",
                                    "diszkont_ar": "8"
                                },
                                {
                                    "cim": "Duke Nukem 3D",
                                    "(No column name)": "0",
                                    "diszkont_ar": "8"
                                },
                                {
                                    "cim": "Dungeon Keeper 2. (1999)",
                                    "(No column name)": "0",
                                    "diszkont_ar": "8"
                                },
                                {
                                    "cim": "E-Games : Collector's Edition (2001)",
                                    "(No column name)": "0",
                                    "diszkont_ar": "8"
                                },
                                {
                                    "cim": "Éléstár (1998)",
                                    "(No column name)": "0",
                                    "diszkont_ar": "8"
                                },
                                {
                                    "cim": "Élet a polgárosodó Magyarországon (2001)",
                                    "(No column name)": "0",
                                    "diszkont_ar": "8"
                                },
                                {
                                    "cim": "Életképek 1848 (1998)",
                                    "(No column name)": "0",
                                    "diszkont_ar": "8"
                                },
                                {
                                    "cim": "Az ember tragédiája",
                                    "(No column name)": "0",
                                    "diszkont_ar": "8"
                                },
                                {
                                    "cim": "Encarta World Atlas '99 1-2. (1998)",
                                    "(No column name)": "0",
                                    "diszkont_ar": "8"
                                },
                                {
                                    "cim": "Enemy Engaged RAH-66",
                                    "(No column name)": "0",
                                    "diszkont_ar": "8"
                                },
                                {
                                    "cim": "English 1-2. + Telepítő",
                                    "(No column name)": "0",
                                    "diszkont_ar": "8"
                                },
                                {
                                    "cim": "English: Intermediate (haladó)",
                                    "(No column name)": "0",
                                    "diszkont_ar": "8"
                                },
                                {
                                    "cim": "English by Stealth  lásd: Lopva angolul",
                                    "(No column name)": "0",
                                    "diszkont_ar": "8"
                                },
                                {
                                    "cim": "Erdély (1996)",
                                    "(No column name)": "0",
                                    "diszkont_ar": "8"
                                },
                                {
                                    "cim": "Espanol: Intermedio + Telepítő",
                                    "(No column name)": "0",
                                    "diszkont_ar": "8"
                                },
                                {
                                    "cim": "Espanol: Principiante + Telepítő",
                                    "(No column name)": "0",
                                    "diszkont_ar": "8"
                                },
                                {
                                    "cim": "Észak-Amerika",
                                    "(No column name)": "0",
                                    "diszkont_ar": "8"
                                },
                                {
                                    "cim": "Európa",
                                    "(No column name)": "0",
                                    "diszkont_ar": "8"
                                },
                                {
                                    "cim": "The F.A. Premier League Stars 2001",
                                    "(No column name)": "0",
                                    "diszkont_ar": "8"
                                },
                                {
                                    "cim": "Felvételi példatár : Angol",
                                    "(No column name)": "0",
                                    "diszkont_ar": "8"
                                },
                                {
                                    "cim": "Felvételi példatár : Biológia, földrajz",
                                    "(No column name)": "0",
                                    "diszkont_ar": "8"
                                },
                                {
                                    "cim": "Felvételi példatár : Kémia, fizika",
                                    "(No column name)": "0",
                                    "diszkont_ar": "8"
                                },
                                {
                                    "cim": "Felvételi példatár : Magyar nyelv és irodalom",
                                    "(No column name)": "0",
                                    "diszkont_ar": "8"
                                },
                                {
                                    "cim": "Felvételi példatár : Matematika",
                                    "(No column name)": "0",
                                    "diszkont_ar": "8"
                                },
                                {
                                    "cim": "Felvételi példatár : Német",
                                    "(No column name)": "0",
                                    "diszkont_ar": "8"
                                },
                                {
                                    "cim": "FIFA, 2000 (1999)",
                                    "(No column name)": "0",
                                    "diszkont_ar": "8"
                                },
                                {
                                    "cim": "Fighting Force (1998)",
                                    "(No column name)": "0",
                                    "diszkont_ar": "8"
                                },
                                {
                                    "cim": "Final Liberation (1997)",
                                    "(No column name)": "0",
                                    "diszkont_ar": "8"
                                },
                                {
                                    "cim": "Fitness mesterfokon / Béres Alexandra (2001)",
                                    "(No column name)": "0",
                                    "diszkont_ar": "8"
                                },
                                {
                                    "cim": "Fizika : 12-14 éveseknek (2002)",
                                    "(No column name)": "0",
                                    "diszkont_ar": "8"
                                },
                                {
                                    "cim": "Fizika felkészítő az érettségi és felvételi vizsgára",
                                    "(No column name)": "0",
                                    "diszkont_ar": "8"
                                },
                                {
                                    "cim": "Fizika világa (2001)",
                                    "(No column name)": "0",
                                    "diszkont_ar": "8"
                                },
                                {
                                    "cim": "A Föld élővilága",
                                    "(No column name)": "0",
                                    "diszkont_ar": "8"
                                },
                                {
                                    "cim": "Földrajz: 10-14 éveseknek (2002)",
                                    "(No column name)": "0",
                                    "diszkont_ar": "8"
                                },
                                {
                                    "cim": "Földrajz: érettségi előkészítő (2002)",
                                    "(No column name)": "0",
                                    "diszkont_ar": "8"
                                },
                                {
                                    "cim": "Francais 1-2. + Telepítő",
                                    "(No column name)": "0",
                                    "diszkont_ar": "8"
                                },
                                {
                                    "cim": "Francais: Débutan (kezdő) + Telepítő",
                                    "(No column name)": "0",
                                    "diszkont_ar": "8"
                                },
                                {
                                    "cim": "Francais: Moyen + Telepítő",
                                    "(No column name)": "0",
                                    "diszkont_ar": "8"
                                },
                                {
                                    "cim": "Francia-magyar szótár",
                                    "(No column name)": "0",
                                    "diszkont_ar": "8"
                                },
                                {
                                    "cim": "Funschool in Dreamland (1995)",
                                    "(No column name)": "0",
                                    "diszkont_ar": "8"
                                },
                                {
                                    "cim": "Geolexikon 4.2 : földtani adatbázis (2002)",
                                    "(No column name)": "0",
                                    "diszkont_ar": "8"
                                },
                                {
                                    "cim": "Gépírás 2000",
                                    "(No column name)": "0",
                                    "diszkont_ar": "8"
                                },
                                {
                                    "cim": "Gondolattár: aforizmák, szállóigék",
                                    "(No column name)": "0",
                                    "diszkont_ar": "8"
                                },
                                {
                                    "cim": "GTA 2",
                                    "(No column name)": "0",
                                    "diszkont_ar": "8"
                                },
                                {
                                    "cim": "Hadiflották I. (2002)",
                                    "(No column name)": "0",
                                    "diszkont_ar": "8"
                                },
                                {
                                    "cim": "Hadtudományi lexikon (1998)",
                                    "(No column name)": "0",
                                    "diszkont_ar": "8"
                                },
                                {
                                    "cim": "Hajdúböszörmény",
                                    "(No column name)": "0",
                                    "diszkont_ar": "8"
                                },
                                {
                                    "cim": "Halak, kétéltűek, hüllők",
                                    "(No column name)": "0",
                                    "diszkont_ar": "8"
                                },
                                {
                                    "cim": "Half-Life (1996)",
                                    "(No column name)": "0",
                                    "diszkont_ar": "8"
                                },
                                {
                                    "cim": "Half-Life Generation: Game of the Year Edition (2002)",
                                    "(No column name)": "0",
                                    "diszkont_ar": "8"
                                },
                                {
                                    "cim": "Half-Life Generation: Counter Strike (2002)",
                                    "(No column name)": "0",
                                    "diszkont_ar": "8"
                                },
                                {
                                    "cim": "Half-Life Generation: Blue Shift (2002)",
                                    "(No column name)": "0",
                                    "diszkont_ar": "8"
                                },
                                {
                                    "cim": "Harry Potter és a bölcsek köve (2001)",
                                    "(No column name)": "0",
                                    "diszkont_ar": "8"
                                },
                                {
                                    "cim": "Haza és haladás",
                                    "(No column name)": "0",
                                    "diszkont_ar": "8"
                                },
                                {
                                    "cim": "A hét világcsoda (2001)",
                                    "(No column name)": "0",
                                    "diszkont_ar": "8"
                                },
                                {
                                    "cim": "Home Desing 3D (1998)",
                                    "(No column name)": "0",
                                    "diszkont_ar": "8"
                                },
                                {
                                    "cim": "Hupikék törpikék: teletransportörp (1999)",
                                    "(No column name)": "0",
                                    "diszkont_ar": "8"
                                },
                                {
                                    "cim": "Informatika - Internet - Iskola",
                                    "(No column name)": "0",
                                    "diszkont_ar": "8"
                                },
                                {
                                    "cim": "Interaktív angol nyelvész kurzus haladó szint 1-5.",
                                    "(No column name)": "0",
                                    "diszkont_ar": "8"
                                },
                                {
                                    "cim": "Interaktív angol nyelvész kurzus kezdő szint",
                                    "(No column name)": "0",
                                    "diszkont_ar": "8"
                                },
                                {
                                    "cim": "Interaktív angol nyelvész kurzus középhaladó szint",
                                    "(No column name)": "0",
                                    "diszkont_ar": "8"
                                },
                                {
                                    "cim": "Interaktív magyar nyelvtan",
                                    "(No column name)": "0",
                                    "diszkont_ar": "8"
                                },
                                {
                                    "cim": "International Rally Championship",
                                    "(No column name)": "0",
                                    "diszkont_ar": "8"
                                },
                                {
                                    "cim": "Internet (1996)",
                                    "(No column name)": "0",
                                    "diszkont_ar": "8"
                                },
                                {
                                    "cim": "Introduction to Archeology",
                                    "(No column name)": "0",
                                    "diszkont_ar": "8"
                                },
                                {
                                    "cim": "Investigating 20th Century Art (1994)",
                                    "(No column name)": "0",
                                    "diszkont_ar": "8"
                                },
                                {
                                    "cim": "Az ipari forradalom kora (2000)",
                                    "(No column name)": "0",
                                    "diszkont_ar": "8"
                                },
                                {
                                    "cim": "Irodalmi arcképcsarnok",
                                    "(No column name)": "0",
                                    "diszkont_ar": "8"
                                },
                                {
                                    "cim": "Irodalom  felkészítő az érettségi és felvételi vizsgára",
                                    "(No column name)": "0",
                                    "diszkont_ar": "8"
                                },
                                {
                                    "cim": "Irodalom (1998)",
                                    "(No column name)": "0",
                                    "diszkont_ar": "8"
                                },
                                {
                                    "cim": "Italiano (1998) + Installation",
                                    "(No column name)": "0",
                                    "diszkont_ar": "8"
                                },
                                {
                                    "cim": "Italiano 1-2. (1998) + Installation",
                                    "(No column name)": "0",
                                    "diszkont_ar": "8"
                                },
                                {
                                    "cim": "Italiano 1-2. (1998) + Installation",
                                    "(No column name)": "0",
                                    "diszkont_ar": "8"
                                },
                                {
                                    "cim": "Jancsó",
                                    "(No column name)": "0",
                                    "diszkont_ar": "8"
                                },
                                {
                                    "cim": "Japán : képes kulturális atlasz (2001)",
                                    "(No column name)": "0",
                                    "diszkont_ar": "8"
                                },
                                {
                                    "cim": "Játékfilmek 1963-tól napjainkig",
                                    "(No column name)": "0",
                                    "diszkont_ar": "8"
                                },
                                {
                                    "cim": "Játszóház (1998)",
                                    "(No column name)": "0",
                                    "diszkont_ar": "8"
                                },
                                {
                                    "cim": "Jókai összes művei (2001)",
                                    "(No column name)": "0",
                                    "diszkont_ar": "8"
                                },
                                {
                                    "cim": "József Attila (1998)",
                                    "(No column name)": "0",
                                    "diszkont_ar": "8"
                                },
                                {
                                    "cim": "A jövő titkai - Interaktív horoszkóp (1998)",
                                    "(No column name)": "0",
                                    "diszkont_ar": "8"
                                },
                                {
                                    "cim": "Kártyaváros",
                                    "(No column name)": "0",
                                    "diszkont_ar": "8"
                                },
                                {
                                    "cim": "Kémia Kalauz 2.",
                                    "(No column name)": "0",
                                    "diszkont_ar": "8"
                                },
                                {
                                    "cim": "A kémkedés és a hírszerzés története (2002)",
                                    "(No column name)": "0",
                                    "diszkont_ar": "8"
                                },
                                {
                                    "cim": "Képes krónika (1996)",
                                    "(No column name)": "0",
                                    "diszkont_ar": "8"
                                },
                                {
                                    "cim": "Képtárak (1995)",
                                    "(No column name)": "0",
                                    "diszkont_ar": "8"
                                },
                                {
                                    "cim": "Kereszt és félhold",
                                    "(No column name)": "0",
                                    "diszkont_ar": "8"
                                },
                                {
                                    "cim": "Kétfejű sas: A Habsburg-uralom Magyarországon (1699-1790)",
                                    "(No column name)": "0",
                                    "diszkont_ar": "8"
                                },
                                {
                                    "cim": "Kettős kötődés: Az Osztrák-Magyar Monarchia (1867-1918)",
                                    "(No column name)": "0",
                                    "diszkont_ar": "8"
                                },
                                {
                                    "cim": "Kínai falatok",
                                    "(No column name)": "0",
                                    "diszkont_ar": "8"
                                },
                                {
                                    "cim": "Királyi könyvek 1-9. kötet",
                                    "(No column name)": "0",
                                    "diszkont_ar": "8"
                                },
                                {
                                    "cim": "Királyi könyvek 18-26. kötet",
                                    "(No column name)": "0",
                                    "diszkont_ar": "8"
                                },
                                {
                                    "cim": "Királyi könyvek 27-38. kötet : 1703-1740 (2002)",
                                    "(No column name)": "0",
                                    "diszkont_ar": "8"
                                },
                                {
                                    "cim": "Kispál és a borz (1998)",
                                    "(No column name)": "0",
                                    "diszkont_ar": "8"
                                },
                                {
                                    "cim": "Kossuth Lajos összes munkái (2002)",
                                    "(No column name)": "0",
                                    "diszkont_ar": "8"
                                },
                                {
                                    "cim": "Környezetvédelmi kalauz (1999)",
                                    "(No column name)": "0",
                                    "diszkont_ar": "8"
                                },
                                {
                                    "cim": "Kötelező olvasmányok könyvtára 1. (2002)",
                                    "(No column name)": "0",
                                    "diszkont_ar": "8"
                                },
                                {
                                    "cim": "A kőszívű ember fiai - Egri csillagok",
                                    "(No column name)": "0",
                                    "diszkont_ar": "8"
                                },
                                {
                                    "cim": "A kutyák: A család kedvencei",
                                    "(No column name)": "0",
                                    "diszkont_ar": "8"
                                },
                                {
                                    "cim": "Kutyatár",
                                    "(No column name)": "0",
                                    "diszkont_ar": "8"
                                },
                                {
                                    "cim": "KvízIQ : A hét világcsoda (2001)",
                                    "(No column name)": "0",
                                    "diszkont_ar": "8"
                                },
                                {
                                    "cim": "Lakáskultúra 2000 (2000)",
                                    "(No column name)": "0",
                                    "diszkont_ar": "8"
                                },
                                {
                                    "cim": "Lakáskultúra 1999 (1999)",
                                    "(No column name)": "0",
                                    "diszkont_ar": "8"
                                },
                                {
                                    "cim": "Lakáskultúra 1998 (1998)",
                                    "(No column name)": "0",
                                    "diszkont_ar": "8"
                                },
                                {
                                    "cim": "Lakáskultúra 1997 (1997)",
                                    "(No column name)": "0",
                                    "diszkont_ar": "8"
                                },
                                {
                                    "cim": "Lakáskultúra 1996 (1996)",
                                    "(No column name)": "0",
                                    "diszkont_ar": "8"
                                },
                                {
                                    "cim": "Lands of Lore II. 1-4. (1997)",
                                    "(No column name)": "0",
                                    "diszkont_ar": "8"
                                },
                                {
                                    "cim": "Landscape Design 3D (1998)",
                                    "(No column name)": "0",
                                    "diszkont_ar": "8"
                                },
                                {
                                    "cim": "Legféltettebb természeti értékeink",
                                    "(No column name)": "0",
                                    "diszkont_ar": "8"
                                },
                                {
                                    "cim": "Legszebb vadnövényeink",
                                    "(No column name)": "0",
                                    "diszkont_ar": "8"
                                },
                                {
                                    "cim": "Leonardo da Vinci",
                                    "(No column name)": "0",
                                    "diszkont_ar": "8"
                                },
                                {
                                    "cim": "Lilenthal Andor sakkjátszmái",
                                    "(No column name)": "0",
                                    "diszkont_ar": "8"
                                },
                                {
                                    "cim": "Lopva angolul /English by Stealth 1.",
                                    "(No column name)": "0",
                                    "diszkont_ar": "8"
                                },
                                {
                                    "cim": "Lopva angolul /English by Stealth 2.",
                                    "(No column name)": "0",
                                    "diszkont_ar": "8"
                                },
                                {
                                    "cim": "Lopva angolul /English by Stealth 3.",
                                    "(No column name)": "0",
                                    "diszkont_ar": "8"
                                },
                                {
                                    "cim": "Lovagkirályok (1301-1437) (1997)",
                                    "(No column name)": "0",
                                    "diszkont_ar": "8"
                                },
                                {
                                    "cim": "LoveQ, SexQ : szerelmi intelligencia (2001)",
                                    "(No column name)": "0",
                                    "diszkont_ar": "8"
                                },
                                {
                                    "cim": "M1 Tank (1998)",
                                    "(No column name)": "0",
                                    "diszkont_ar": "8"
                                },
                                {
                                    "cim": "Mackó úr (2002)",
                                    "(No column name)": "0",
                                    "diszkont_ar": "8"
                                },
                                {
                                    "cim": "Madárdalos kirándulások - Madártani oktató CD-ROM (1999)",
                                    "(No column name)": "0",
                                    "diszkont_ar": "8"
                                },
                                {
                                    "cim": "Magyar bélyegek katalógusa",
                                    "(No column name)": "0",
                                    "diszkont_ar": "8"
                                },
                                {
                                    "cim": "Magyar fontok '97",
                                    "(No column name)": "0",
                                    "diszkont_ar": "8"
                                },
                                {
                                    "cim": "A Magyar Koronázási Jelvények",
                                    "(No column name)": "0",
                                    "diszkont_ar": "8"
                                },
                                {
                                    "cim": "Magyar nyelv és irodalom",
                                    "(No column name)": "0",
                                    "diszkont_ar": "8"
                                },
                                {
                                    "cim": "Magyar színházművészet a világban",
                                    "(No column name)": "0",
                                    "diszkont_ar": "8"
                                },
                                {
                                    "cim": "Magyarország, 1944-1956 (2001)",
                                    "(No column name)": "0",
                                    "diszkont_ar": "8"
                                },
                                {
                                    "cim": "Magyarország, 1944-1956 (2001)",
                                    "(No column name)": "0",
                                    "diszkont_ar": "8"
                                },
                                {
                                    "cim": "Magyarország Nemzeti Parkjai I.",
                                    "(No column name)": "0",
                                    "diszkont_ar": "8"
                                },
                                {
                                    "cim": "Magyarország Nemzeti Parkjai II.",
                                    "(No column name)": "0",
                                    "diszkont_ar": "8"
                                },
                                {
                                    "cim": "Magyarországi várak (1998)",
                                    "(No column name)": "0",
                                    "diszkont_ar": "8"
                                },
                                {
                                    "cim": "Mahjongg Master (1998)",
                                    "(No column name)": "0",
                                    "diszkont_ar": "8"
                                },
                                {
                                    "cim": "Manó Angol 1.",
                                    "(No column name)": "0",
                                    "diszkont_ar": "8"
                                },
                                {
                                    "cim": "Manó Angol 1. (2002)",
                                    "(No column name)": "0",
                                    "diszkont_ar": "8"
                                },
                                {
                                    "cim": "Manó Angol 2.",
                                    "(No column name)": "0",
                                    "diszkont_ar": "8"
                                },
                                {
                                    "cim": "Manó Angol 2. (2000)",
                                    "(No column name)": "0",
                                    "diszkont_ar": "8"
                                },
                                {
                                    "cim": "Manó Élővilág",
                                    "(No column name)": "0",
                                    "diszkont_ar": "8"
                                },
                                {
                                    "cim": "Manó Élővilág (2002)",
                                    "(No column name)": "0",
                                    "diszkont_ar": "8"
                                },
                                {
                                    "cim": "Manó IQ (2001)",
                                    "(No column name)": "0",
                                    "diszkont_ar": "8"
                                },
                                {
                                    "cim": "Manó Kaland (2002)",
                                    "(No column name)": "0",
                                    "diszkont_ar": "8"
                                },
                                {
                                    "cim": "Manó Magyarország (2002)",
                                    "(No column name)": "0",
                                    "diszkont_ar": "8"
                                },
                                {
                                    "cim": "Manó Matek 1.",
                                    "(No column name)": "0",
                                    "diszkont_ar": "8"
                                },
                                {
                                    "cim": "Manó Matek 1. (2002)",
                                    "(No column name)": "0",
                                    "diszkont_ar": "8"
                                },
                                {
                                    "cim": "Manó Matek 2. (1999)",
                                    "(No column name)": "0",
                                    "diszkont_ar": "8"
                                },
                                {
                                    "cim": "Manó Matek 2. (1999)",
                                    "(No column name)": "0",
                                    "diszkont_ar": "8"
                                },
                                {
                                    "cim": "Manó Matek 3.",
                                    "(No column name)": "0",
                                    "diszkont_ar": "8"
                                },
                                {
                                    "cim": "Manó Muzsika",
                                    "(No column name)": "0",
                                    "diszkont_ar": "8"
                                },
                                {
                                    "cim": "Manó Muzsika",
                                    "(No column name)": "0",
                                    "diszkont_ar": "8"
                                },
                                {
                                    "cim": "Manó Német 2.",
                                    "(No column name)": "0",
                                    "diszkont_ar": "8"
                                },
                                {
                                    "cim": "Manó Olvasás 1.",
                                    "(No column name)": "0",
                                    "diszkont_ar": "8"
                                },
                                {
                                    "cim": "Manó Puzzle (2002)",
                                    "(No column name)": "0",
                                    "diszkont_ar": "8"
                                },
                                {
                                    "cim": "Matematika (1998)",
                                    "(No column name)": "0",
                                    "diszkont_ar": "8"
                                },
                                {
                                    "cim": "Matematika felkészítő az érettségi és felvételi vizsgára",
                                    "(No column name)": "0",
                                    "diszkont_ar": "8"
                                },
                                {
                                    "cim": "Matematika kalauz (1997)",
                                    "(No column name)": "0",
                                    "diszkont_ar": "8"
                                },
                                {
                                    "cim": "Mig-29 (1998)",
                                    "(No column name)": "0",
                                    "diszkont_ar": "8"
                                },
                                {
                                    "cim": "Mikszáth Kálmán összes művei",
                                    "(No column name)": "0",
                                    "diszkont_ar": "8"
                                },
                                {
                                    "cim": "Mini Manó Tavasz",
                                    "(No column name)": "0",
                                    "diszkont_ar": "8"
                                },
                                {
                                    "cim": "MoBi Mouse: A fordító egér",
                                    "(No column name)": "0",
                                    "diszkont_ar": "8"
                                },
                                {
                                    "cim": "Monopoly Junior",
                                    "(No column name)": "0",
                                    "diszkont_ar": "8"
                                },
                                {
                                    "cim": "Mons Sacer Pannoniae (2001)",
                                    "(No column name)": "0",
                                    "diszkont_ar": "8"
                                },
                                {
                                    "cim": "Moving Puzzle Action Flight (2000)",
                                    "(No column name)": "0",
                                    "diszkont_ar": "8"
                                },
                                {
                                    "cim": "Multimédiás Menedzsment Könyvtár 1. - Változásmenedzsment",
                                    "(No column name)": "0",
                                    "diszkont_ar": "8"
                                },
                                {
                                    "cim": "Multimédiás Menedzsment Könyvtár 2. - Önszervezés",
                                    "(No column name)": "0",
                                    "diszkont_ar": "8"
                                },
                                {
                                    "cim": "Musique! (1997)",
                                    "(No column name)": "0",
                                    "diszkont_ar": "8"
                                },
                                {
                                    "cim": "Művészet és mesterség",
                                    "(No column name)": "0",
                                    "diszkont_ar": "8"
                                },
                                {
                                    "cim": "Művészet és művészek (2002)",
                                    "(No column name)": "0",
                                    "diszkont_ar": "8"
                                },
                                {
                                    "cim": "Nagy képes világtörténet (Matczáli Henrik) (1998)",
                                    "(No column name)": "0",
                                    "diszkont_ar": "8"
                                },
                                {
                                    "cim": "Nagy vicc tár",
                                    "(No column name)": "0",
                                    "diszkont_ar": "8"
                                },
                                {
                                    "cim": "A Nagybányai Festőiskola (1998)",
                                    "(No column name)": "0",
                                    "diszkont_ar": "8"
                                },
                                {
                                    "cim": "NASA 1.",
                                    "(No column name)": "0",
                                    "diszkont_ar": "8"
                                },
                                {
                                    "cim": "NASA 2.",
                                    "(No column name)": "0",
                                    "diszkont_ar": "8"
                                },
                                {
                                    "cim": "Na, So Was? - Minden helyzetben otthonosan",
                                    "(No column name)": "0",
                                    "diszkont_ar": "8"
                                },
                                {
                                    "cim": "Német : 8-10 éveseknek (2002)",
                                    "(No column name)": "0",
                                    "diszkont_ar": "8"
                                },
                                {
                                    "cim": "Német szótanító CD-ROM",
                                    "(No column name)": "0",
                                    "diszkont_ar": "8"
                                },
                                {
                                    "cim": "Németh László összes műve",
                                    "(No column name)": "0",
                                    "diszkont_ar": "8"
                                },
                                {
                                    "cim": "New York : a tragédiák városa (2001)",
                                    "(No column name)": "0",
                                    "diszkont_ar": "8"
                                },
                                {
                                    "cim": "NHL 2001",
                                    "(No column name)": "0",
                                    "diszkont_ar": "8"
                                },
                                {
                                    "cim": "Nincs királyi út - A matematika kultúrtörténete",
                                    "(No column name)": "0",
                                    "diszkont_ar": "8"
                                },
                                {
                                    "cim": "Nyelvész : Angol és német haladóknak (1997)",
                                    "(No column name)": "0",
                                    "diszkont_ar": "8"
                                },
                                {
                                    "cim": "Nyelvtan összefoglaló : érettségi előkészítő (2002)",
                                    "(No column name)": "0",
                                    "diszkont_ar": "8"
                                },
                                {
                                    "cim": "Az óceán világa - Maldiv szigetek (2000)",
                                    "(No column name)": "0",
                                    "diszkont_ar": "8"
                                },
                                {
                                    "cim": "Ókori lexikon",
                                    "(No column name)": "0",
                                    "diszkont_ar": "8"
                                },
                                {
                                    "cim": "Olasz-magyar, magyar-olasz digitális szótár",
                                    "(No column name)": "0",
                                    "diszkont_ar": "8"
                                },
                                {
                                    "cim": "Olasz szótanító CD-ROM",
                                    "(No column name)": "0",
                                    "diszkont_ar": "8"
                                },
                                {
                                    "cim": "Orosz (1998)",
                                    "(No column name)": "0",
                                    "diszkont_ar": "8"
                                },
                                {
                                    "cim": "Orosz-magyar nagyszótár",
                                    "(No column name)": "0",
                                    "diszkont_ar": "8"
                                },
                                {
                                    "cim": "Az Országos Széchényi Könyvtár corvinái, 2002 (2002)",
                                    "(No column name)": "0",
                                    "diszkont_ar": "8"
                                },
                                {
                                    "cim": "Az Osztrák-Magyar Monarchia írásban és képekben (2001)",
                                    "(No column name)": "0",
                                    "diszkont_ar": "8"
                                },
                                {
                                    "cim": "Paddle Bash (2001)",
                                    "(No column name)": "0",
                                    "diszkont_ar": "8"
                                },
                                {
                                    "cim": "Pannon Enciklopédia (1998)",
                                    "(No column name)": "0",
                                    "diszkont_ar": "8"
                                },
                                {
                                    "cim": "Pannonhalmi Főapátság (2001)",
                                    "(No column name)": "0",
                                    "diszkont_ar": "8"
                                },
                                {
                                    "cim": "Panzer General III: Scorched Earth (2000)",
                                    "(No column name)": "0",
                                    "diszkont_ar": "8"
                                },
                                {
                                    "cim": "People's General (1998)",
                                    "(No column name)": "0",
                                    "diszkont_ar": "8"
                                },
                                {
                                    "cim": "Petőfi Sándor: Arany Lacinak (2002)",
                                    "(No column name)": "0",
                                    "diszkont_ar": "8"
                                },
                                {
                                    "cim": "Petőfi Sándor összes költeményei",
                                    "(No column name)": "0",
                                    "diszkont_ar": "8"
                                },
                                {
                                    "cim": "Plane Crazy",
                                    "(No column name)": "0",
                                    "diszkont_ar": "8"
                                },
                                {
                                    "cim": "Quake III. (2001)",
                                    "(No column name)": "0",
                                    "diszkont_ar": "8"
                                },
                                {
                                    "cim": "Rákóczi-szabadságharc",
                                    "(No column name)": "0",
                                    "diszkont_ar": "8"
                                },
                                {
                                    "cim": "Rally Championship",
                                    "(No column name)": "0",
                                    "diszkont_ar": "8"
                                },
                                {
                                    "cim": "Rayman: Matek és olvasás",
                                    "(No column name)": "0",
                                    "diszkont_ar": "8"
                                },
                                {
                                    "cim": "Re-Volt (1999)",
                                    "(No column name)": "0",
                                    "diszkont_ar": "8"
                                },
                                {
                                    "cim": "The Settlers III. 1-2. (1998)",
                                    "(No column name)": "0",
                                    "diszkont_ar": "8"
                                },
                                {
                                    "cim": "The Settlers IV. (2001)",
                                    "(No column name)": "0",
                                    "diszkont_ar": "8"
                                },
                                {
                                    "cim": "Shanghai (1997)",
                                    "(No column name)": "0",
                                    "diszkont_ar": "8"
                                },
                                {
                                    "cim": "The Sims",
                                    "(No column name)": "0",
                                    "diszkont_ar": "8"
                                },
                                {
                                    "cim": "Sonic Racer",
                                    "(No column name)": "0",
                                    "diszkont_ar": "8"
                                },
                                {
                                    "cim": "Spanyol (1997)",
                                    "(No column name)": "0",
                                    "diszkont_ar": "8"
                                },
                                {
                                    "cim": "Spanyol-magyar szótár",
                                    "(No column name)": "0",
                                    "diszkont_ar": "8"
                                },
                                {
                                    "cim": "Star Wars: Battle for Naboo",
                                    "(No column name)": "0",
                                    "diszkont_ar": "8"
                                },
                                {
                                    "cim": "Star Wars: Force Commander (2001)",
                                    "(No column name)": "0",
                                    "diszkont_ar": "8"
                                },
                                {
                                    "cim": "Star Wars : Rogue Squadron 3D",
                                    "(No column name)": "0",
                                    "diszkont_ar": "8"
                                },
                                {
                                    "cim": "Supreme Snowboarding",
                                    "(No column name)": "0",
                                    "diszkont_ar": "8"
                                },
                                {
                                    "cim": "Szabadítsd ki a kisoroszlánt!",
                                    "(No column name)": "0",
                                    "diszkont_ar": "8"
                                },
                                {
                                    "cim": "Szabadságharc 1848-49 (1988)",
                                    "(No column name)": "0",
                                    "diszkont_ar": "8"
                                },
                                {
                                    "cim": "A szabadságharc népzenei emlékei",
                                    "(No column name)": "0",
                                    "diszkont_ar": "8"
                                },
                                {
                                    "cim": "Szolfézs: Kezdőknek és haladóknak",
                                    "(No column name)": "0",
                                    "diszkont_ar": "8"
                                },
                                {
                                    "cim": "Talk To Me Deutsch 2-4.",
                                    "(No column name)": "0",
                                    "diszkont_ar": "8"
                                },
                                {
                                    "cim": "Talk To Me English 1.",
                                    "(No column name)": "0",
                                    "diszkont_ar": "8"
                                },
                                {
                                    "cim": "Talk To Me Francais 1-2.",
                                    "(No column name)": "0",
                                    "diszkont_ar": "8"
                                },
                                {
                                    "cim": "Tankok, tüzérség (2002)",
                                    "(No column name)": "0",
                                    "diszkont_ar": "8"
                                },
                                {
                                    "cim": "Tanulj tovább! 2000 (2000)",
                                    "(No column name)": "0",
                                    "diszkont_ar": "8"
                                },
                                {
                                    "cim": "Táplálkozás, életmód mesterfokon (2002)",
                                    "(No column name)": "0",
                                    "diszkont_ar": "8"
                                },
                                {
                                    "cim": "Target English (1998)",
                                    "(No column name)": "0",
                                    "diszkont_ar": "8"
                                },
                                {
                                    "cim": "Tarzan",
                                    "(No column name)": "0",
                                    "diszkont_ar": "8"
                                },
                                {
                                    "cim": "Terrorizmus (2002)",
                                    "(No column name)": "0",
                                    "diszkont_ar": "8"
                                },
                                {
                                    "cim": "Testbeszéd (1998)",
                                    "(No column name)": "0",
                                    "diszkont_ar": "8"
                                },
                                {
                                    "cim": "Tesztre készen: angol (1998)",
                                    "(No column name)": "0",
                                    "diszkont_ar": "8"
                                },
                                {
                                    "cim": "Tesztre készen: német (1998)",
                                    "(No column name)": "0",
                                    "diszkont_ar": "8"
                                },
                                {
                                    "cim": "Thaiföldi ízek (1999)",
                                    "(No column name)": "0",
                                    "diszkont_ar": "8"
                                },
                                {
                                    "cim": "Timeshock!",
                                    "(No column name)": "0",
                                    "diszkont_ar": "8"
                                },
                                {
                                    "cim": "Tomi megmenti a tengert (2000)",
                                    "(No column name)": "0",
                                    "diszkont_ar": "8"
                                },
                                {
                                    "cim": "Touché - The Adventures of the Fifth",
                                    "(No column name)": "0",
                                    "diszkont_ar": "8"
                                },
                                {
                                    "cim": "Toy Story 2.",
                                    "(No column name)": "0",
                                    "diszkont_ar": "8"
                                },
                                {
                                    "cim": "Történelem (1998)",
                                    "(No column name)": "0",
                                    "diszkont_ar": "8"
                                },
                                {
                                    "cim": "Történelem : 10-14 éveseknek (2002)",
                                    "(No column name)": "0",
                                    "diszkont_ar": "8"
                                },
                                {
                                    "cim": "Történelem : középiskola 1. osztály (2002)",
                                    "(No column name)": "0",
                                    "diszkont_ar": "8"
                                },
                                {
                                    "cim": "Történelem : középiskola 4. osztály (2002)",
                                    "(No column name)": "0",
                                    "diszkont_ar": "8"
                                },
                                {
                                    "cim": "Traffic Giant",
                                    "(No column name)": "0",
                                    "diszkont_ar": "8"
                                },
                                {
                                    "cim": "Train Simulator (2002)",
                                    "(No column name)": "0",
                                    "diszkont_ar": "8"
                                },
                                {
                                    "cim": "Trickstyle",
                                    "(No column name)": "0",
                                    "diszkont_ar": "8"
                                },
                                {
                                    "cim": "A tudás próbája (2001)",
                                    "(No column name)": "0",
                                    "diszkont_ar": "8"
                                },
                                {
                                    "cim": "Turul : 1883-1900 (2002)",
                                    "(No column name)": "0",
                                    "diszkont_ar": "8"
                                },
                                {
                                    "cim": "UEFA Champions Leage Season",
                                    "(No column name)": "0",
                                    "diszkont_ar": "8"
                                },
                                {
                                    "cim": "Új Könyvek 1994-2000 (2002)",
                                    "(No column name)": "0",
                                    "diszkont_ar": "8"
                                },
                                {
                                    "cim": "Az Univerzum története",
                                    "(No column name)": "0",
                                    "diszkont_ar": "8"
                                },
                                {
                                    "cim": "Utazás a csillagok között (1998)",
                                    "(No column name)": "0",
                                    "diszkont_ar": "8"
                                },
                                {
                                    "cim": "Utazás a Naprendszerben",
                                    "(No column name)": "0",
                                    "diszkont_ar": "8"
                                },
                                {
                                    "cim": "Utazás a Naprendszerben 2.",
                                    "(No column name)": "0",
                                    "diszkont_ar": "8"
                                },
                                {
                                    "cim": "Úton 2. (1998)",
                                    "(No column name)": "0",
                                    "diszkont_ar": "8"
                                },
                                {
                                    "cim": "Üzleti protokoll CD (2002)",
                                    "(No column name)": "0",
                                    "diszkont_ar": "8"
                                },
                                {
                                    "cim": "Várak, kastélyok, legendák 1.",
                                    "(No column name)": "0",
                                    "diszkont_ar": "8"
                                },
                                {
                                    "cim": "Várak, kastélyok, legendák 2. (2002)",
                                    "(No column name)": "0",
                                    "diszkont_ar": "8"
                                },
                                {
                                    "cim": "A varázslatos emberi test (1998)",
                                    "(No column name)": "0",
                                    "diszkont_ar": "8"
                                },
                                {
                                    "cim": "Varázslatos szülinap",
                                    "(No column name)": "0",
                                    "diszkont_ar": "8"
                                },
                                {
                                    "cim": "Varázslatos történelmi nyomozás",
                                    "(No column name)": "0",
                                    "diszkont_ar": "8"
                                },
                                {
                                    "cim": "A városi élet a Római Birodalomban (1999)",
                                    "(No column name)": "0",
                                    "diszkont_ar": "8"
                                },
                                {
                                    "cim": "A Vazul-ág (1038-1301) (1997)",
                                    "(No column name)": "0",
                                    "diszkont_ar": "8"
                                },
                                {
                                    "cim": "Világatlasz '99 (1998)",
                                    "(No column name)": "0",
                                    "diszkont_ar": "8"
                                },
                                {
                                    "cim": "Világatlasz '99 (1998)",
                                    "(No column name)": "0",
                                    "diszkont_ar": "8"
                                },
                                {
                                    "cim": "Világatlasz (2001)",
                                    "(No column name)": "0",
                                    "diszkont_ar": "8"
                                },
                                {
                                    "cim": "Világirodalom : Az ókortól napjainkig (2001)",
                                    "(No column name)": "0",
                                    "diszkont_ar": "8"
                                },
                                {
                                    "cim": "Volt egyszer egy Magyarország",
                                    "(No column name)": "0",
                                    "diszkont_ar": "8"
                                },
                                {
                                    "cim": "Warcraft III. (2002)",
                                    "(No column name)": "0",
                                    "diszkont_ar": "8"
                                },
                                {
                                    "cim": "William Shakespeare összes művei",
                                    "(No column name)": "0",
                                    "diszkont_ar": "8"
                                },
                                {
                                    "cim": "Zielpunkt Deutsch (1997)",
                                    "(No column name)": "0",
                                    "diszkont_ar": "8"
                                },
                                {
                                    "cim": "Zöld Ödön a földgömbön",
                                    "(No column name)": "0",
                                    "diszkont_ar": "8"
                                }
                            ]
                        },
                        "text/html": [
                            "<table>",
                            "<tr><th>cim</th><th>(No column name)</th><th>diszkont_ar</th></tr>",
                            "<tr><td>NULL</td><td>0</td><td>8</td></tr>",
                            "<tr><td>A II. világháború története (1999)</td><td>0</td><td>8</td></tr>",
                            "<tr><td>3D Dinosaur - adventure</td><td>0</td><td>8</td></tr>",
                            "<tr><td>3D virtuális origami (2000)</td><td>0</td><td>8</td></tr>",
                            "<tr><td>Az 1848-1849-iki szabadságharc története (2002)</td><td>0</td><td>8</td></tr>",
                            "<tr><td>Ablak zsiráf (1999)</td><td>0</td><td>8</td></tr>",
                            "<tr><td>Ady Endre összes művei (1999)</td><td>0</td><td>8</td></tr>",
                            "<tr><td>Afrika</td><td>0</td><td>8</td></tr>",
                            "<tr><td>Age of Empires (2000)</td><td>0</td><td>8</td></tr>",
                            "<tr><td>Airport Inc.</td><td>0</td><td>8</td></tr>",
                            "<tr><td>American Rodeo : BullRider 2000 (2001)</td><td>0</td><td>8</td></tr>",
                            "<tr><td>Angol : 8-10 éveseknek (2002)</td><td>0</td><td>8</td></tr>",
                            "<tr><td>Angol és német nyelvtani gyakorlatok (2002)</td><td>0</td><td>8</td></tr>",
                            "<tr><td>Angol szótanító CD-ROM</td><td>0</td><td>8</td></tr>",
                            "<tr><td>Angol szótanító CD-ROM</td><td>0</td><td>8</td></tr>",
                            "<tr><td>Angol szótár (1996)</td><td>0</td><td>8</td></tr>",
                            "<tr><td>Angol-magyar, Magyar-angol hangosszótár</td><td>0</td><td>8</td></tr>",
                            "<tr><td>Angol-magyar nagyszótár (Halász Előd)</td><td>0</td><td>8</td></tr>",
                            "<tr><td>Az áramvonalas fakanál</td><td>0</td><td>8</td></tr>",
                            "<tr><td>Arany János: A bajusz (2002)</td><td>0</td><td>8</td></tr>",
                            "<tr><td>Az Árpád-ház története</td><td>0</td><td>8</td></tr>",
                            "<tr><td>Art Attack (1998)</td><td>0</td><td>8</td></tr>",
                            "<tr><td>Art puzzle (1998)</td><td>0</td><td>8</td></tr>",
                            "<tr><td>Az ásványok világa</td><td>0</td><td>8</td></tr>",
                            "<tr><td>Ausztrália</td><td>0</td><td>8</td></tr>",
                            "<tr><td>Auto 2000 - Kerékvilág</td><td>0</td><td>8</td></tr>",
                            "<tr><td>Ázsia (2000)</td><td>0</td><td>8</td></tr>",
                            "<tr><td>Biblia (1995)</td><td>0</td><td>8</td></tr>",
                            "<tr><td>Biológia '97</td><td>0</td><td>8</td></tr>",
                            "<tr><td>Biológia (2000)</td><td>0</td><td>8</td></tr>",
                            "<tr><td>Biológia (2001)</td><td>0</td><td>8</td></tr>",
                            "<tr><td>Biológia : 12-14 éveseknek (2003)</td><td>0</td><td>8</td></tr>",
                            "<tr><td>Blinky Bill : A fantasztikus léggömbkaland</td><td>0</td><td>8</td></tr>",
                            "<tr><td>Broken Sword II. (cop. 1997)</td><td>0</td><td>8</td></tr>",
                            "<tr><td>Budapest kalauz</td><td>0</td><td>8</td></tr>",
                            "<tr><td>Budapest Museum</td><td>0</td><td>8</td></tr>",
                            "<tr><td>Buggy</td><td>0</td><td>8</td></tr>",
                            "<tr><td>Byte Magyarország (2002)</td><td>0</td><td>8</td></tr>",
                            "<tr><td>Caesar III.</td><td>0</td><td>8</td></tr>",
                            "<tr><td>Capitalism II. (2001)</td><td>0</td><td>8</td></tr>",
                            "<tr><td>Capitalism Plus</td><td>0</td><td>8</td></tr>",
                            "<tr><td>Castle Explorer</td><td>0</td><td>8</td></tr>",
                            "<tr><td>CD Panoráma 1-4. (1998)</td><td>0</td><td>8</td></tr>",
                            "<tr><td>Computer iskola (1998)</td><td>0</td><td>8</td></tr>",
                            "<tr><td>Csizmás kandúr (1998)</td><td>0</td><td>8</td></tr>",
                            "<tr><td>Csodálatos univerzum (1997)</td><td>0</td><td>8</td></tr>",
                            "<tr><td>Dél-Amerika (1999)</td><td>0</td><td>8</td></tr>",
                            "<tr><td>Dementia 1-5. (1997)</td><td>0</td><td>8</td></tr>",
                            "<tr><td>Deutsch: Anfanger (kezdő) + Telepítő </td><td>0</td><td>8</td></tr>",
                            "<tr><td>Deutsch: Fortgeschrittene (haladó) + Installation</td><td>0</td><td>8</td></tr>",
                            "<tr><td>Deutsch: Mittelstufe (középhaladó)+ Telepítő</td><td>0</td><td>8</td></tr>",
                            "<tr><td>Diablo</td><td>0</td><td>8</td></tr>",
                            "<tr><td>Diablo II. (2000)</td><td>0</td><td>8</td></tr>",
                            "<tr><td>Dicső napok és hétköznapok 1848 - Digitális forrásgyűjtemény 1.</td><td>0</td><td>8</td></tr>",
                            "<tr><td>Dreams to Reality 1-2. (1997)</td><td>0</td><td>8</td></tr>",
                            "<tr><td>Duke Nukem 3D</td><td>0</td><td>8</td></tr>",
                            "<tr><td>Dungeon Keeper 2. (1999)</td><td>0</td><td>8</td></tr>",
                            "<tr><td>E-Games : Collector's Edition (2001)</td><td>0</td><td>8</td></tr>",
                            "<tr><td>Éléstár (1998)</td><td>0</td><td>8</td></tr>",
                            "<tr><td>Élet a polgárosodó Magyarországon (2001)</td><td>0</td><td>8</td></tr>",
                            "<tr><td>Életképek 1848 (1998)</td><td>0</td><td>8</td></tr>",
                            "<tr><td>Az ember tragédiája</td><td>0</td><td>8</td></tr>",
                            "<tr><td>Encarta World Atlas '99 1-2. (1998)</td><td>0</td><td>8</td></tr>",
                            "<tr><td>Enemy Engaged RAH-66</td><td>0</td><td>8</td></tr>",
                            "<tr><td>English 1-2. + Telepítő</td><td>0</td><td>8</td></tr>",
                            "<tr><td>English: Intermediate (haladó)</td><td>0</td><td>8</td></tr>",
                            "<tr><td>English by Stealth  lásd: Lopva angolul</td><td>0</td><td>8</td></tr>",
                            "<tr><td>Erdély (1996)</td><td>0</td><td>8</td></tr>",
                            "<tr><td>Espanol: Intermedio + Telepítő</td><td>0</td><td>8</td></tr>",
                            "<tr><td>Espanol: Principiante + Telepítő</td><td>0</td><td>8</td></tr>",
                            "<tr><td>Észak-Amerika</td><td>0</td><td>8</td></tr>",
                            "<tr><td>Európa</td><td>0</td><td>8</td></tr>",
                            "<tr><td>The F.A. Premier League Stars 2001</td><td>0</td><td>8</td></tr>",
                            "<tr><td>Felvételi példatár : Angol</td><td>0</td><td>8</td></tr>",
                            "<tr><td>Felvételi példatár : Biológia, földrajz</td><td>0</td><td>8</td></tr>",
                            "<tr><td>Felvételi példatár : Kémia, fizika</td><td>0</td><td>8</td></tr>",
                            "<tr><td>Felvételi példatár : Magyar nyelv és irodalom</td><td>0</td><td>8</td></tr>",
                            "<tr><td>Felvételi példatár : Matematika</td><td>0</td><td>8</td></tr>",
                            "<tr><td>Felvételi példatár : Német</td><td>0</td><td>8</td></tr>",
                            "<tr><td>FIFA, 2000 (1999)</td><td>0</td><td>8</td></tr>",
                            "<tr><td>Fighting Force (1998)</td><td>0</td><td>8</td></tr>",
                            "<tr><td>Final Liberation (1997)</td><td>0</td><td>8</td></tr>",
                            "<tr><td>Fitness mesterfokon / Béres Alexandra (2001)</td><td>0</td><td>8</td></tr>",
                            "<tr><td>Fizika : 12-14 éveseknek (2002)</td><td>0</td><td>8</td></tr>",
                            "<tr><td>Fizika felkészítő az érettségi és felvételi vizsgára</td><td>0</td><td>8</td></tr>",
                            "<tr><td>Fizika világa (2001)</td><td>0</td><td>8</td></tr>",
                            "<tr><td>A Föld élővilága</td><td>0</td><td>8</td></tr>",
                            "<tr><td>Földrajz: 10-14 éveseknek (2002)</td><td>0</td><td>8</td></tr>",
                            "<tr><td>Földrajz: érettségi előkészítő (2002)</td><td>0</td><td>8</td></tr>",
                            "<tr><td>Francais 1-2. + Telepítő</td><td>0</td><td>8</td></tr>",
                            "<tr><td>Francais: Débutan (kezdő) + Telepítő</td><td>0</td><td>8</td></tr>",
                            "<tr><td>Francais: Moyen + Telepítő</td><td>0</td><td>8</td></tr>",
                            "<tr><td>Francia-magyar szótár</td><td>0</td><td>8</td></tr>",
                            "<tr><td>Funschool in Dreamland (1995)</td><td>0</td><td>8</td></tr>",
                            "<tr><td>Geolexikon 4.2 : földtani adatbázis (2002)</td><td>0</td><td>8</td></tr>",
                            "<tr><td>Gépírás 2000</td><td>0</td><td>8</td></tr>",
                            "<tr><td>Gondolattár: aforizmák, szállóigék</td><td>0</td><td>8</td></tr>",
                            "<tr><td>GTA 2</td><td>0</td><td>8</td></tr>",
                            "<tr><td>Hadiflották I. (2002)</td><td>0</td><td>8</td></tr>",
                            "<tr><td>Hadtudományi lexikon (1998)</td><td>0</td><td>8</td></tr>",
                            "<tr><td>Hajdúböszörmény</td><td>0</td><td>8</td></tr>",
                            "<tr><td>Halak, kétéltűek, hüllők</td><td>0</td><td>8</td></tr>",
                            "<tr><td>Half-Life (1996)</td><td>0</td><td>8</td></tr>",
                            "<tr><td>Half-Life Generation: Game of the Year Edition (2002)</td><td>0</td><td>8</td></tr>",
                            "<tr><td>Half-Life Generation: Counter Strike (2002)</td><td>0</td><td>8</td></tr>",
                            "<tr><td>Half-Life Generation: Blue Shift (2002)</td><td>0</td><td>8</td></tr>",
                            "<tr><td>Harry Potter és a bölcsek köve (2001)</td><td>0</td><td>8</td></tr>",
                            "<tr><td>Haza és haladás</td><td>0</td><td>8</td></tr>",
                            "<tr><td>A hét világcsoda (2001)</td><td>0</td><td>8</td></tr>",
                            "<tr><td>Home Desing 3D (1998)</td><td>0</td><td>8</td></tr>",
                            "<tr><td>Hupikék törpikék: teletransportörp (1999)</td><td>0</td><td>8</td></tr>",
                            "<tr><td>Informatika - Internet - Iskola</td><td>0</td><td>8</td></tr>",
                            "<tr><td>Interaktív angol nyelvész kurzus haladó szint 1-5.</td><td>0</td><td>8</td></tr>",
                            "<tr><td>Interaktív angol nyelvész kurzus kezdő szint</td><td>0</td><td>8</td></tr>",
                            "<tr><td>Interaktív angol nyelvész kurzus középhaladó szint</td><td>0</td><td>8</td></tr>",
                            "<tr><td>Interaktív magyar nyelvtan</td><td>0</td><td>8</td></tr>",
                            "<tr><td>International Rally Championship</td><td>0</td><td>8</td></tr>",
                            "<tr><td>Internet (1996)</td><td>0</td><td>8</td></tr>",
                            "<tr><td>Introduction to Archeology</td><td>0</td><td>8</td></tr>",
                            "<tr><td>Investigating 20th Century Art (1994)</td><td>0</td><td>8</td></tr>",
                            "<tr><td>Az ipari forradalom kora (2000)</td><td>0</td><td>8</td></tr>",
                            "<tr><td>Irodalmi arcképcsarnok</td><td>0</td><td>8</td></tr>",
                            "<tr><td>Irodalom  felkészítő az érettségi és felvételi vizsgára</td><td>0</td><td>8</td></tr>",
                            "<tr><td>Irodalom (1998)</td><td>0</td><td>8</td></tr>",
                            "<tr><td>Italiano (1998) + Installation</td><td>0</td><td>8</td></tr>",
                            "<tr><td>Italiano 1-2. (1998) + Installation</td><td>0</td><td>8</td></tr>",
                            "<tr><td>Italiano 1-2. (1998) + Installation</td><td>0</td><td>8</td></tr>",
                            "<tr><td>Jancsó</td><td>0</td><td>8</td></tr>",
                            "<tr><td>Japán : képes kulturális atlasz (2001)</td><td>0</td><td>8</td></tr>",
                            "<tr><td>Játékfilmek 1963-tól napjainkig</td><td>0</td><td>8</td></tr>",
                            "<tr><td>Játszóház (1998)</td><td>0</td><td>8</td></tr>",
                            "<tr><td>Jókai összes művei (2001)</td><td>0</td><td>8</td></tr>",
                            "<tr><td>József Attila (1998)</td><td>0</td><td>8</td></tr>",
                            "<tr><td>A jövő titkai - Interaktív horoszkóp (1998)</td><td>0</td><td>8</td></tr>",
                            "<tr><td>Kártyaváros</td><td>0</td><td>8</td></tr>",
                            "<tr><td>Kémia Kalauz 2.</td><td>0</td><td>8</td></tr>",
                            "<tr><td>A kémkedés és a hírszerzés története (2002)</td><td>0</td><td>8</td></tr>",
                            "<tr><td>Képes krónika (1996)</td><td>0</td><td>8</td></tr>",
                            "<tr><td>Képtárak (1995)</td><td>0</td><td>8</td></tr>",
                            "<tr><td>Kereszt és félhold</td><td>0</td><td>8</td></tr>",
                            "<tr><td>Kétfejű sas: A Habsburg-uralom Magyarországon (1699-1790)</td><td>0</td><td>8</td></tr>",
                            "<tr><td>Kettős kötődés: Az Osztrák-Magyar Monarchia (1867-1918)</td><td>0</td><td>8</td></tr>",
                            "<tr><td>Kínai falatok</td><td>0</td><td>8</td></tr>",
                            "<tr><td>Királyi könyvek 1-9. kötet</td><td>0</td><td>8</td></tr>",
                            "<tr><td>Királyi könyvek 18-26. kötet</td><td>0</td><td>8</td></tr>",
                            "<tr><td>Királyi könyvek 27-38. kötet : 1703-1740 (2002)</td><td>0</td><td>8</td></tr>",
                            "<tr><td>Kispál és a borz (1998)</td><td>0</td><td>8</td></tr>",
                            "<tr><td>Kossuth Lajos összes munkái (2002)</td><td>0</td><td>8</td></tr>",
                            "<tr><td>Környezetvédelmi kalauz (1999)</td><td>0</td><td>8</td></tr>",
                            "<tr><td>Kötelező olvasmányok könyvtára 1. (2002)</td><td>0</td><td>8</td></tr>",
                            "<tr><td>A kőszívű ember fiai - Egri csillagok</td><td>0</td><td>8</td></tr>",
                            "<tr><td>A kutyák: A család kedvencei</td><td>0</td><td>8</td></tr>",
                            "<tr><td>Kutyatár</td><td>0</td><td>8</td></tr>",
                            "<tr><td>KvízIQ : A hét világcsoda (2001)</td><td>0</td><td>8</td></tr>",
                            "<tr><td>Lakáskultúra 2000 (2000)</td><td>0</td><td>8</td></tr>",
                            "<tr><td>Lakáskultúra 1999 (1999)</td><td>0</td><td>8</td></tr>",
                            "<tr><td>Lakáskultúra 1998 (1998)</td><td>0</td><td>8</td></tr>",
                            "<tr><td>Lakáskultúra 1997 (1997)</td><td>0</td><td>8</td></tr>",
                            "<tr><td>Lakáskultúra 1996 (1996)</td><td>0</td><td>8</td></tr>",
                            "<tr><td>Lands of Lore II. 1-4. (1997)</td><td>0</td><td>8</td></tr>",
                            "<tr><td>Landscape Design 3D (1998)</td><td>0</td><td>8</td></tr>",
                            "<tr><td>Legféltettebb természeti értékeink</td><td>0</td><td>8</td></tr>",
                            "<tr><td>Legszebb vadnövényeink</td><td>0</td><td>8</td></tr>",
                            "<tr><td>Leonardo da Vinci</td><td>0</td><td>8</td></tr>",
                            "<tr><td>Lilenthal Andor sakkjátszmái</td><td>0</td><td>8</td></tr>",
                            "<tr><td>Lopva angolul /English by Stealth 1.</td><td>0</td><td>8</td></tr>",
                            "<tr><td>Lopva angolul /English by Stealth 2.</td><td>0</td><td>8</td></tr>",
                            "<tr><td>Lopva angolul /English by Stealth 3.</td><td>0</td><td>8</td></tr>",
                            "<tr><td>Lovagkirályok (1301-1437) (1997)</td><td>0</td><td>8</td></tr>",
                            "<tr><td>LoveQ, SexQ : szerelmi intelligencia (2001)</td><td>0</td><td>8</td></tr>",
                            "<tr><td>M1 Tank (1998)</td><td>0</td><td>8</td></tr>",
                            "<tr><td>Mackó úr (2002)</td><td>0</td><td>8</td></tr>",
                            "<tr><td>Madárdalos kirándulások - Madártani oktató CD-ROM (1999)</td><td>0</td><td>8</td></tr>",
                            "<tr><td>Magyar bélyegek katalógusa</td><td>0</td><td>8</td></tr>",
                            "<tr><td>Magyar fontok '97</td><td>0</td><td>8</td></tr>",
                            "<tr><td>A Magyar Koronázási Jelvények</td><td>0</td><td>8</td></tr>",
                            "<tr><td>Magyar nyelv és irodalom</td><td>0</td><td>8</td></tr>",
                            "<tr><td>Magyar színházművészet a világban</td><td>0</td><td>8</td></tr>",
                            "<tr><td>Magyarország, 1944-1956 (2001)</td><td>0</td><td>8</td></tr>",
                            "<tr><td>Magyarország, 1944-1956 (2001)</td><td>0</td><td>8</td></tr>",
                            "<tr><td>Magyarország Nemzeti Parkjai I.</td><td>0</td><td>8</td></tr>",
                            "<tr><td>Magyarország Nemzeti Parkjai II.</td><td>0</td><td>8</td></tr>",
                            "<tr><td>Magyarországi várak (1998)</td><td>0</td><td>8</td></tr>",
                            "<tr><td>Mahjongg Master (1998)</td><td>0</td><td>8</td></tr>",
                            "<tr><td>Manó Angol 1.</td><td>0</td><td>8</td></tr>",
                            "<tr><td>Manó Angol 1. (2002)</td><td>0</td><td>8</td></tr>",
                            "<tr><td>Manó Angol 2.</td><td>0</td><td>8</td></tr>",
                            "<tr><td>Manó Angol 2. (2000)</td><td>0</td><td>8</td></tr>",
                            "<tr><td>Manó Élővilág</td><td>0</td><td>8</td></tr>",
                            "<tr><td>Manó Élővilág (2002)</td><td>0</td><td>8</td></tr>",
                            "<tr><td>Manó IQ (2001)</td><td>0</td><td>8</td></tr>",
                            "<tr><td>Manó Kaland (2002)</td><td>0</td><td>8</td></tr>",
                            "<tr><td>Manó Magyarország (2002)</td><td>0</td><td>8</td></tr>",
                            "<tr><td>Manó Matek 1.</td><td>0</td><td>8</td></tr>",
                            "<tr><td>Manó Matek 1. (2002)</td><td>0</td><td>8</td></tr>",
                            "<tr><td>Manó Matek 2. (1999)</td><td>0</td><td>8</td></tr>",
                            "<tr><td>Manó Matek 2. (1999)</td><td>0</td><td>8</td></tr>",
                            "<tr><td>Manó Matek 3.</td><td>0</td><td>8</td></tr>",
                            "<tr><td>Manó Muzsika</td><td>0</td><td>8</td></tr>",
                            "<tr><td>Manó Muzsika</td><td>0</td><td>8</td></tr>",
                            "<tr><td>Manó Német 2.</td><td>0</td><td>8</td></tr>",
                            "<tr><td>Manó Olvasás 1.</td><td>0</td><td>8</td></tr>",
                            "<tr><td>Manó Puzzle (2002)</td><td>0</td><td>8</td></tr>",
                            "<tr><td>Matematika (1998)</td><td>0</td><td>8</td></tr>",
                            "<tr><td>Matematika felkészítő az érettségi és felvételi vizsgára</td><td>0</td><td>8</td></tr>",
                            "<tr><td>Matematika kalauz (1997)</td><td>0</td><td>8</td></tr>",
                            "<tr><td>Mig-29 (1998)</td><td>0</td><td>8</td></tr>",
                            "<tr><td>Mikszáth Kálmán összes művei</td><td>0</td><td>8</td></tr>",
                            "<tr><td>Mini Manó Tavasz</td><td>0</td><td>8</td></tr>",
                            "<tr><td>MoBi Mouse: A fordító egér</td><td>0</td><td>8</td></tr>",
                            "<tr><td>Monopoly Junior</td><td>0</td><td>8</td></tr>",
                            "<tr><td>Mons Sacer Pannoniae (2001)</td><td>0</td><td>8</td></tr>",
                            "<tr><td>Moving Puzzle Action Flight (2000)</td><td>0</td><td>8</td></tr>",
                            "<tr><td>Multimédiás Menedzsment Könyvtár 1. - Változásmenedzsment</td><td>0</td><td>8</td></tr>",
                            "<tr><td>Multimédiás Menedzsment Könyvtár 2. - Önszervezés</td><td>0</td><td>8</td></tr>",
                            "<tr><td>Musique! (1997)</td><td>0</td><td>8</td></tr>",
                            "<tr><td>Művészet és mesterség</td><td>0</td><td>8</td></tr>",
                            "<tr><td>Művészet és művészek (2002)</td><td>0</td><td>8</td></tr>",
                            "<tr><td>Nagy képes világtörténet (Matczáli Henrik) (1998)</td><td>0</td><td>8</td></tr>",
                            "<tr><td>Nagy vicc tár</td><td>0</td><td>8</td></tr>",
                            "<tr><td>A Nagybányai Festőiskola (1998)</td><td>0</td><td>8</td></tr>",
                            "<tr><td>NASA 1.</td><td>0</td><td>8</td></tr>",
                            "<tr><td>NASA 2.</td><td>0</td><td>8</td></tr>",
                            "<tr><td>Na, So Was? - Minden helyzetben otthonosan</td><td>0</td><td>8</td></tr>",
                            "<tr><td>Német : 8-10 éveseknek (2002)</td><td>0</td><td>8</td></tr>",
                            "<tr><td>Német szótanító CD-ROM</td><td>0</td><td>8</td></tr>",
                            "<tr><td>Németh László összes műve</td><td>0</td><td>8</td></tr>",
                            "<tr><td>New York : a tragédiák városa (2001)</td><td>0</td><td>8</td></tr>",
                            "<tr><td>NHL 2001</td><td>0</td><td>8</td></tr>",
                            "<tr><td>Nincs királyi út - A matematika kultúrtörténete</td><td>0</td><td>8</td></tr>",
                            "<tr><td>Nyelvész : Angol és német haladóknak (1997)</td><td>0</td><td>8</td></tr>",
                            "<tr><td>Nyelvtan összefoglaló : érettségi előkészítő (2002)</td><td>0</td><td>8</td></tr>",
                            "<tr><td>Az óceán világa - Maldiv szigetek (2000)</td><td>0</td><td>8</td></tr>",
                            "<tr><td>Ókori lexikon</td><td>0</td><td>8</td></tr>",
                            "<tr><td>Olasz-magyar, magyar-olasz digitális szótár</td><td>0</td><td>8</td></tr>",
                            "<tr><td>Olasz szótanító CD-ROM</td><td>0</td><td>8</td></tr>",
                            "<tr><td>Orosz (1998)</td><td>0</td><td>8</td></tr>",
                            "<tr><td>Orosz-magyar nagyszótár</td><td>0</td><td>8</td></tr>",
                            "<tr><td>Az Országos Széchényi Könyvtár corvinái, 2002 (2002)</td><td>0</td><td>8</td></tr>",
                            "<tr><td>Az Osztrák-Magyar Monarchia írásban és képekben (2001)</td><td>0</td><td>8</td></tr>",
                            "<tr><td>Paddle Bash (2001)</td><td>0</td><td>8</td></tr>",
                            "<tr><td>Pannon Enciklopédia (1998)</td><td>0</td><td>8</td></tr>",
                            "<tr><td>Pannonhalmi Főapátság (2001)</td><td>0</td><td>8</td></tr>",
                            "<tr><td>Panzer General III: Scorched Earth (2000)</td><td>0</td><td>8</td></tr>",
                            "<tr><td>People's General (1998)</td><td>0</td><td>8</td></tr>",
                            "<tr><td>Petőfi Sándor: Arany Lacinak (2002)</td><td>0</td><td>8</td></tr>",
                            "<tr><td>Petőfi Sándor összes költeményei</td><td>0</td><td>8</td></tr>",
                            "<tr><td>Plane Crazy</td><td>0</td><td>8</td></tr>",
                            "<tr><td>Quake III. (2001)</td><td>0</td><td>8</td></tr>",
                            "<tr><td>Rákóczi-szabadságharc</td><td>0</td><td>8</td></tr>",
                            "<tr><td>Rally Championship</td><td>0</td><td>8</td></tr>",
                            "<tr><td>Rayman: Matek és olvasás</td><td>0</td><td>8</td></tr>",
                            "<tr><td>Re-Volt (1999)</td><td>0</td><td>8</td></tr>",
                            "<tr><td>The Settlers III. 1-2. (1998)</td><td>0</td><td>8</td></tr>",
                            "<tr><td>The Settlers IV. (2001)</td><td>0</td><td>8</td></tr>",
                            "<tr><td>Shanghai (1997)</td><td>0</td><td>8</td></tr>",
                            "<tr><td>The Sims</td><td>0</td><td>8</td></tr>",
                            "<tr><td>Sonic Racer</td><td>0</td><td>8</td></tr>",
                            "<tr><td>Spanyol (1997)</td><td>0</td><td>8</td></tr>",
                            "<tr><td>Spanyol-magyar szótár</td><td>0</td><td>8</td></tr>",
                            "<tr><td>Star Wars: Battle for Naboo</td><td>0</td><td>8</td></tr>",
                            "<tr><td>Star Wars: Force Commander (2001)</td><td>0</td><td>8</td></tr>",
                            "<tr><td>Star Wars : Rogue Squadron 3D</td><td>0</td><td>8</td></tr>",
                            "<tr><td>Supreme Snowboarding</td><td>0</td><td>8</td></tr>",
                            "<tr><td>Szabadítsd ki a kisoroszlánt!</td><td>0</td><td>8</td></tr>",
                            "<tr><td>Szabadságharc 1848-49 (1988)</td><td>0</td><td>8</td></tr>",
                            "<tr><td>A szabadságharc népzenei emlékei</td><td>0</td><td>8</td></tr>",
                            "<tr><td>Szolfézs: Kezdőknek és haladóknak</td><td>0</td><td>8</td></tr>",
                            "<tr><td>Talk To Me Deutsch 2-4.</td><td>0</td><td>8</td></tr>",
                            "<tr><td>Talk To Me English 1.</td><td>0</td><td>8</td></tr>",
                            "<tr><td>Talk To Me Francais 1-2.</td><td>0</td><td>8</td></tr>",
                            "<tr><td>Tankok, tüzérség (2002)</td><td>0</td><td>8</td></tr>",
                            "<tr><td>Tanulj tovább! 2000 (2000)</td><td>0</td><td>8</td></tr>",
                            "<tr><td>Táplálkozás, életmód mesterfokon (2002)</td><td>0</td><td>8</td></tr>",
                            "<tr><td>Target English (1998)</td><td>0</td><td>8</td></tr>",
                            "<tr><td>Tarzan</td><td>0</td><td>8</td></tr>",
                            "<tr><td>Terrorizmus (2002)</td><td>0</td><td>8</td></tr>",
                            "<tr><td>Testbeszéd (1998)</td><td>0</td><td>8</td></tr>",
                            "<tr><td>Tesztre készen: angol (1998)</td><td>0</td><td>8</td></tr>",
                            "<tr><td>Tesztre készen: német (1998)</td><td>0</td><td>8</td></tr>",
                            "<tr><td>Thaiföldi ízek (1999)</td><td>0</td><td>8</td></tr>",
                            "<tr><td>Timeshock!</td><td>0</td><td>8</td></tr>",
                            "<tr><td>Tomi megmenti a tengert (2000)</td><td>0</td><td>8</td></tr>",
                            "<tr><td>Touché - The Adventures of the Fifth</td><td>0</td><td>8</td></tr>",
                            "<tr><td>Toy Story 2.</td><td>0</td><td>8</td></tr>",
                            "<tr><td>Történelem (1998)</td><td>0</td><td>8</td></tr>",
                            "<tr><td>Történelem : 10-14 éveseknek (2002)</td><td>0</td><td>8</td></tr>",
                            "<tr><td>Történelem : középiskola 1. osztály (2002)</td><td>0</td><td>8</td></tr>",
                            "<tr><td>Történelem : középiskola 4. osztály (2002)</td><td>0</td><td>8</td></tr>",
                            "<tr><td>Traffic Giant</td><td>0</td><td>8</td></tr>",
                            "<tr><td>Train Simulator (2002)</td><td>0</td><td>8</td></tr>",
                            "<tr><td>Trickstyle</td><td>0</td><td>8</td></tr>",
                            "<tr><td>A tudás próbája (2001)</td><td>0</td><td>8</td></tr>",
                            "<tr><td>Turul : 1883-1900 (2002)</td><td>0</td><td>8</td></tr>",
                            "<tr><td>UEFA Champions Leage Season</td><td>0</td><td>8</td></tr>",
                            "<tr><td>Új Könyvek 1994-2000 (2002)</td><td>0</td><td>8</td></tr>",
                            "<tr><td>Az Univerzum története</td><td>0</td><td>8</td></tr>",
                            "<tr><td>Utazás a csillagok között (1998)</td><td>0</td><td>8</td></tr>",
                            "<tr><td>Utazás a Naprendszerben</td><td>0</td><td>8</td></tr>",
                            "<tr><td>Utazás a Naprendszerben 2.</td><td>0</td><td>8</td></tr>",
                            "<tr><td>Úton 2. (1998)</td><td>0</td><td>8</td></tr>",
                            "<tr><td>Üzleti protokoll CD (2002)</td><td>0</td><td>8</td></tr>",
                            "<tr><td>Várak, kastélyok, legendák 1.</td><td>0</td><td>8</td></tr>",
                            "<tr><td>Várak, kastélyok, legendák 2. (2002)</td><td>0</td><td>8</td></tr>",
                            "<tr><td>A varázslatos emberi test (1998)</td><td>0</td><td>8</td></tr>",
                            "<tr><td>Varázslatos szülinap</td><td>0</td><td>8</td></tr>",
                            "<tr><td>Varázslatos történelmi nyomozás</td><td>0</td><td>8</td></tr>",
                            "<tr><td>A városi élet a Római Birodalomban (1999)</td><td>0</td><td>8</td></tr>",
                            "<tr><td>A Vazul-ág (1038-1301) (1997)</td><td>0</td><td>8</td></tr>",
                            "<tr><td>Világatlasz '99 (1998)</td><td>0</td><td>8</td></tr>",
                            "<tr><td>Világatlasz '99 (1998)</td><td>0</td><td>8</td></tr>",
                            "<tr><td>Világatlasz (2001)</td><td>0</td><td>8</td></tr>",
                            "<tr><td>Világirodalom : Az ókortól napjainkig (2001)</td><td>0</td><td>8</td></tr>",
                            "<tr><td>Volt egyszer egy Magyarország</td><td>0</td><td>8</td></tr>",
                            "<tr><td>Warcraft III. (2002)</td><td>0</td><td>8</td></tr>",
                            "<tr><td>William Shakespeare összes művei</td><td>0</td><td>8</td></tr>",
                            "<tr><td>Zielpunkt Deutsch (1997)</td><td>0</td><td>8</td></tr>",
                            "<tr><td>Zöld Ödön a földgömbön</td><td>0</td><td>8</td></tr>",
                            "</table>"
                        ]
                    }
                }
            ],
            "execution_count": 9
        },
        {
            "cell_type": "markdown",
            "source": [
                "6. Melyek azok a kölcsönzések, ahol még nem hozták vissza a dvd-t?"
            ],
            "metadata": {
                "azdata_cell_guid": "5fe65c1c-2479-45ac-ad03-ec99d12eae21"
            },
            "attachments": {}
        },
        {
            "cell_type": "code",
            "source": [
                ""
            ],
            "metadata": {
                "azdata_cell_guid": "924f2dde-f1c2-4def-a7f9-dbf4bace7735",
                "language": "sql"
            },
            "outputs": [],
            "execution_count": null
        },
        {
            "cell_type": "markdown",
            "source": [
                "7. Listázzuk azon diákok nevét és születési idejét, akik 1984-ben vagy 1985-ben születtek!  \n",
                "\n",
                "  \n",
                "\n",
                "a.  A születési dátum csak az évet, hónapot és a napot tartalmazza! \n",
                "\n",
                "b.  A születési dátum oszlopát nevezzük el 'Születési idő'-nek!"
            ],
            "metadata": {
                "azdata_cell_guid": "3aeb6bf5-b111-40d5-92b2-9712ce335696"
            },
            "attachments": {}
        },
        {
            "cell_type": "code",
            "source": [
                "SELECT  Nev, \r\n",
                "        CAST(Szulido as date) as 'szuletesi ido'\r\n",
                "FROM diak\r\n",
                "WHERE YEAR(Szulido) = 1984 OR\r\n",
                "        YEAR(Szulido) = 1985"
            ],
            "metadata": {
                "azdata_cell_guid": "3e89b651-f56f-4102-af52-30eb2bbe360d",
                "language": "sql"
            },
            "outputs": [
                {
                    "output_type": "display_data",
                    "data": {
                        "text/html": "(3 rows affected)"
                    },
                    "metadata": {}
                },
                {
                    "output_type": "display_data",
                    "data": {
                        "text/html": "Total execution time: 00:00:00.009"
                    },
                    "metadata": {}
                },
                {
                    "output_type": "execute_result",
                    "metadata": {},
                    "execution_count": 13,
                    "data": {
                        "application/vnd.dataresource+json": {
                            "schema": {
                                "fields": [
                                    {
                                        "name": "Nev"
                                    },
                                    {
                                        "name": "szuletesi ido"
                                    }
                                ]
                            },
                            "data": [
                                {
                                    "Nev": "Kovács Imre",
                                    "szuletesi ido": "1984-03-02"
                                },
                                {
                                    "Nev": "Kapos Petra",
                                    "szuletesi ido": "1985-12-23"
                                },
                                {
                                    "Nev": "Koppány Olga",
                                    "szuletesi ido": "1984-02-28"
                                }
                            ]
                        },
                        "text/html": [
                            "<table>",
                            "<tr><th>Nev</th><th>szuletesi ido</th></tr>",
                            "<tr><td>Kovács Imre</td><td>1984-03-02</td></tr>",
                            "<tr><td>Kapos Petra</td><td>1985-12-23</td></tr>",
                            "<tr><td>Koppány Olga</td><td>1984-02-28</td></tr>",
                            "</table>"
                        ]
                    }
                }
            ],
            "execution_count": 13
        },
        {
            "cell_type": "markdown",
            "source": [
                "8. Készítsünk lekérdezést, amely a tanulók nevét és az ebből képzett felhasználói nevét tartalmazza. \n",
                "\n",
                "  \n",
                "\n",
                "a.  A felhasználói név álljon a név első kettő, illetve utolsó kettő betűjének összefűzéséből!\n",
                "\n",
                "b.  A listát szűrjük azon tanulókra, akik teljes neve - szóközzel együtt - legalább 10 betűs!"
            ],
            "metadata": {
                "azdata_cell_guid": "26a504dc-ff6a-439f-94c0-4580eca3eacf"
            },
            "attachments": {}
        },
        {
            "cell_type": "code",
            "source": [
                ""
            ],
            "metadata": {
                "azdata_cell_guid": "1cbb8aeb-78b5-4350-aa45-e3202fdab85b",
                "language": "sql"
            },
            "outputs": [],
            "execution_count": null
        },
        {
            "cell_type": "markdown",
            "source": [
                "9. Készítsünk listát a diákok adatairól, ahol a diákok neve úgy jelenik meg, hogy először a keresztnév, majd a vezetéknév, közöttük szóközzel!  \n",
                "\n",
                "a.  Ezen felül a születési idő három külön oszlopban jelenjen meg (év, hónap, nap). \n",
                "\n",
                "b.  Az oszlopokat nevezzük el értelemszerűen!"
            ],
            "metadata": {
                "azdata_cell_guid": "435e2860-2dd5-4877-90f4-34a43baeb53c"
            },
            "attachments": {}
        },
        {
            "cell_type": "code",
            "source": [
                ""
            ],
            "metadata": {
                "azdata_cell_guid": "ce846351-ddbe-4d8e-b8fb-2a92c73ac80b",
                "language": "sql"
            },
            "outputs": [
                {
                    "output_type": "display_data",
                    "data": {
                        "text/html": "Commands completed successfully."
                    },
                    "metadata": {}
                },
                {
                    "output_type": "display_data",
                    "data": {
                        "text/html": "Total execution time: 00:00:00"
                    },
                    "metadata": {}
                }
            ],
            "execution_count": 14
        },
        {
            "cell_type": "markdown",
            "source": [
                "10. Készítsünk listát a munkák azonosítójáról és megnevezéséről! Egy új oszlopban azt is jelenítsük meg, hogy melyik munka hetente mennyit fizet! \n",
                "\n",
                "a.  Az oszlop neve legyen Heti bér, az értéket kerekítsük 1000 forintra! \n",
                "\n",
                "b.  A listát szűrjük azon rekordokra, ahol a kerekített heti bér 10000 Ft felett van!"
            ],
            "metadata": {
                "azdata_cell_guid": "217c5772-afe2-4a7c-b913-e3a3e09d6411"
            },
            "attachments": {}
        },
        {
            "cell_type": "code",
            "source": [
                "SELECT munkaId,\r\n",
                "        allas,\r\n",
                "        Round(oradij * oraszam * 5,-3) as 'Heti órabér'\r\n",
                "FROM munka\r\n",
                "WHERE Round(oradij * oraszam * 5,-3) > 10000"
            ],
            "metadata": {
                "azdata_cell_guid": "a9cc0926-3dbd-4ed8-8179-1c39d64a0762",
                "language": "sql",
                "tags": []
            },
            "outputs": [
                {
                    "output_type": "display_data",
                    "data": {
                        "text/html": "(7 rows affected)"
                    },
                    "metadata": {}
                },
                {
                    "output_type": "display_data",
                    "data": {
                        "text/html": "Total execution time: 00:00:00.005"
                    },
                    "metadata": {}
                },
                {
                    "output_type": "execute_result",
                    "metadata": {},
                    "execution_count": 19,
                    "data": {
                        "application/vnd.dataresource+json": {
                            "schema": {
                                "fields": [
                                    {
                                        "name": "munkaId"
                                    },
                                    {
                                        "name": "allas"
                                    },
                                    {
                                        "name": "Heti órabér"
                                    }
                                ]
                            },
                            "data": [
                                {
                                    "munkaId": "5",
                                    "allas": "kézbesítő",
                                    "Heti órabér": "14000"
                                },
                                {
                                    "munkaId": "7",
                                    "allas": "eladó",
                                    "Heti órabér": "12000"
                                },
                                {
                                    "munkaId": "16",
                                    "allas": "pincér",
                                    "Heti órabér": "14000"
                                },
                                {
                                    "munkaId": "17",
                                    "allas": "pincér",
                                    "Heti órabér": "14000"
                                },
                                {
                                    "munkaId": "20",
                                    "allas": "takarító",
                                    "Heti órabér": "11000"
                                },
                                {
                                    "munkaId": "21",
                                    "allas": "takarító",
                                    "Heti órabér": "11000"
                                },
                                {
                                    "munkaId": "41",
                                    "allas": "eladó",
                                    "Heti órabér": "12000"
                                }
                            ]
                        },
                        "text/html": [
                            "<table>",
                            "<tr><th>munkaId</th><th>allas</th><th>Heti órabér</th></tr>",
                            "<tr><td>5</td><td>kézbesítő</td><td>14000</td></tr>",
                            "<tr><td>7</td><td>eladó</td><td>12000</td></tr>",
                            "<tr><td>16</td><td>pincér</td><td>14000</td></tr>",
                            "<tr><td>17</td><td>pincér</td><td>14000</td></tr>",
                            "<tr><td>20</td><td>takarító</td><td>11000</td></tr>",
                            "<tr><td>21</td><td>takarító</td><td>11000</td></tr>",
                            "<tr><td>41</td><td>eladó</td><td>12000</td></tr>",
                            "</table>"
                        ]
                    }
                }
            ],
            "execution_count": 19
        },
        {
            "cell_type": "markdown",
            "source": [
                "11. A diákok számára differenciált béremelést terveznek: a középiskolások esetében 33%, egyéb esetben 17% mértékben. Készítsünk listát, amely tartalmazza a munkák azonosítóját, az állás nevét, az eredeti óradíjat és a tervezett emelt óradíjat.\n",
                "\n",
                "  \n",
                "\n",
                "a.  Az oszlopoknak adjuk nevet értelemszerűen!\n",
                "\n",
                "b.  Az emelt óradíj összegét kerekítsük egészre! (Az esetlegesen megjelenő 0 tizedesjegyekkel ne foglalkozzunk)"
            ],
            "metadata": {
                "azdata_cell_guid": "d2340f5f-1614-473c-b937-85740d67f7c1"
            },
            "attachments": {}
        },
        {
            "cell_type": "code",
            "source": [
                ""
            ],
            "metadata": {
                "azdata_cell_guid": "e99c2c53-898f-4787-b0e6-182d106dc16f",
                "language": "sql"
            },
            "outputs": [],
            "execution_count": null
        },
        {
            "cell_type": "markdown",
            "source": [
                "12. A diákok számára próbaidőt írnak elő, amely a munka kezdetétől számítva 3 hónapig tart.    Jelenítsük meg a munka tábla adatait egy új oszloppal kiegészítve, amelyik a próbaidő    végének dátumát mutatja!  \n",
                "\n",
                "  \n",
                "\n",
                "a.  Az oszlop neve Próbaidő vége legyen! \n",
                "\n",
                "b.  A lista ne tartalmazza azokat a munkákat, ahol a diákok azonosítója nincs megadva!"
            ],
            "metadata": {
                "azdata_cell_guid": "a765e9d6-58b3-4171-872a-78f3118fd6e3"
            },
            "attachments": {}
        },
        {
            "cell_type": "code",
            "source": [
                "SELECT  *,\r\n",
                "        DATEADD(MONTH, 3, datum) as 'Próbaidő'\r\n",
                "from munka\r\n",
                "WHERE DiakAz is NOT NULL"
            ],
            "metadata": {
                "azdata_cell_guid": "422e8127-b652-4d3a-bfd7-9b1637b5781e",
                "language": "sql",
                "tags": []
            },
            "outputs": [
                {
                    "output_type": "display_data",
                    "data": {
                        "text/html": "(31 rows affected)"
                    },
                    "metadata": {}
                },
                {
                    "output_type": "display_data",
                    "data": {
                        "text/html": "Total execution time: 00:00:00.055"
                    },
                    "metadata": {}
                },
                {
                    "output_type": "execute_result",
                    "metadata": {},
                    "execution_count": 21,
                    "data": {
                        "application/vnd.dataresource+json": {
                            "schema": {
                                "fields": [
                                    {
                                        "name": "munkaId"
                                    },
                                    {
                                        "name": "MhelyId"
                                    },
                                    {
                                        "name": "DiakAz"
                                    },
                                    {
                                        "name": "allas"
                                    },
                                    {
                                        "name": "datum"
                                    },
                                    {
                                        "name": "oradij"
                                    },
                                    {
                                        "name": "oraszam"
                                    },
                                    {
                                        "name": "kozepiskolas"
                                    },
                                    {
                                        "name": "Próbaidő"
                                    }
                                ]
                            },
                            "data": [
                                {
                                    "munkaId": "1",
                                    "MhelyId": "1",
                                    "DiakAz": "1",
                                    "allas": "kézbesítő",
                                    "datum": "2003-07-02 00:00:00.000",
                                    "oradij": "400",
                                    "oraszam": "4",
                                    "kozepiskolas": "0",
                                    "Próbaidő": "2003-10-02 00:00:00.000"
                                },
                                {
                                    "munkaId": "2",
                                    "MhelyId": "1",
                                    "DiakAz": "2",
                                    "allas": "ügyfélszolgálati munkatárs",
                                    "datum": "2003-07-03 00:00:00.000",
                                    "oradij": "300",
                                    "oraszam": "4",
                                    "kozepiskolas": "0",
                                    "Próbaidő": "2003-10-03 00:00:00.000"
                                },
                                {
                                    "munkaId": "3",
                                    "MhelyId": "2",
                                    "DiakAz": "1",
                                    "allas": "kisegítő",
                                    "datum": "2003-07-01 00:00:00.000",
                                    "oradij": "500",
                                    "oraszam": "4",
                                    "kozepiskolas": "1",
                                    "Próbaidő": "2003-10-01 00:00:00.000"
                                },
                                {
                                    "munkaId": "4",
                                    "MhelyId": "2",
                                    "DiakAz": "2",
                                    "allas": "eladó",
                                    "datum": "2003-07-01 00:00:00.000",
                                    "oradij": "350",
                                    "oraszam": "4",
                                    "kozepiskolas": "0",
                                    "Próbaidő": "2003-10-01 00:00:00.000"
                                },
                                {
                                    "munkaId": "5",
                                    "MhelyId": "1",
                                    "DiakAz": "1",
                                    "allas": "kézbesítő",
                                    "datum": "2003-07-03 00:00:00.000",
                                    "oradij": "450",
                                    "oraszam": "6",
                                    "kozepiskolas": "0",
                                    "Próbaidő": "2003-10-03 00:00:00.000"
                                },
                                {
                                    "munkaId": "6",
                                    "MhelyId": "1",
                                    "DiakAz": "2",
                                    "allas": "futár",
                                    "datum": "2003-07-06 00:00:00.000",
                                    "oradij": "300",
                                    "oraszam": "5",
                                    "kozepiskolas": "1",
                                    "Próbaidő": "2003-10-06 00:00:00.000"
                                },
                                {
                                    "munkaId": "9",
                                    "MhelyId": "9",
                                    "DiakAz": "6",
                                    "allas": "takarító",
                                    "datum": "2003-06-19 00:00:00.000",
                                    "oradij": "400",
                                    "oraszam": "4",
                                    "kozepiskolas": "0",
                                    "Próbaidő": "2003-09-19 00:00:00.000"
                                },
                                {
                                    "munkaId": "10",
                                    "MhelyId": "9",
                                    "DiakAz": "6",
                                    "allas": "takarító",
                                    "datum": "2003-06-20 00:00:00.000",
                                    "oradij": "400",
                                    "oraszam": "4",
                                    "kozepiskolas": "0",
                                    "Próbaidő": "2003-09-20 00:00:00.000"
                                },
                                {
                                    "munkaId": "11",
                                    "MhelyId": "9",
                                    "DiakAz": "8",
                                    "allas": "kisegítő",
                                    "datum": "2003-06-21 00:00:00.000",
                                    "oradij": "300",
                                    "oraszam": "6",
                                    "kozepiskolas": "1",
                                    "Próbaidő": "2003-09-21 00:00:00.000"
                                },
                                {
                                    "munkaId": "12",
                                    "MhelyId": "9",
                                    "DiakAz": "8",
                                    "allas": "kisegítő",
                                    "datum": "2003-06-22 00:00:00.000",
                                    "oradij": "300",
                                    "oraszam": "6",
                                    "kozepiskolas": "1",
                                    "Próbaidő": "2003-09-22 00:00:00.000"
                                },
                                {
                                    "munkaId": "13",
                                    "MhelyId": "9",
                                    "DiakAz": "6",
                                    "allas": "takarító",
                                    "datum": "2003-06-23 00:00:00.000",
                                    "oradij": "400",
                                    "oraszam": "4",
                                    "kozepiskolas": "0",
                                    "Próbaidő": "2003-09-23 00:00:00.000"
                                },
                                {
                                    "munkaId": "14",
                                    "MhelyId": "6",
                                    "DiakAz": "4",
                                    "allas": "ruhatáros",
                                    "datum": "2003-09-11 00:00:00.000",
                                    "oradij": "400",
                                    "oraszam": "4",
                                    "kozepiskolas": "0",
                                    "Próbaidő": "2003-12-11 00:00:00.000"
                                },
                                {
                                    "munkaId": "15",
                                    "MhelyId": "6",
                                    "DiakAz": "7",
                                    "allas": "ruhatáros",
                                    "datum": "2003-09-11 00:00:00.000",
                                    "oradij": "400",
                                    "oraszam": "4",
                                    "kozepiskolas": "0",
                                    "Próbaidő": "2003-12-11 00:00:00.000"
                                },
                                {
                                    "munkaId": "16",
                                    "MhelyId": "6",
                                    "DiakAz": "5",
                                    "allas": "pincér",
                                    "datum": "2003-06-11 00:00:00.000",
                                    "oradij": "450",
                                    "oraszam": "6",
                                    "kozepiskolas": "0",
                                    "Próbaidő": "2003-09-11 00:00:00.000"
                                },
                                {
                                    "munkaId": "17",
                                    "MhelyId": "6",
                                    "DiakAz": "5",
                                    "allas": "pincér",
                                    "datum": "2003-06-12 00:00:00.000",
                                    "oradij": "450",
                                    "oraszam": "6",
                                    "kozepiskolas": "0",
                                    "Próbaidő": "2003-09-12 00:00:00.000"
                                },
                                {
                                    "munkaId": "18",
                                    "MhelyId": "8",
                                    "DiakAz": "9",
                                    "allas": "eladó",
                                    "datum": "2003-07-21 00:00:00.000",
                                    "oradij": "500",
                                    "oraszam": "4",
                                    "kozepiskolas": "0",
                                    "Próbaidő": "2003-10-21 00:00:00.000"
                                },
                                {
                                    "munkaId": "19",
                                    "MhelyId": "8",
                                    "DiakAz": "9",
                                    "allas": "eladó",
                                    "datum": "2003-07-22 00:00:00.000",
                                    "oradij": "500",
                                    "oraszam": "4",
                                    "kozepiskolas": "0",
                                    "Próbaidő": "2003-10-22 00:00:00.000"
                                },
                                {
                                    "munkaId": "20",
                                    "MhelyId": "8",
                                    "DiakAz": "10",
                                    "allas": "takarító",
                                    "datum": "2003-08-10 00:00:00.000",
                                    "oradij": "350",
                                    "oraszam": "6",
                                    "kozepiskolas": "1",
                                    "Próbaidő": "2003-11-10 00:00:00.000"
                                },
                                {
                                    "munkaId": "21",
                                    "MhelyId": "8",
                                    "DiakAz": "10",
                                    "allas": "takarító",
                                    "datum": "2003-08-11 00:00:00.000",
                                    "oradij": "350",
                                    "oraszam": "6",
                                    "kozepiskolas": "1",
                                    "Próbaidő": "2003-11-11 00:00:00.000"
                                },
                                {
                                    "munkaId": "22",
                                    "MhelyId": "11",
                                    "DiakAz": "5",
                                    "allas": "eladó",
                                    "datum": "2003-05-10 00:00:00.000",
                                    "oradij": "400",
                                    "oraszam": "4",
                                    "kozepiskolas": "0",
                                    "Próbaidő": "2003-08-10 00:00:00.000"
                                },
                                {
                                    "munkaId": "23",
                                    "MhelyId": "11",
                                    "DiakAz": "6",
                                    "allas": "raktáros",
                                    "datum": "2003-05-20 00:00:00.000",
                                    "oradij": "300",
                                    "oraszam": "4",
                                    "kozepiskolas": "0",
                                    "Próbaidő": "2003-08-20 00:00:00.000"
                                },
                                {
                                    "munkaId": "24",
                                    "MhelyId": "11",
                                    "DiakAz": "5",
                                    "allas": "eladó",
                                    "datum": "2003-06-23 00:00:00.000",
                                    "oradij": "300",
                                    "oraszam": "6",
                                    "kozepiskolas": "0",
                                    "Próbaidő": "2003-09-23 00:00:00.000"
                                },
                                {
                                    "munkaId": "27",
                                    "MhelyId": "10",
                                    "DiakAz": "3",
                                    "allas": "takarító",
                                    "datum": "2003-07-31 00:00:00.000",
                                    "oradij": "300",
                                    "oraszam": "4",
                                    "kozepiskolas": "1",
                                    "Próbaidő": "2003-10-31 00:00:00.000"
                                },
                                {
                                    "munkaId": "28",
                                    "MhelyId": "10",
                                    "DiakAz": "3",
                                    "allas": "takarító",
                                    "datum": "2003-08-01 00:00:00.000",
                                    "oradij": "300",
                                    "oraszam": "4",
                                    "kozepiskolas": "1",
                                    "Próbaidő": "2003-11-01 00:00:00.000"
                                },
                                {
                                    "munkaId": "29",
                                    "MhelyId": "10",
                                    "DiakAz": "8",
                                    "allas": "eladó",
                                    "datum": "2003-09-12 00:00:00.000",
                                    "oradij": "300",
                                    "oraszam": "6",
                                    "kozepiskolas": "1",
                                    "Próbaidő": "2003-12-12 00:00:00.000"
                                },
                                {
                                    "munkaId": "30",
                                    "MhelyId": "10",
                                    "DiakAz": "8",
                                    "allas": "eladó",
                                    "datum": "2003-09-13 00:00:00.000",
                                    "oradij": "300",
                                    "oraszam": "6",
                                    "kozepiskolas": "1",
                                    "Próbaidő": "2003-12-13 00:00:00.000"
                                },
                                {
                                    "munkaId": "31",
                                    "MhelyId": "7",
                                    "DiakAz": "8",
                                    "allas": "ruhatáros",
                                    "datum": "2003-08-20 00:00:00.000",
                                    "oradij": "200",
                                    "oraszam": "4",
                                    "kozepiskolas": "1",
                                    "Próbaidő": "2003-11-20 00:00:00.000"
                                },
                                {
                                    "munkaId": "32",
                                    "MhelyId": "7",
                                    "DiakAz": "8",
                                    "allas": "ruhatáros",
                                    "datum": "2003-08-21 00:00:00.000",
                                    "oradij": "200",
                                    "oraszam": "4",
                                    "kozepiskolas": "1",
                                    "Próbaidő": "2003-11-21 00:00:00.000"
                                },
                                {
                                    "munkaId": "38",
                                    "MhelyId": "5",
                                    "DiakAz": "7",
                                    "allas": "eladó",
                                    "datum": "2003-06-05 00:00:00.000",
                                    "oradij": "400",
                                    "oraszam": "4",
                                    "kozepiskolas": "0",
                                    "Próbaidő": "2003-09-05 00:00:00.000"
                                },
                                {
                                    "munkaId": "39",
                                    "MhelyId": "5",
                                    "DiakAz": "7",
                                    "allas": "eladó",
                                    "datum": "2003-06-06 00:00:00.000",
                                    "oradij": "400",
                                    "oraszam": "4",
                                    "kozepiskolas": "0",
                                    "Próbaidő": "2003-09-06 00:00:00.000"
                                },
                                {
                                    "munkaId": "40",
                                    "MhelyId": "5",
                                    "DiakAz": "7",
                                    "allas": "eladó",
                                    "datum": "2003-06-07 00:00:00.000",
                                    "oradij": "400",
                                    "oraszam": "4",
                                    "kozepiskolas": "0",
                                    "Próbaidő": "2003-09-07 00:00:00.000"
                                }
                            ]
                        },
                        "text/html": [
                            "<table>",
                            "<tr><th>munkaId</th><th>MhelyId</th><th>DiakAz</th><th>allas</th><th>datum</th><th>oradij</th><th>oraszam</th><th>kozepiskolas</th><th>Próbaidő</th></tr>",
                            "<tr><td>1</td><td>1</td><td>1</td><td>kézbesítő</td><td>2003-07-02 00:00:00.000</td><td>400</td><td>4</td><td>0</td><td>2003-10-02 00:00:00.000</td></tr>",
                            "<tr><td>2</td><td>1</td><td>2</td><td>ügyfélszolgálati munkatárs</td><td>2003-07-03 00:00:00.000</td><td>300</td><td>4</td><td>0</td><td>2003-10-03 00:00:00.000</td></tr>",
                            "<tr><td>3</td><td>2</td><td>1</td><td>kisegítő</td><td>2003-07-01 00:00:00.000</td><td>500</td><td>4</td><td>1</td><td>2003-10-01 00:00:00.000</td></tr>",
                            "<tr><td>4</td><td>2</td><td>2</td><td>eladó</td><td>2003-07-01 00:00:00.000</td><td>350</td><td>4</td><td>0</td><td>2003-10-01 00:00:00.000</td></tr>",
                            "<tr><td>5</td><td>1</td><td>1</td><td>kézbesítő</td><td>2003-07-03 00:00:00.000</td><td>450</td><td>6</td><td>0</td><td>2003-10-03 00:00:00.000</td></tr>",
                            "<tr><td>6</td><td>1</td><td>2</td><td>futár</td><td>2003-07-06 00:00:00.000</td><td>300</td><td>5</td><td>1</td><td>2003-10-06 00:00:00.000</td></tr>",
                            "<tr><td>9</td><td>9</td><td>6</td><td>takarító</td><td>2003-06-19 00:00:00.000</td><td>400</td><td>4</td><td>0</td><td>2003-09-19 00:00:00.000</td></tr>",
                            "<tr><td>10</td><td>9</td><td>6</td><td>takarító</td><td>2003-06-20 00:00:00.000</td><td>400</td><td>4</td><td>0</td><td>2003-09-20 00:00:00.000</td></tr>",
                            "<tr><td>11</td><td>9</td><td>8</td><td>kisegítő</td><td>2003-06-21 00:00:00.000</td><td>300</td><td>6</td><td>1</td><td>2003-09-21 00:00:00.000</td></tr>",
                            "<tr><td>12</td><td>9</td><td>8</td><td>kisegítő</td><td>2003-06-22 00:00:00.000</td><td>300</td><td>6</td><td>1</td><td>2003-09-22 00:00:00.000</td></tr>",
                            "<tr><td>13</td><td>9</td><td>6</td><td>takarító</td><td>2003-06-23 00:00:00.000</td><td>400</td><td>4</td><td>0</td><td>2003-09-23 00:00:00.000</td></tr>",
                            "<tr><td>14</td><td>6</td><td>4</td><td>ruhatáros</td><td>2003-09-11 00:00:00.000</td><td>400</td><td>4</td><td>0</td><td>2003-12-11 00:00:00.000</td></tr>",
                            "<tr><td>15</td><td>6</td><td>7</td><td>ruhatáros</td><td>2003-09-11 00:00:00.000</td><td>400</td><td>4</td><td>0</td><td>2003-12-11 00:00:00.000</td></tr>",
                            "<tr><td>16</td><td>6</td><td>5</td><td>pincér</td><td>2003-06-11 00:00:00.000</td><td>450</td><td>6</td><td>0</td><td>2003-09-11 00:00:00.000</td></tr>",
                            "<tr><td>17</td><td>6</td><td>5</td><td>pincér</td><td>2003-06-12 00:00:00.000</td><td>450</td><td>6</td><td>0</td><td>2003-09-12 00:00:00.000</td></tr>",
                            "<tr><td>18</td><td>8</td><td>9</td><td>eladó</td><td>2003-07-21 00:00:00.000</td><td>500</td><td>4</td><td>0</td><td>2003-10-21 00:00:00.000</td></tr>",
                            "<tr><td>19</td><td>8</td><td>9</td><td>eladó</td><td>2003-07-22 00:00:00.000</td><td>500</td><td>4</td><td>0</td><td>2003-10-22 00:00:00.000</td></tr>",
                            "<tr><td>20</td><td>8</td><td>10</td><td>takarító</td><td>2003-08-10 00:00:00.000</td><td>350</td><td>6</td><td>1</td><td>2003-11-10 00:00:00.000</td></tr>",
                            "<tr><td>21</td><td>8</td><td>10</td><td>takarító</td><td>2003-08-11 00:00:00.000</td><td>350</td><td>6</td><td>1</td><td>2003-11-11 00:00:00.000</td></tr>",
                            "<tr><td>22</td><td>11</td><td>5</td><td>eladó</td><td>2003-05-10 00:00:00.000</td><td>400</td><td>4</td><td>0</td><td>2003-08-10 00:00:00.000</td></tr>",
                            "<tr><td>23</td><td>11</td><td>6</td><td>raktáros</td><td>2003-05-20 00:00:00.000</td><td>300</td><td>4</td><td>0</td><td>2003-08-20 00:00:00.000</td></tr>",
                            "<tr><td>24</td><td>11</td><td>5</td><td>eladó</td><td>2003-06-23 00:00:00.000</td><td>300</td><td>6</td><td>0</td><td>2003-09-23 00:00:00.000</td></tr>",
                            "<tr><td>27</td><td>10</td><td>3</td><td>takarító</td><td>2003-07-31 00:00:00.000</td><td>300</td><td>4</td><td>1</td><td>2003-10-31 00:00:00.000</td></tr>",
                            "<tr><td>28</td><td>10</td><td>3</td><td>takarító</td><td>2003-08-01 00:00:00.000</td><td>300</td><td>4</td><td>1</td><td>2003-11-01 00:00:00.000</td></tr>",
                            "<tr><td>29</td><td>10</td><td>8</td><td>eladó</td><td>2003-09-12 00:00:00.000</td><td>300</td><td>6</td><td>1</td><td>2003-12-12 00:00:00.000</td></tr>",
                            "<tr><td>30</td><td>10</td><td>8</td><td>eladó</td><td>2003-09-13 00:00:00.000</td><td>300</td><td>6</td><td>1</td><td>2003-12-13 00:00:00.000</td></tr>",
                            "<tr><td>31</td><td>7</td><td>8</td><td>ruhatáros</td><td>2003-08-20 00:00:00.000</td><td>200</td><td>4</td><td>1</td><td>2003-11-20 00:00:00.000</td></tr>",
                            "<tr><td>32</td><td>7</td><td>8</td><td>ruhatáros</td><td>2003-08-21 00:00:00.000</td><td>200</td><td>4</td><td>1</td><td>2003-11-21 00:00:00.000</td></tr>",
                            "<tr><td>38</td><td>5</td><td>7</td><td>eladó</td><td>2003-06-05 00:00:00.000</td><td>400</td><td>4</td><td>0</td><td>2003-09-05 00:00:00.000</td></tr>",
                            "<tr><td>39</td><td>5</td><td>7</td><td>eladó</td><td>2003-06-06 00:00:00.000</td><td>400</td><td>4</td><td>0</td><td>2003-09-06 00:00:00.000</td></tr>",
                            "<tr><td>40</td><td>5</td><td>7</td><td>eladó</td><td>2003-06-07 00:00:00.000</td><td>400</td><td>4</td><td>0</td><td>2003-09-07 00:00:00.000</td></tr>",
                            "</table>"
                        ]
                    }
                }
            ],
            "execution_count": 21
        },
        {
            "cell_type": "markdown",
            "source": [
                "13. Készítsünk listát a munkák azonosítóiról és a megnevezésükről! A megnevezés allas-óraszám formában jelenjen meg, pl: eladó-4. \n",
                "\n",
                "  \n",
                "\n",
                "a.  Jelenítsük meg a dátumot is, de csak a évet és a hónapot, pl: 2003-07! \n",
                "\n",
                "b.  Ennek az oszlopnak 'Kezdés hónapja' legyen a neve! A listát szűrjük a nyári hónapokra!"
            ],
            "metadata": {
                "azdata_cell_guid": "3f9237ae-f109-401c-acb9-31d75e73331b"
            },
            "attachments": {}
        },
        {
            "cell_type": "code",
            "source": [
                ""
            ],
            "metadata": {
                "azdata_cell_guid": "4b31bb89-cfbc-46b1-8639-85c462877786",
                "language": "sql"
            },
            "outputs": [],
            "execution_count": null
        },
        {
            "cell_type": "markdown",
            "source": [
                "14. Készítsünk listát a diákok adatairól, amely a Nev oszlop helyén a diák monogramját jeleníti meg (keresztnév, illetve vezetéknév első betűje összefűzve). \n",
                "\n",
                "a.  A listát szűrjük 1983.01.01 és 1987.06.01 között született diákokra!"
            ],
            "metadata": {
                "azdata_cell_guid": "f634e09a-85ef-4e70-8ec6-ef355dfddaa7"
            },
            "attachments": {}
        },
        {
            "cell_type": "code",
            "source": [
                ""
            ],
            "metadata": {
                "azdata_cell_guid": "88abc55b-2c78-495b-a72f-3f8f4eb5fe70",
                "language": "sql"
            },
            "outputs": [],
            "execution_count": null
        },
        {
            "cell_type": "markdown",
            "source": [
                "15. A diákok a munkakezdés évének utolsó napján bónuszt kapnak, amennyiben az adott évben legalább 6 hónapot dolgoznak. \n",
                "\n",
                "  \n",
                "\n",
                "a.  Jelenítsük meg, hogy az egyes munkák adatait, egy új oszlopban az éves bónusz napját is 'Bónusz dátum' néven! \n",
                "\n",
                "b.  A lista csak a bónuszra jogosultak adatait tartalmazza!"
            ],
            "metadata": {
                "azdata_cell_guid": "4cbf2f0d-a65d-480a-8186-ccdb24498443"
            },
            "attachments": {}
        },
        {
            "cell_type": "code",
            "source": [
                ""
            ],
            "metadata": {
                "azdata_cell_guid": "c148aee8-bc85-40bf-b80a-a4898a6c05cb",
                "language": "sql"
            },
            "outputs": [],
            "execution_count": null
        }
    ]
}