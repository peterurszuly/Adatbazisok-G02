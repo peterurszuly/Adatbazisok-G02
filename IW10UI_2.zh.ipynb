{
    "metadata": {
        "kernelspec": {
            "name": "SQL",
            "display_name": "SQL",
            "language": "sql"
        },
        "language_info": {
            "name": "sql",
            "version": ""
        }
    },
    "nbformat_minor": 2,
    "nbformat": 4,
    "cells": [
        {
            "cell_type": "code",
            "source": [
                "SELECT\r\n",
                "    sz.SZOBA_ID,\r\n",
                "    sz.FEROHELY,\r\n",
                "    DENSE_RANK() OVER (ORDER BY COUNT(f.FOGLALAS_PK) DESC, sz.FEROHELY ASC) AS 'Helyezes'\r\n",
                "FROM SZOBA sz left JOIN FOGLALAS f ON sz.SZOBA_ID = f.SZOBA_FK\r\n",
                "GROUP BY sz.SZOBA_ID, sz.FEROHELY\r\n",
                "ORDER BY Helyezes"
            ],
            "metadata": {
                "azdata_cell_guid": "e69cea98-90c2-41d0-b02d-dd09cdc0350c",
                "language": "sql"
            },
            "outputs": [
                {
                    "output_type": "display_data",
                    "data": {
                        "text/html": "(294 rows affected)"
                    },
                    "metadata": {}
                },
                {
                    "output_type": "display_data",
                    "data": {
                        "text/html": "Total execution time: 00:00:00.013"
                    },
                    "metadata": {}
                },
                {
                    "output_type": "execute_result",
                    "metadata": {},
                    "execution_count": 10,
                    "data": {
                        "application/vnd.dataresource+json": {
                            "schema": {
                                "fields": [
                                    {
                                        "name": "SZOBA_ID"
                                    },
                                    {
                                        "name": "FEROHELY"
                                    },
                                    {
                                        "name": "Helyezes"
                                    }
                                ]
                            },
                            "data": [
                                {
                                    "SZOBA_ID": "58",
                                    "FEROHELY": "2",
                                    "Helyezes": "1"
                                },
                                {
                                    "SZOBA_ID": "182",
                                    "FEROHELY": "2",
                                    "Helyezes": "2"
                                },
                                {
                                    "SZOBA_ID": "185",
                                    "FEROHELY": "3",
                                    "Helyezes": "3"
                                },
                                {
                                    "SZOBA_ID": "70",
                                    "FEROHELY": "2",
                                    "Helyezes": "4"
                                },
                                {
                                    "SZOBA_ID": "94",
                                    "FEROHELY": "2",
                                    "Helyezes": "5"
                                },
                                {
                                    "SZOBA_ID": "12",
                                    "FEROHELY": "2",
                                    "Helyezes": "6"
                                },
                                {
                                    "SZOBA_ID": "172",
                                    "FEROHELY": "2",
                                    "Helyezes": "6"
                                },
                                {
                                    "SZOBA_ID": "35",
                                    "FEROHELY": "3",
                                    "Helyezes": "7"
                                },
                                {
                                    "SZOBA_ID": "48",
                                    "FEROHELY": "3",
                                    "Helyezes": "7"
                                },
                                {
                                    "SZOBA_ID": "74",
                                    "FEROHELY": "3",
                                    "Helyezes": "7"
                                },
                                {
                                    "SZOBA_ID": "122",
                                    "FEROHELY": "3",
                                    "Helyezes": "7"
                                },
                                {
                                    "SZOBA_ID": "121",
                                    "FEROHELY": "2",
                                    "Helyezes": "8"
                                },
                                {
                                    "SZOBA_ID": "140",
                                    "FEROHELY": "2",
                                    "Helyezes": "8"
                                },
                                {
                                    "SZOBA_ID": "110",
                                    "FEROHELY": "2",
                                    "Helyezes": "8"
                                },
                                {
                                    "SZOBA_ID": "55",
                                    "FEROHELY": "2",
                                    "Helyezes": "8"
                                },
                                {
                                    "SZOBA_ID": "38",
                                    "FEROHELY": "2",
                                    "Helyezes": "8"
                                },
                                {
                                    "SZOBA_ID": "1",
                                    "FEROHELY": "3",
                                    "Helyezes": "9"
                                },
                                {
                                    "SZOBA_ID": "3",
                                    "FEROHELY": "3",
                                    "Helyezes": "9"
                                },
                                {
                                    "SZOBA_ID": "43",
                                    "FEROHELY": "3",
                                    "Helyezes": "9"
                                },
                                {
                                    "SZOBA_ID": "83",
                                    "FEROHELY": "3",
                                    "Helyezes": "9"
                                },
                                {
                                    "SZOBA_ID": "88",
                                    "FEROHELY": "3",
                                    "Helyezes": "9"
                                },
                                {
                                    "SZOBA_ID": "89",
                                    "FEROHELY": "3",
                                    "Helyezes": "9"
                                },
                                {
                                    "SZOBA_ID": "117",
                                    "FEROHELY": "3",
                                    "Helyezes": "9"
                                },
                                {
                                    "SZOBA_ID": "198",
                                    "FEROHELY": "3",
                                    "Helyezes": "9"
                                },
                                {
                                    "SZOBA_ID": "165",
                                    "FEROHELY": "2",
                                    "Helyezes": "10"
                                },
                                {
                                    "SZOBA_ID": "149",
                                    "FEROHELY": "2",
                                    "Helyezes": "10"
                                },
                                {
                                    "SZOBA_ID": "156",
                                    "FEROHELY": "2",
                                    "Helyezes": "10"
                                },
                                {
                                    "SZOBA_ID": "163",
                                    "FEROHELY": "2",
                                    "Helyezes": "10"
                                },
                                {
                                    "SZOBA_ID": "118",
                                    "FEROHELY": "2",
                                    "Helyezes": "10"
                                },
                                {
                                    "SZOBA_ID": "109",
                                    "FEROHELY": "2",
                                    "Helyezes": "10"
                                },
                                {
                                    "SZOBA_ID": "127",
                                    "FEROHELY": "2",
                                    "Helyezes": "10"
                                },
                                {
                                    "SZOBA_ID": "139",
                                    "FEROHELY": "2",
                                    "Helyezes": "10"
                                },
                                {
                                    "SZOBA_ID": "80",
                                    "FEROHELY": "2",
                                    "Helyezes": "10"
                                },
                                {
                                    "SZOBA_ID": "59",
                                    "FEROHELY": "2",
                                    "Helyezes": "10"
                                },
                                {
                                    "SZOBA_ID": "39",
                                    "FEROHELY": "2",
                                    "Helyezes": "10"
                                },
                                {
                                    "SZOBA_ID": "27",
                                    "FEROHELY": "3",
                                    "Helyezes": "11"
                                },
                                {
                                    "SZOBA_ID": "49",
                                    "FEROHELY": "3",
                                    "Helyezes": "11"
                                },
                                {
                                    "SZOBA_ID": "96",
                                    "FEROHELY": "3",
                                    "Helyezes": "11"
                                },
                                {
                                    "SZOBA_ID": "97",
                                    "FEROHELY": "3",
                                    "Helyezes": "11"
                                },
                                {
                                    "SZOBA_ID": "138",
                                    "FEROHELY": "3",
                                    "Helyezes": "11"
                                },
                                {
                                    "SZOBA_ID": "143",
                                    "FEROHELY": "3",
                                    "Helyezes": "11"
                                },
                                {
                                    "SZOBA_ID": "115",
                                    "FEROHELY": "3",
                                    "Helyezes": "11"
                                },
                                {
                                    "SZOBA_ID": "193",
                                    "FEROHELY": "3",
                                    "Helyezes": "11"
                                },
                                {
                                    "SZOBA_ID": "187",
                                    "FEROHELY": "3",
                                    "Helyezes": "11"
                                },
                                {
                                    "SZOBA_ID": "195",
                                    "FEROHELY": "2",
                                    "Helyezes": "12"
                                },
                                {
                                    "SZOBA_ID": "161",
                                    "FEROHELY": "2",
                                    "Helyezes": "12"
                                },
                                {
                                    "SZOBA_ID": "150",
                                    "FEROHELY": "2",
                                    "Helyezes": "12"
                                },
                                {
                                    "SZOBA_ID": "148",
                                    "FEROHELY": "2",
                                    "Helyezes": "12"
                                },
                                {
                                    "SZOBA_ID": "169",
                                    "FEROHELY": "2",
                                    "Helyezes": "12"
                                },
                                {
                                    "SZOBA_ID": "106",
                                    "FEROHELY": "2",
                                    "Helyezes": "12"
                                },
                                {
                                    "SZOBA_ID": "126",
                                    "FEROHELY": "2",
                                    "Helyezes": "12"
                                },
                                {
                                    "SZOBA_ID": "145",
                                    "FEROHELY": "2",
                                    "Helyezes": "12"
                                },
                                {
                                    "SZOBA_ID": "141",
                                    "FEROHELY": "2",
                                    "Helyezes": "12"
                                },
                                {
                                    "SZOBA_ID": "130",
                                    "FEROHELY": "2",
                                    "Helyezes": "12"
                                },
                                {
                                    "SZOBA_ID": "137",
                                    "FEROHELY": "2",
                                    "Helyezes": "12"
                                },
                                {
                                    "SZOBA_ID": "78",
                                    "FEROHELY": "2",
                                    "Helyezes": "12"
                                },
                                {
                                    "SZOBA_ID": "42",
                                    "FEROHELY": "2",
                                    "Helyezes": "12"
                                },
                                {
                                    "SZOBA_ID": "64",
                                    "FEROHELY": "2",
                                    "Helyezes": "12"
                                },
                                {
                                    "SZOBA_ID": "67",
                                    "FEROHELY": "2",
                                    "Helyezes": "12"
                                },
                                {
                                    "SZOBA_ID": "28",
                                    "FEROHELY": "2",
                                    "Helyezes": "12"
                                },
                                {
                                    "SZOBA_ID": "29",
                                    "FEROHELY": "2",
                                    "Helyezes": "12"
                                },
                                {
                                    "SZOBA_ID": "19",
                                    "FEROHELY": "2",
                                    "Helyezes": "12"
                                },
                                {
                                    "SZOBA_ID": "33",
                                    "FEROHELY": "2",
                                    "Helyezes": "12"
                                },
                                {
                                    "SZOBA_ID": "4",
                                    "FEROHELY": "2",
                                    "Helyezes": "12"
                                },
                                {
                                    "SZOBA_ID": "7",
                                    "FEROHELY": "2",
                                    "Helyezes": "12"
                                },
                                {
                                    "SZOBA_ID": "15",
                                    "FEROHELY": "2",
                                    "Helyezes": "12"
                                },
                                {
                                    "SZOBA_ID": "17",
                                    "FEROHELY": "3",
                                    "Helyezes": "13"
                                },
                                {
                                    "SZOBA_ID": "18",
                                    "FEROHELY": "3",
                                    "Helyezes": "13"
                                },
                                {
                                    "SZOBA_ID": "6",
                                    "FEROHELY": "3",
                                    "Helyezes": "13"
                                },
                                {
                                    "SZOBA_ID": "9",
                                    "FEROHELY": "3",
                                    "Helyezes": "13"
                                },
                                {
                                    "SZOBA_ID": "22",
                                    "FEROHELY": "3",
                                    "Helyezes": "13"
                                },
                                {
                                    "SZOBA_ID": "36",
                                    "FEROHELY": "3",
                                    "Helyezes": "13"
                                },
                                {
                                    "SZOBA_ID": "44",
                                    "FEROHELY": "3",
                                    "Helyezes": "13"
                                },
                                {
                                    "SZOBA_ID": "54",
                                    "FEROHELY": "3",
                                    "Helyezes": "13"
                                },
                                {
                                    "SZOBA_ID": "77",
                                    "FEROHELY": "3",
                                    "Helyezes": "13"
                                },
                                {
                                    "SZOBA_ID": "82",
                                    "FEROHELY": "3",
                                    "Helyezes": "13"
                                },
                                {
                                    "SZOBA_ID": "92",
                                    "FEROHELY": "3",
                                    "Helyezes": "13"
                                },
                                {
                                    "SZOBA_ID": "132",
                                    "FEROHELY": "3",
                                    "Helyezes": "13"
                                },
                                {
                                    "SZOBA_ID": "133",
                                    "FEROHELY": "3",
                                    "Helyezes": "13"
                                },
                                {
                                    "SZOBA_ID": "134",
                                    "FEROHELY": "3",
                                    "Helyezes": "13"
                                },
                                {
                                    "SZOBA_ID": "146",
                                    "FEROHELY": "3",
                                    "Helyezes": "13"
                                },
                                {
                                    "SZOBA_ID": "124",
                                    "FEROHELY": "3",
                                    "Helyezes": "13"
                                },
                                {
                                    "SZOBA_ID": "120",
                                    "FEROHELY": "3",
                                    "Helyezes": "13"
                                },
                                {
                                    "SZOBA_ID": "181",
                                    "FEROHELY": "3",
                                    "Helyezes": "13"
                                },
                                {
                                    "SZOBA_ID": "176",
                                    "FEROHELY": "3",
                                    "Helyezes": "13"
                                },
                                {
                                    "SZOBA_ID": "197",
                                    "FEROHELY": "3",
                                    "Helyezes": "13"
                                },
                                {
                                    "SZOBA_ID": "188",
                                    "FEROHELY": "3",
                                    "Helyezes": "13"
                                },
                                {
                                    "SZOBA_ID": "189",
                                    "FEROHELY": "2",
                                    "Helyezes": "14"
                                },
                                {
                                    "SZOBA_ID": "190",
                                    "FEROHELY": "2",
                                    "Helyezes": "14"
                                },
                                {
                                    "SZOBA_ID": "191",
                                    "FEROHELY": "2",
                                    "Helyezes": "14"
                                },
                                {
                                    "SZOBA_ID": "170",
                                    "FEROHELY": "2",
                                    "Helyezes": "14"
                                },
                                {
                                    "SZOBA_ID": "171",
                                    "FEROHELY": "2",
                                    "Helyezes": "14"
                                },
                                {
                                    "SZOBA_ID": "168",
                                    "FEROHELY": "2",
                                    "Helyezes": "14"
                                },
                                {
                                    "SZOBA_ID": "175",
                                    "FEROHELY": "2",
                                    "Helyezes": "14"
                                },
                                {
                                    "SZOBA_ID": "157",
                                    "FEROHELY": "2",
                                    "Helyezes": "14"
                                },
                                {
                                    "SZOBA_ID": "164",
                                    "FEROHELY": "2",
                                    "Helyezes": "14"
                                },
                                {
                                    "SZOBA_ID": "154",
                                    "FEROHELY": "2",
                                    "Helyezes": "14"
                                },
                                {
                                    "SZOBA_ID": "119",
                                    "FEROHELY": "2",
                                    "Helyezes": "14"
                                },
                                {
                                    "SZOBA_ID": "107",
                                    "FEROHELY": "2",
                                    "Helyezes": "14"
                                },
                                {
                                    "SZOBA_ID": "128",
                                    "FEROHELY": "2",
                                    "Helyezes": "14"
                                },
                                {
                                    "SZOBA_ID": "131",
                                    "FEROHELY": "2",
                                    "Helyezes": "14"
                                },
                                {
                                    "SZOBA_ID": "99",
                                    "FEROHELY": "2",
                                    "Helyezes": "14"
                                },
                                {
                                    "SZOBA_ID": "111",
                                    "FEROHELY": "2",
                                    "Helyezes": "14"
                                },
                                {
                                    "SZOBA_ID": "81",
                                    "FEROHELY": "2",
                                    "Helyezes": "14"
                                },
                                {
                                    "SZOBA_ID": "86",
                                    "FEROHELY": "2",
                                    "Helyezes": "14"
                                },
                                {
                                    "SZOBA_ID": "52",
                                    "FEROHELY": "2",
                                    "Helyezes": "14"
                                },
                                {
                                    "SZOBA_ID": "45",
                                    "FEROHELY": "2",
                                    "Helyezes": "14"
                                },
                                {
                                    "SZOBA_ID": "62",
                                    "FEROHELY": "2",
                                    "Helyezes": "14"
                                },
                                {
                                    "SZOBA_ID": "61",
                                    "FEROHELY": "3",
                                    "Helyezes": "15"
                                },
                                {
                                    "SZOBA_ID": "51",
                                    "FEROHELY": "3",
                                    "Helyezes": "15"
                                },
                                {
                                    "SZOBA_ID": "20",
                                    "FEROHELY": "3",
                                    "Helyezes": "15"
                                },
                                {
                                    "SZOBA_ID": "8",
                                    "FEROHELY": "3",
                                    "Helyezes": "15"
                                },
                                {
                                    "SZOBA_ID": "16",
                                    "FEROHELY": "3",
                                    "Helyezes": "15"
                                },
                                {
                                    "SZOBA_ID": "87",
                                    "FEROHELY": "3",
                                    "Helyezes": "15"
                                },
                                {
                                    "SZOBA_ID": "79",
                                    "FEROHELY": "3",
                                    "Helyezes": "15"
                                },
                                {
                                    "SZOBA_ID": "112",
                                    "FEROHELY": "3",
                                    "Helyezes": "15"
                                },
                                {
                                    "SZOBA_ID": "113",
                                    "FEROHELY": "3",
                                    "Helyezes": "15"
                                },
                                {
                                    "SZOBA_ID": "93",
                                    "FEROHELY": "3",
                                    "Helyezes": "15"
                                },
                                {
                                    "SZOBA_ID": "144",
                                    "FEROHELY": "3",
                                    "Helyezes": "15"
                                },
                                {
                                    "SZOBA_ID": "123",
                                    "FEROHELY": "3",
                                    "Helyezes": "15"
                                },
                                {
                                    "SZOBA_ID": "155",
                                    "FEROHELY": "3",
                                    "Helyezes": "15"
                                },
                                {
                                    "SZOBA_ID": "153",
                                    "FEROHELY": "3",
                                    "Helyezes": "15"
                                },
                                {
                                    "SZOBA_ID": "160",
                                    "FEROHELY": "3",
                                    "Helyezes": "15"
                                },
                                {
                                    "SZOBA_ID": "152",
                                    "FEROHELY": "2",
                                    "Helyezes": "16"
                                },
                                {
                                    "SZOBA_ID": "173",
                                    "FEROHELY": "2",
                                    "Helyezes": "16"
                                },
                                {
                                    "SZOBA_ID": "174",
                                    "FEROHELY": "2",
                                    "Helyezes": "16"
                                },
                                {
                                    "SZOBA_ID": "186",
                                    "FEROHELY": "2",
                                    "Helyezes": "16"
                                },
                                {
                                    "SZOBA_ID": "184",
                                    "FEROHELY": "2",
                                    "Helyezes": "16"
                                },
                                {
                                    "SZOBA_ID": "196",
                                    "FEROHELY": "2",
                                    "Helyezes": "16"
                                },
                                {
                                    "SZOBA_ID": "129",
                                    "FEROHELY": "2",
                                    "Helyezes": "16"
                                },
                                {
                                    "SZOBA_ID": "100",
                                    "FEROHELY": "2",
                                    "Helyezes": "16"
                                },
                                {
                                    "SZOBA_ID": "114",
                                    "FEROHELY": "2",
                                    "Helyezes": "16"
                                },
                                {
                                    "SZOBA_ID": "98",
                                    "FEROHELY": "2",
                                    "Helyezes": "16"
                                },
                                {
                                    "SZOBA_ID": "103",
                                    "FEROHELY": "2",
                                    "Helyezes": "16"
                                },
                                {
                                    "SZOBA_ID": "85",
                                    "FEROHELY": "2",
                                    "Helyezes": "16"
                                },
                                {
                                    "SZOBA_ID": "91",
                                    "FEROHELY": "2",
                                    "Helyezes": "16"
                                },
                                {
                                    "SZOBA_ID": "11",
                                    "FEROHELY": "2",
                                    "Helyezes": "16"
                                },
                                {
                                    "SZOBA_ID": "5",
                                    "FEROHELY": "2",
                                    "Helyezes": "16"
                                },
                                {
                                    "SZOBA_ID": "21",
                                    "FEROHELY": "2",
                                    "Helyezes": "16"
                                },
                                {
                                    "SZOBA_ID": "50",
                                    "FEROHELY": "2",
                                    "Helyezes": "16"
                                },
                                {
                                    "SZOBA_ID": "57",
                                    "FEROHELY": "2",
                                    "Helyezes": "16"
                                },
                                {
                                    "SZOBA_ID": "63",
                                    "FEROHELY": "2",
                                    "Helyezes": "16"
                                },
                                {
                                    "SZOBA_ID": "72",
                                    "FEROHELY": "2",
                                    "Helyezes": "16"
                                },
                                {
                                    "SZOBA_ID": "73",
                                    "FEROHELY": "2",
                                    "Helyezes": "16"
                                },
                                {
                                    "SZOBA_ID": "66",
                                    "FEROHELY": "3",
                                    "Helyezes": "17"
                                },
                                {
                                    "SZOBA_ID": "69",
                                    "FEROHELY": "3",
                                    "Helyezes": "17"
                                },
                                {
                                    "SZOBA_ID": "46",
                                    "FEROHELY": "3",
                                    "Helyezes": "17"
                                },
                                {
                                    "SZOBA_ID": "34",
                                    "FEROHELY": "3",
                                    "Helyezes": "17"
                                },
                                {
                                    "SZOBA_ID": "40",
                                    "FEROHELY": "3",
                                    "Helyezes": "17"
                                },
                                {
                                    "SZOBA_ID": "2",
                                    "FEROHELY": "3",
                                    "Helyezes": "17"
                                },
                                {
                                    "SZOBA_ID": "10",
                                    "FEROHELY": "3",
                                    "Helyezes": "17"
                                },
                                {
                                    "SZOBA_ID": "13",
                                    "FEROHELY": "3",
                                    "Helyezes": "17"
                                },
                                {
                                    "SZOBA_ID": "90",
                                    "FEROHELY": "3",
                                    "Helyezes": "17"
                                },
                                {
                                    "SZOBA_ID": "84",
                                    "FEROHELY": "3",
                                    "Helyezes": "17"
                                },
                                {
                                    "SZOBA_ID": "104",
                                    "FEROHELY": "3",
                                    "Helyezes": "17"
                                },
                                {
                                    "SZOBA_ID": "95",
                                    "FEROHELY": "3",
                                    "Helyezes": "17"
                                },
                                {
                                    "SZOBA_ID": "177",
                                    "FEROHELY": "3",
                                    "Helyezes": "17"
                                },
                                {
                                    "SZOBA_ID": "178",
                                    "FEROHELY": "3",
                                    "Helyezes": "17"
                                },
                                {
                                    "SZOBA_ID": "183",
                                    "FEROHELY": "3",
                                    "Helyezes": "17"
                                },
                                {
                                    "SZOBA_ID": "180",
                                    "FEROHELY": "2",
                                    "Helyezes": "18"
                                },
                                {
                                    "SZOBA_ID": "166",
                                    "FEROHELY": "2",
                                    "Helyezes": "18"
                                },
                                {
                                    "SZOBA_ID": "151",
                                    "FEROHELY": "2",
                                    "Helyezes": "18"
                                },
                                {
                                    "SZOBA_ID": "158",
                                    "FEROHELY": "2",
                                    "Helyezes": "18"
                                },
                                {
                                    "SZOBA_ID": "101",
                                    "FEROHELY": "2",
                                    "Helyezes": "18"
                                },
                                {
                                    "SZOBA_ID": "75",
                                    "FEROHELY": "2",
                                    "Helyezes": "18"
                                },
                                {
                                    "SZOBA_ID": "76",
                                    "FEROHELY": "2",
                                    "Helyezes": "18"
                                },
                                {
                                    "SZOBA_ID": "136",
                                    "FEROHELY": "2",
                                    "Helyezes": "18"
                                },
                                {
                                    "SZOBA_ID": "23",
                                    "FEROHELY": "2",
                                    "Helyezes": "18"
                                },
                                {
                                    "SZOBA_ID": "37",
                                    "FEROHELY": "2",
                                    "Helyezes": "18"
                                },
                                {
                                    "SZOBA_ID": "68",
                                    "FEROHELY": "2",
                                    "Helyezes": "18"
                                },
                                {
                                    "SZOBA_ID": "71",
                                    "FEROHELY": "3",
                                    "Helyezes": "19"
                                },
                                {
                                    "SZOBA_ID": "30",
                                    "FEROHELY": "3",
                                    "Helyezes": "19"
                                },
                                {
                                    "SZOBA_ID": "31",
                                    "FEROHELY": "3",
                                    "Helyezes": "19"
                                },
                                {
                                    "SZOBA_ID": "14",
                                    "FEROHELY": "3",
                                    "Helyezes": "19"
                                },
                                {
                                    "SZOBA_ID": "135",
                                    "FEROHELY": "3",
                                    "Helyezes": "19"
                                },
                                {
                                    "SZOBA_ID": "162",
                                    "FEROHELY": "3",
                                    "Helyezes": "19"
                                },
                                {
                                    "SZOBA_ID": "179",
                                    "FEROHELY": "3",
                                    "Helyezes": "19"
                                },
                                {
                                    "SZOBA_ID": "24",
                                    "FEROHELY": "4",
                                    "Helyezes": "20"
                                },
                                {
                                    "SZOBA_ID": "26",
                                    "FEROHELY": "2",
                                    "Helyezes": "21"
                                },
                                {
                                    "SZOBA_ID": "47",
                                    "FEROHELY": "2",
                                    "Helyezes": "21"
                                },
                                {
                                    "SZOBA_ID": "53",
                                    "FEROHELY": "2",
                                    "Helyezes": "21"
                                },
                                {
                                    "SZOBA_ID": "56",
                                    "FEROHELY": "2",
                                    "Helyezes": "21"
                                },
                                {
                                    "SZOBA_ID": "108",
                                    "FEROHELY": "2",
                                    "Helyezes": "21"
                                },
                                {
                                    "SZOBA_ID": "102",
                                    "FEROHELY": "2",
                                    "Helyezes": "21"
                                },
                                {
                                    "SZOBA_ID": "105",
                                    "FEROHELY": "2",
                                    "Helyezes": "21"
                                },
                                {
                                    "SZOBA_ID": "192",
                                    "FEROHELY": "2",
                                    "Helyezes": "21"
                                },
                                {
                                    "SZOBA_ID": "167",
                                    "FEROHELY": "3",
                                    "Helyezes": "22"
                                },
                                {
                                    "SZOBA_ID": "116",
                                    "FEROHELY": "3",
                                    "Helyezes": "22"
                                },
                                {
                                    "SZOBA_ID": "142",
                                    "FEROHELY": "3",
                                    "Helyezes": "22"
                                },
                                {
                                    "SZOBA_ID": "25",
                                    "FEROHELY": "3",
                                    "Helyezes": "22"
                                },
                                {
                                    "SZOBA_ID": "41",
                                    "FEROHELY": "3",
                                    "Helyezes": "22"
                                },
                                {
                                    "SZOBA_ID": "32",
                                    "FEROHELY": "2",
                                    "Helyezes": "23"
                                },
                                {
                                    "SZOBA_ID": "65",
                                    "FEROHELY": "2",
                                    "Helyezes": "23"
                                },
                                {
                                    "SZOBA_ID": "147",
                                    "FEROHELY": "2",
                                    "Helyezes": "23"
                                },
                                {
                                    "SZOBA_ID": "125",
                                    "FEROHELY": "2",
                                    "Helyezes": "23"
                                },
                                {
                                    "SZOBA_ID": "194",
                                    "FEROHELY": "2",
                                    "Helyezes": "23"
                                },
                                {
                                    "SZOBA_ID": "60",
                                    "FEROHELY": "3",
                                    "Helyezes": "24"
                                },
                                {
                                    "SZOBA_ID": "261",
                                    "FEROHELY": "1",
                                    "Helyezes": "25"
                                },
                                {
                                    "SZOBA_ID": "262",
                                    "FEROHELY": "1",
                                    "Helyezes": "25"
                                },
                                {
                                    "SZOBA_ID": "263",
                                    "FEROHELY": "2",
                                    "Helyezes": "26"
                                },
                                {
                                    "SZOBA_ID": "266",
                                    "FEROHELY": "2",
                                    "Helyezes": "26"
                                },
                                {
                                    "SZOBA_ID": "267",
                                    "FEROHELY": "2",
                                    "Helyezes": "26"
                                },
                                {
                                    "SZOBA_ID": "268",
                                    "FEROHELY": "2",
                                    "Helyezes": "26"
                                },
                                {
                                    "SZOBA_ID": "269",
                                    "FEROHELY": "2",
                                    "Helyezes": "26"
                                },
                                {
                                    "SZOBA_ID": "275",
                                    "FEROHELY": "2",
                                    "Helyezes": "26"
                                },
                                {
                                    "SZOBA_ID": "276",
                                    "FEROHELY": "2",
                                    "Helyezes": "26"
                                },
                                {
                                    "SZOBA_ID": "277",
                                    "FEROHELY": "2",
                                    "Helyezes": "26"
                                },
                                {
                                    "SZOBA_ID": "273",
                                    "FEROHELY": "2",
                                    "Helyezes": "26"
                                },
                                {
                                    "SZOBA_ID": "279",
                                    "FEROHELY": "2",
                                    "Helyezes": "26"
                                },
                                {
                                    "SZOBA_ID": "281",
                                    "FEROHELY": "2",
                                    "Helyezes": "26"
                                },
                                {
                                    "SZOBA_ID": "282",
                                    "FEROHELY": "2",
                                    "Helyezes": "26"
                                },
                                {
                                    "SZOBA_ID": "283",
                                    "FEROHELY": "2",
                                    "Helyezes": "26"
                                },
                                {
                                    "SZOBA_ID": "284",
                                    "FEROHELY": "2",
                                    "Helyezes": "26"
                                },
                                {
                                    "SZOBA_ID": "285",
                                    "FEROHELY": "2",
                                    "Helyezes": "26"
                                },
                                {
                                    "SZOBA_ID": "290",
                                    "FEROHELY": "2",
                                    "Helyezes": "26"
                                },
                                {
                                    "SZOBA_ID": "291",
                                    "FEROHELY": "2",
                                    "Helyezes": "26"
                                },
                                {
                                    "SZOBA_ID": "292",
                                    "FEROHELY": "2",
                                    "Helyezes": "26"
                                },
                                {
                                    "SZOBA_ID": "293",
                                    "FEROHELY": "2",
                                    "Helyezes": "26"
                                },
                                {
                                    "SZOBA_ID": "288",
                                    "FEROHELY": "2",
                                    "Helyezes": "26"
                                },
                                {
                                    "SZOBA_ID": "222",
                                    "FEROHELY": "2",
                                    "Helyezes": "26"
                                },
                                {
                                    "SZOBA_ID": "223",
                                    "FEROHELY": "2",
                                    "Helyezes": "26"
                                },
                                {
                                    "SZOBA_ID": "224",
                                    "FEROHELY": "2",
                                    "Helyezes": "26"
                                },
                                {
                                    "SZOBA_ID": "225",
                                    "FEROHELY": "2",
                                    "Helyezes": "26"
                                },
                                {
                                    "SZOBA_ID": "227",
                                    "FEROHELY": "2",
                                    "Helyezes": "26"
                                },
                                {
                                    "SZOBA_ID": "229",
                                    "FEROHELY": "2",
                                    "Helyezes": "26"
                                },
                                {
                                    "SZOBA_ID": "231",
                                    "FEROHELY": "2",
                                    "Helyezes": "26"
                                },
                                {
                                    "SZOBA_ID": "232",
                                    "FEROHELY": "2",
                                    "Helyezes": "26"
                                },
                                {
                                    "SZOBA_ID": "237",
                                    "FEROHELY": "2",
                                    "Helyezes": "26"
                                },
                                {
                                    "SZOBA_ID": "239",
                                    "FEROHELY": "2",
                                    "Helyezes": "26"
                                },
                                {
                                    "SZOBA_ID": "241",
                                    "FEROHELY": "2",
                                    "Helyezes": "26"
                                },
                                {
                                    "SZOBA_ID": "242",
                                    "FEROHELY": "2",
                                    "Helyezes": "26"
                                },
                                {
                                    "SZOBA_ID": "243",
                                    "FEROHELY": "2",
                                    "Helyezes": "26"
                                },
                                {
                                    "SZOBA_ID": "244",
                                    "FEROHELY": "2",
                                    "Helyezes": "26"
                                },
                                {
                                    "SZOBA_ID": "245",
                                    "FEROHELY": "2",
                                    "Helyezes": "26"
                                },
                                {
                                    "SZOBA_ID": "246",
                                    "FEROHELY": "2",
                                    "Helyezes": "26"
                                },
                                {
                                    "SZOBA_ID": "247",
                                    "FEROHELY": "2",
                                    "Helyezes": "26"
                                },
                                {
                                    "SZOBA_ID": "248",
                                    "FEROHELY": "2",
                                    "Helyezes": "26"
                                },
                                {
                                    "SZOBA_ID": "249",
                                    "FEROHELY": "2",
                                    "Helyezes": "26"
                                },
                                {
                                    "SZOBA_ID": "253",
                                    "FEROHELY": "2",
                                    "Helyezes": "26"
                                },
                                {
                                    "SZOBA_ID": "254",
                                    "FEROHELY": "2",
                                    "Helyezes": "26"
                                },
                                {
                                    "SZOBA_ID": "257",
                                    "FEROHELY": "2",
                                    "Helyezes": "26"
                                },
                                {
                                    "SZOBA_ID": "258",
                                    "FEROHELY": "2",
                                    "Helyezes": "26"
                                },
                                {
                                    "SZOBA_ID": "259",
                                    "FEROHELY": "2",
                                    "Helyezes": "26"
                                },
                                {
                                    "SZOBA_ID": "260",
                                    "FEROHELY": "2",
                                    "Helyezes": "26"
                                },
                                {
                                    "SZOBA_ID": "200",
                                    "FEROHELY": "2",
                                    "Helyezes": "26"
                                },
                                {
                                    "SZOBA_ID": "215",
                                    "FEROHELY": "2",
                                    "Helyezes": "26"
                                },
                                {
                                    "SZOBA_ID": "217",
                                    "FEROHELY": "2",
                                    "Helyezes": "26"
                                },
                                {
                                    "SZOBA_ID": "219",
                                    "FEROHELY": "2",
                                    "Helyezes": "26"
                                },
                                {
                                    "SZOBA_ID": "206",
                                    "FEROHELY": "2",
                                    "Helyezes": "26"
                                },
                                {
                                    "SZOBA_ID": "207",
                                    "FEROHELY": "2",
                                    "Helyezes": "26"
                                },
                                {
                                    "SZOBA_ID": "208",
                                    "FEROHELY": "2",
                                    "Helyezes": "26"
                                },
                                {
                                    "SZOBA_ID": "210",
                                    "FEROHELY": "2",
                                    "Helyezes": "26"
                                },
                                {
                                    "SZOBA_ID": "211",
                                    "FEROHELY": "2",
                                    "Helyezes": "26"
                                },
                                {
                                    "SZOBA_ID": "212",
                                    "FEROHELY": "3",
                                    "Helyezes": "27"
                                },
                                {
                                    "SZOBA_ID": "213",
                                    "FEROHELY": "3",
                                    "Helyezes": "27"
                                },
                                {
                                    "SZOBA_ID": "214",
                                    "FEROHELY": "3",
                                    "Helyezes": "27"
                                },
                                {
                                    "SZOBA_ID": "209",
                                    "FEROHELY": "3",
                                    "Helyezes": "27"
                                },
                                {
                                    "SZOBA_ID": "220",
                                    "FEROHELY": "3",
                                    "Helyezes": "27"
                                },
                                {
                                    "SZOBA_ID": "221",
                                    "FEROHELY": "3",
                                    "Helyezes": "27"
                                },
                                {
                                    "SZOBA_ID": "218",
                                    "FEROHELY": "3",
                                    "Helyezes": "27"
                                },
                                {
                                    "SZOBA_ID": "216",
                                    "FEROHELY": "3",
                                    "Helyezes": "27"
                                },
                                {
                                    "SZOBA_ID": "199",
                                    "FEROHELY": "3",
                                    "Helyezes": "27"
                                },
                                {
                                    "SZOBA_ID": "201",
                                    "FEROHELY": "3",
                                    "Helyezes": "27"
                                },
                                {
                                    "SZOBA_ID": "202",
                                    "FEROHELY": "3",
                                    "Helyezes": "27"
                                },
                                {
                                    "SZOBA_ID": "203",
                                    "FEROHELY": "3",
                                    "Helyezes": "27"
                                },
                                {
                                    "SZOBA_ID": "204",
                                    "FEROHELY": "3",
                                    "Helyezes": "27"
                                },
                                {
                                    "SZOBA_ID": "205",
                                    "FEROHELY": "3",
                                    "Helyezes": "27"
                                },
                                {
                                    "SZOBA_ID": "159",
                                    "FEROHELY": "3",
                                    "Helyezes": "27"
                                },
                                {
                                    "SZOBA_ID": "255",
                                    "FEROHELY": "3",
                                    "Helyezes": "27"
                                },
                                {
                                    "SZOBA_ID": "256",
                                    "FEROHELY": "3",
                                    "Helyezes": "27"
                                },
                                {
                                    "SZOBA_ID": "250",
                                    "FEROHELY": "3",
                                    "Helyezes": "27"
                                },
                                {
                                    "SZOBA_ID": "251",
                                    "FEROHELY": "3",
                                    "Helyezes": "27"
                                },
                                {
                                    "SZOBA_ID": "252",
                                    "FEROHELY": "3",
                                    "Helyezes": "27"
                                },
                                {
                                    "SZOBA_ID": "240",
                                    "FEROHELY": "3",
                                    "Helyezes": "27"
                                },
                                {
                                    "SZOBA_ID": "238",
                                    "FEROHELY": "3",
                                    "Helyezes": "27"
                                },
                                {
                                    "SZOBA_ID": "233",
                                    "FEROHELY": "3",
                                    "Helyezes": "27"
                                },
                                {
                                    "SZOBA_ID": "234",
                                    "FEROHELY": "3",
                                    "Helyezes": "27"
                                },
                                {
                                    "SZOBA_ID": "235",
                                    "FEROHELY": "3",
                                    "Helyezes": "27"
                                },
                                {
                                    "SZOBA_ID": "236",
                                    "FEROHELY": "3",
                                    "Helyezes": "27"
                                },
                                {
                                    "SZOBA_ID": "230",
                                    "FEROHELY": "3",
                                    "Helyezes": "27"
                                },
                                {
                                    "SZOBA_ID": "228",
                                    "FEROHELY": "3",
                                    "Helyezes": "27"
                                },
                                {
                                    "SZOBA_ID": "226",
                                    "FEROHELY": "3",
                                    "Helyezes": "27"
                                },
                                {
                                    "SZOBA_ID": "289",
                                    "FEROHELY": "3",
                                    "Helyezes": "27"
                                },
                                {
                                    "SZOBA_ID": "294",
                                    "FEROHELY": "3",
                                    "Helyezes": "27"
                                },
                                {
                                    "SZOBA_ID": "286",
                                    "FEROHELY": "3",
                                    "Helyezes": "27"
                                },
                                {
                                    "SZOBA_ID": "287",
                                    "FEROHELY": "3",
                                    "Helyezes": "27"
                                },
                                {
                                    "SZOBA_ID": "280",
                                    "FEROHELY": "3",
                                    "Helyezes": "27"
                                },
                                {
                                    "SZOBA_ID": "274",
                                    "FEROHELY": "3",
                                    "Helyezes": "27"
                                },
                                {
                                    "SZOBA_ID": "278",
                                    "FEROHELY": "3",
                                    "Helyezes": "27"
                                },
                                {
                                    "SZOBA_ID": "270",
                                    "FEROHELY": "3",
                                    "Helyezes": "27"
                                },
                                {
                                    "SZOBA_ID": "271",
                                    "FEROHELY": "3",
                                    "Helyezes": "27"
                                },
                                {
                                    "SZOBA_ID": "272",
                                    "FEROHELY": "3",
                                    "Helyezes": "27"
                                },
                                {
                                    "SZOBA_ID": "264",
                                    "FEROHELY": "3",
                                    "Helyezes": "27"
                                },
                                {
                                    "SZOBA_ID": "265",
                                    "FEROHELY": "3",
                                    "Helyezes": "27"
                                }
                            ]
                        },
                        "text/html": [
                            "<table>",
                            "<tr><th>SZOBA_ID</th><th>FEROHELY</th><th>Helyezes</th></tr>",
                            "<tr><td>58</td><td>2</td><td>1</td></tr>",
                            "<tr><td>182</td><td>2</td><td>2</td></tr>",
                            "<tr><td>185</td><td>3</td><td>3</td></tr>",
                            "<tr><td>70</td><td>2</td><td>4</td></tr>",
                            "<tr><td>94</td><td>2</td><td>5</td></tr>",
                            "<tr><td>12</td><td>2</td><td>6</td></tr>",
                            "<tr><td>172</td><td>2</td><td>6</td></tr>",
                            "<tr><td>35</td><td>3</td><td>7</td></tr>",
                            "<tr><td>48</td><td>3</td><td>7</td></tr>",
                            "<tr><td>74</td><td>3</td><td>7</td></tr>",
                            "<tr><td>122</td><td>3</td><td>7</td></tr>",
                            "<tr><td>121</td><td>2</td><td>8</td></tr>",
                            "<tr><td>140</td><td>2</td><td>8</td></tr>",
                            "<tr><td>110</td><td>2</td><td>8</td></tr>",
                            "<tr><td>55</td><td>2</td><td>8</td></tr>",
                            "<tr><td>38</td><td>2</td><td>8</td></tr>",
                            "<tr><td>1</td><td>3</td><td>9</td></tr>",
                            "<tr><td>3</td><td>3</td><td>9</td></tr>",
                            "<tr><td>43</td><td>3</td><td>9</td></tr>",
                            "<tr><td>83</td><td>3</td><td>9</td></tr>",
                            "<tr><td>88</td><td>3</td><td>9</td></tr>",
                            "<tr><td>89</td><td>3</td><td>9</td></tr>",
                            "<tr><td>117</td><td>3</td><td>9</td></tr>",
                            "<tr><td>198</td><td>3</td><td>9</td></tr>",
                            "<tr><td>165</td><td>2</td><td>10</td></tr>",
                            "<tr><td>149</td><td>2</td><td>10</td></tr>",
                            "<tr><td>156</td><td>2</td><td>10</td></tr>",
                            "<tr><td>163</td><td>2</td><td>10</td></tr>",
                            "<tr><td>118</td><td>2</td><td>10</td></tr>",
                            "<tr><td>109</td><td>2</td><td>10</td></tr>",
                            "<tr><td>127</td><td>2</td><td>10</td></tr>",
                            "<tr><td>139</td><td>2</td><td>10</td></tr>",
                            "<tr><td>80</td><td>2</td><td>10</td></tr>",
                            "<tr><td>59</td><td>2</td><td>10</td></tr>",
                            "<tr><td>39</td><td>2</td><td>10</td></tr>",
                            "<tr><td>27</td><td>3</td><td>11</td></tr>",
                            "<tr><td>49</td><td>3</td><td>11</td></tr>",
                            "<tr><td>96</td><td>3</td><td>11</td></tr>",
                            "<tr><td>97</td><td>3</td><td>11</td></tr>",
                            "<tr><td>138</td><td>3</td><td>11</td></tr>",
                            "<tr><td>143</td><td>3</td><td>11</td></tr>",
                            "<tr><td>115</td><td>3</td><td>11</td></tr>",
                            "<tr><td>193</td><td>3</td><td>11</td></tr>",
                            "<tr><td>187</td><td>3</td><td>11</td></tr>",
                            "<tr><td>195</td><td>2</td><td>12</td></tr>",
                            "<tr><td>161</td><td>2</td><td>12</td></tr>",
                            "<tr><td>150</td><td>2</td><td>12</td></tr>",
                            "<tr><td>148</td><td>2</td><td>12</td></tr>",
                            "<tr><td>169</td><td>2</td><td>12</td></tr>",
                            "<tr><td>106</td><td>2</td><td>12</td></tr>",
                            "<tr><td>126</td><td>2</td><td>12</td></tr>",
                            "<tr><td>145</td><td>2</td><td>12</td></tr>",
                            "<tr><td>141</td><td>2</td><td>12</td></tr>",
                            "<tr><td>130</td><td>2</td><td>12</td></tr>",
                            "<tr><td>137</td><td>2</td><td>12</td></tr>",
                            "<tr><td>78</td><td>2</td><td>12</td></tr>",
                            "<tr><td>42</td><td>2</td><td>12</td></tr>",
                            "<tr><td>64</td><td>2</td><td>12</td></tr>",
                            "<tr><td>67</td><td>2</td><td>12</td></tr>",
                            "<tr><td>28</td><td>2</td><td>12</td></tr>",
                            "<tr><td>29</td><td>2</td><td>12</td></tr>",
                            "<tr><td>19</td><td>2</td><td>12</td></tr>",
                            "<tr><td>33</td><td>2</td><td>12</td></tr>",
                            "<tr><td>4</td><td>2</td><td>12</td></tr>",
                            "<tr><td>7</td><td>2</td><td>12</td></tr>",
                            "<tr><td>15</td><td>2</td><td>12</td></tr>",
                            "<tr><td>17</td><td>3</td><td>13</td></tr>",
                            "<tr><td>18</td><td>3</td><td>13</td></tr>",
                            "<tr><td>6</td><td>3</td><td>13</td></tr>",
                            "<tr><td>9</td><td>3</td><td>13</td></tr>",
                            "<tr><td>22</td><td>3</td><td>13</td></tr>",
                            "<tr><td>36</td><td>3</td><td>13</td></tr>",
                            "<tr><td>44</td><td>3</td><td>13</td></tr>",
                            "<tr><td>54</td><td>3</td><td>13</td></tr>",
                            "<tr><td>77</td><td>3</td><td>13</td></tr>",
                            "<tr><td>82</td><td>3</td><td>13</td></tr>",
                            "<tr><td>92</td><td>3</td><td>13</td></tr>",
                            "<tr><td>132</td><td>3</td><td>13</td></tr>",
                            "<tr><td>133</td><td>3</td><td>13</td></tr>",
                            "<tr><td>134</td><td>3</td><td>13</td></tr>",
                            "<tr><td>146</td><td>3</td><td>13</td></tr>",
                            "<tr><td>124</td><td>3</td><td>13</td></tr>",
                            "<tr><td>120</td><td>3</td><td>13</td></tr>",
                            "<tr><td>181</td><td>3</td><td>13</td></tr>",
                            "<tr><td>176</td><td>3</td><td>13</td></tr>",
                            "<tr><td>197</td><td>3</td><td>13</td></tr>",
                            "<tr><td>188</td><td>3</td><td>13</td></tr>",
                            "<tr><td>189</td><td>2</td><td>14</td></tr>",
                            "<tr><td>190</td><td>2</td><td>14</td></tr>",
                            "<tr><td>191</td><td>2</td><td>14</td></tr>",
                            "<tr><td>170</td><td>2</td><td>14</td></tr>",
                            "<tr><td>171</td><td>2</td><td>14</td></tr>",
                            "<tr><td>168</td><td>2</td><td>14</td></tr>",
                            "<tr><td>175</td><td>2</td><td>14</td></tr>",
                            "<tr><td>157</td><td>2</td><td>14</td></tr>",
                            "<tr><td>164</td><td>2</td><td>14</td></tr>",
                            "<tr><td>154</td><td>2</td><td>14</td></tr>",
                            "<tr><td>119</td><td>2</td><td>14</td></tr>",
                            "<tr><td>107</td><td>2</td><td>14</td></tr>",
                            "<tr><td>128</td><td>2</td><td>14</td></tr>",
                            "<tr><td>131</td><td>2</td><td>14</td></tr>",
                            "<tr><td>99</td><td>2</td><td>14</td></tr>",
                            "<tr><td>111</td><td>2</td><td>14</td></tr>",
                            "<tr><td>81</td><td>2</td><td>14</td></tr>",
                            "<tr><td>86</td><td>2</td><td>14</td></tr>",
                            "<tr><td>52</td><td>2</td><td>14</td></tr>",
                            "<tr><td>45</td><td>2</td><td>14</td></tr>",
                            "<tr><td>62</td><td>2</td><td>14</td></tr>",
                            "<tr><td>61</td><td>3</td><td>15</td></tr>",
                            "<tr><td>51</td><td>3</td><td>15</td></tr>",
                            "<tr><td>20</td><td>3</td><td>15</td></tr>",
                            "<tr><td>8</td><td>3</td><td>15</td></tr>",
                            "<tr><td>16</td><td>3</td><td>15</td></tr>",
                            "<tr><td>87</td><td>3</td><td>15</td></tr>",
                            "<tr><td>79</td><td>3</td><td>15</td></tr>",
                            "<tr><td>112</td><td>3</td><td>15</td></tr>",
                            "<tr><td>113</td><td>3</td><td>15</td></tr>",
                            "<tr><td>93</td><td>3</td><td>15</td></tr>",
                            "<tr><td>144</td><td>3</td><td>15</td></tr>",
                            "<tr><td>123</td><td>3</td><td>15</td></tr>",
                            "<tr><td>155</td><td>3</td><td>15</td></tr>",
                            "<tr><td>153</td><td>3</td><td>15</td></tr>",
                            "<tr><td>160</td><td>3</td><td>15</td></tr>",
                            "<tr><td>152</td><td>2</td><td>16</td></tr>",
                            "<tr><td>173</td><td>2</td><td>16</td></tr>",
                            "<tr><td>174</td><td>2</td><td>16</td></tr>",
                            "<tr><td>186</td><td>2</td><td>16</td></tr>",
                            "<tr><td>184</td><td>2</td><td>16</td></tr>",
                            "<tr><td>196</td><td>2</td><td>16</td></tr>",
                            "<tr><td>129</td><td>2</td><td>16</td></tr>",
                            "<tr><td>100</td><td>2</td><td>16</td></tr>",
                            "<tr><td>114</td><td>2</td><td>16</td></tr>",
                            "<tr><td>98</td><td>2</td><td>16</td></tr>",
                            "<tr><td>103</td><td>2</td><td>16</td></tr>",
                            "<tr><td>85</td><td>2</td><td>16</td></tr>",
                            "<tr><td>91</td><td>2</td><td>16</td></tr>",
                            "<tr><td>11</td><td>2</td><td>16</td></tr>",
                            "<tr><td>5</td><td>2</td><td>16</td></tr>",
                            "<tr><td>21</td><td>2</td><td>16</td></tr>",
                            "<tr><td>50</td><td>2</td><td>16</td></tr>",
                            "<tr><td>57</td><td>2</td><td>16</td></tr>",
                            "<tr><td>63</td><td>2</td><td>16</td></tr>",
                            "<tr><td>72</td><td>2</td><td>16</td></tr>",
                            "<tr><td>73</td><td>2</td><td>16</td></tr>",
                            "<tr><td>66</td><td>3</td><td>17</td></tr>",
                            "<tr><td>69</td><td>3</td><td>17</td></tr>",
                            "<tr><td>46</td><td>3</td><td>17</td></tr>",
                            "<tr><td>34</td><td>3</td><td>17</td></tr>",
                            "<tr><td>40</td><td>3</td><td>17</td></tr>",
                            "<tr><td>2</td><td>3</td><td>17</td></tr>",
                            "<tr><td>10</td><td>3</td><td>17</td></tr>",
                            "<tr><td>13</td><td>3</td><td>17</td></tr>",
                            "<tr><td>90</td><td>3</td><td>17</td></tr>",
                            "<tr><td>84</td><td>3</td><td>17</td></tr>",
                            "<tr><td>104</td><td>3</td><td>17</td></tr>",
                            "<tr><td>95</td><td>3</td><td>17</td></tr>",
                            "<tr><td>177</td><td>3</td><td>17</td></tr>",
                            "<tr><td>178</td><td>3</td><td>17</td></tr>",
                            "<tr><td>183</td><td>3</td><td>17</td></tr>",
                            "<tr><td>180</td><td>2</td><td>18</td></tr>",
                            "<tr><td>166</td><td>2</td><td>18</td></tr>",
                            "<tr><td>151</td><td>2</td><td>18</td></tr>",
                            "<tr><td>158</td><td>2</td><td>18</td></tr>",
                            "<tr><td>101</td><td>2</td><td>18</td></tr>",
                            "<tr><td>75</td><td>2</td><td>18</td></tr>",
                            "<tr><td>76</td><td>2</td><td>18</td></tr>",
                            "<tr><td>136</td><td>2</td><td>18</td></tr>",
                            "<tr><td>23</td><td>2</td><td>18</td></tr>",
                            "<tr><td>37</td><td>2</td><td>18</td></tr>",
                            "<tr><td>68</td><td>2</td><td>18</td></tr>",
                            "<tr><td>71</td><td>3</td><td>19</td></tr>",
                            "<tr><td>30</td><td>3</td><td>19</td></tr>",
                            "<tr><td>31</td><td>3</td><td>19</td></tr>",
                            "<tr><td>14</td><td>3</td><td>19</td></tr>",
                            "<tr><td>135</td><td>3</td><td>19</td></tr>",
                            "<tr><td>162</td><td>3</td><td>19</td></tr>",
                            "<tr><td>179</td><td>3</td><td>19</td></tr>",
                            "<tr><td>24</td><td>4</td><td>20</td></tr>",
                            "<tr><td>26</td><td>2</td><td>21</td></tr>",
                            "<tr><td>47</td><td>2</td><td>21</td></tr>",
                            "<tr><td>53</td><td>2</td><td>21</td></tr>",
                            "<tr><td>56</td><td>2</td><td>21</td></tr>",
                            "<tr><td>108</td><td>2</td><td>21</td></tr>",
                            "<tr><td>102</td><td>2</td><td>21</td></tr>",
                            "<tr><td>105</td><td>2</td><td>21</td></tr>",
                            "<tr><td>192</td><td>2</td><td>21</td></tr>",
                            "<tr><td>167</td><td>3</td><td>22</td></tr>",
                            "<tr><td>116</td><td>3</td><td>22</td></tr>",
                            "<tr><td>142</td><td>3</td><td>22</td></tr>",
                            "<tr><td>25</td><td>3</td><td>22</td></tr>",
                            "<tr><td>41</td><td>3</td><td>22</td></tr>",
                            "<tr><td>32</td><td>2</td><td>23</td></tr>",
                            "<tr><td>65</td><td>2</td><td>23</td></tr>",
                            "<tr><td>147</td><td>2</td><td>23</td></tr>",
                            "<tr><td>125</td><td>2</td><td>23</td></tr>",
                            "<tr><td>194</td><td>2</td><td>23</td></tr>",
                            "<tr><td>60</td><td>3</td><td>24</td></tr>",
                            "<tr><td>261</td><td>1</td><td>25</td></tr>",
                            "<tr><td>262</td><td>1</td><td>25</td></tr>",
                            "<tr><td>263</td><td>2</td><td>26</td></tr>",
                            "<tr><td>266</td><td>2</td><td>26</td></tr>",
                            "<tr><td>267</td><td>2</td><td>26</td></tr>",
                            "<tr><td>268</td><td>2</td><td>26</td></tr>",
                            "<tr><td>269</td><td>2</td><td>26</td></tr>",
                            "<tr><td>275</td><td>2</td><td>26</td></tr>",
                            "<tr><td>276</td><td>2</td><td>26</td></tr>",
                            "<tr><td>277</td><td>2</td><td>26</td></tr>",
                            "<tr><td>273</td><td>2</td><td>26</td></tr>",
                            "<tr><td>279</td><td>2</td><td>26</td></tr>",
                            "<tr><td>281</td><td>2</td><td>26</td></tr>",
                            "<tr><td>282</td><td>2</td><td>26</td></tr>",
                            "<tr><td>283</td><td>2</td><td>26</td></tr>",
                            "<tr><td>284</td><td>2</td><td>26</td></tr>",
                            "<tr><td>285</td><td>2</td><td>26</td></tr>",
                            "<tr><td>290</td><td>2</td><td>26</td></tr>",
                            "<tr><td>291</td><td>2</td><td>26</td></tr>",
                            "<tr><td>292</td><td>2</td><td>26</td></tr>",
                            "<tr><td>293</td><td>2</td><td>26</td></tr>",
                            "<tr><td>288</td><td>2</td><td>26</td></tr>",
                            "<tr><td>222</td><td>2</td><td>26</td></tr>",
                            "<tr><td>223</td><td>2</td><td>26</td></tr>",
                            "<tr><td>224</td><td>2</td><td>26</td></tr>",
                            "<tr><td>225</td><td>2</td><td>26</td></tr>",
                            "<tr><td>227</td><td>2</td><td>26</td></tr>",
                            "<tr><td>229</td><td>2</td><td>26</td></tr>",
                            "<tr><td>231</td><td>2</td><td>26</td></tr>",
                            "<tr><td>232</td><td>2</td><td>26</td></tr>",
                            "<tr><td>237</td><td>2</td><td>26</td></tr>",
                            "<tr><td>239</td><td>2</td><td>26</td></tr>",
                            "<tr><td>241</td><td>2</td><td>26</td></tr>",
                            "<tr><td>242</td><td>2</td><td>26</td></tr>",
                            "<tr><td>243</td><td>2</td><td>26</td></tr>",
                            "<tr><td>244</td><td>2</td><td>26</td></tr>",
                            "<tr><td>245</td><td>2</td><td>26</td></tr>",
                            "<tr><td>246</td><td>2</td><td>26</td></tr>",
                            "<tr><td>247</td><td>2</td><td>26</td></tr>",
                            "<tr><td>248</td><td>2</td><td>26</td></tr>",
                            "<tr><td>249</td><td>2</td><td>26</td></tr>",
                            "<tr><td>253</td><td>2</td><td>26</td></tr>",
                            "<tr><td>254</td><td>2</td><td>26</td></tr>",
                            "<tr><td>257</td><td>2</td><td>26</td></tr>",
                            "<tr><td>258</td><td>2</td><td>26</td></tr>",
                            "<tr><td>259</td><td>2</td><td>26</td></tr>",
                            "<tr><td>260</td><td>2</td><td>26</td></tr>",
                            "<tr><td>200</td><td>2</td><td>26</td></tr>",
                            "<tr><td>215</td><td>2</td><td>26</td></tr>",
                            "<tr><td>217</td><td>2</td><td>26</td></tr>",
                            "<tr><td>219</td><td>2</td><td>26</td></tr>",
                            "<tr><td>206</td><td>2</td><td>26</td></tr>",
                            "<tr><td>207</td><td>2</td><td>26</td></tr>",
                            "<tr><td>208</td><td>2</td><td>26</td></tr>",
                            "<tr><td>210</td><td>2</td><td>26</td></tr>",
                            "<tr><td>211</td><td>2</td><td>26</td></tr>",
                            "<tr><td>212</td><td>3</td><td>27</td></tr>",
                            "<tr><td>213</td><td>3</td><td>27</td></tr>",
                            "<tr><td>214</td><td>3</td><td>27</td></tr>",
                            "<tr><td>209</td><td>3</td><td>27</td></tr>",
                            "<tr><td>220</td><td>3</td><td>27</td></tr>",
                            "<tr><td>221</td><td>3</td><td>27</td></tr>",
                            "<tr><td>218</td><td>3</td><td>27</td></tr>",
                            "<tr><td>216</td><td>3</td><td>27</td></tr>",
                            "<tr><td>199</td><td>3</td><td>27</td></tr>",
                            "<tr><td>201</td><td>3</td><td>27</td></tr>",
                            "<tr><td>202</td><td>3</td><td>27</td></tr>",
                            "<tr><td>203</td><td>3</td><td>27</td></tr>",
                            "<tr><td>204</td><td>3</td><td>27</td></tr>",
                            "<tr><td>205</td><td>3</td><td>27</td></tr>",
                            "<tr><td>159</td><td>3</td><td>27</td></tr>",
                            "<tr><td>255</td><td>3</td><td>27</td></tr>",
                            "<tr><td>256</td><td>3</td><td>27</td></tr>",
                            "<tr><td>250</td><td>3</td><td>27</td></tr>",
                            "<tr><td>251</td><td>3</td><td>27</td></tr>",
                            "<tr><td>252</td><td>3</td><td>27</td></tr>",
                            "<tr><td>240</td><td>3</td><td>27</td></tr>",
                            "<tr><td>238</td><td>3</td><td>27</td></tr>",
                            "<tr><td>233</td><td>3</td><td>27</td></tr>",
                            "<tr><td>234</td><td>3</td><td>27</td></tr>",
                            "<tr><td>235</td><td>3</td><td>27</td></tr>",
                            "<tr><td>236</td><td>3</td><td>27</td></tr>",
                            "<tr><td>230</td><td>3</td><td>27</td></tr>",
                            "<tr><td>228</td><td>3</td><td>27</td></tr>",
                            "<tr><td>226</td><td>3</td><td>27</td></tr>",
                            "<tr><td>289</td><td>3</td><td>27</td></tr>",
                            "<tr><td>294</td><td>3</td><td>27</td></tr>",
                            "<tr><td>286</td><td>3</td><td>27</td></tr>",
                            "<tr><td>287</td><td>3</td><td>27</td></tr>",
                            "<tr><td>280</td><td>3</td><td>27</td></tr>",
                            "<tr><td>274</td><td>3</td><td>27</td></tr>",
                            "<tr><td>278</td><td>3</td><td>27</td></tr>",
                            "<tr><td>270</td><td>3</td><td>27</td></tr>",
                            "<tr><td>271</td><td>3</td><td>27</td></tr>",
                            "<tr><td>272</td><td>3</td><td>27</td></tr>",
                            "<tr><td>264</td><td>3</td><td>27</td></tr>",
                            "<tr><td>265</td><td>3</td><td>27</td></tr>",
                            "</table>"
                        ]
                    }
                }
            ],
            "execution_count": 10
        },
        {
            "cell_type": "code",
            "source": [
                "SELECT sz.SZALLAS_NEV, COUNT(f.FOGLALAS_PK) AS 'FOGLALAS_SZAM'\r\n",
                "FROM SZALLASHELY sz\r\n",
                "JOIN SZOBA s ON sz.SZALLAS_ID = s.SZALLAS_FK\r\n",
                "JOIN FOGLALAS f ON s.SZOBA_ID = f.SZOBA_FK\r\n",
                "GROUP BY sz.SZALLAS_NEV\r\n",
                "HAVING COUNT(f.FOGLALAS_PK) > (\r\n",
                "    SELECT COUNT(f2.FOGLALAS_PK)\r\n",
                "    FROM SZALLASHELY sz2\r\n",
                "    JOIN SZOBA s2 ON sz2.SZALLAS_ID = s2.SZALLAS_FK\r\n",
                "    JOIN FOGLALAS f2 ON s2.SZOBA_ID = f2.SZOBA_FK\r\n",
                "    WHERE sz2.SZALLAS_NEV = 'Fortuna panzió'\r\n",
                "    GROUP BY sz2.SZALLAS_NEV\r\n",
                ")"
            ],
            "metadata": {
                "azdata_cell_guid": "86316e1e-65bb-45fa-b66a-82b82e49f516",
                "language": "sql"
            },
            "outputs": [
                {
                    "output_type": "display_data",
                    "data": {
                        "text/html": "(3 rows affected)"
                    },
                    "metadata": {}
                },
                {
                    "output_type": "display_data",
                    "data": {
                        "text/html": "Total execution time: 00:00:00.027"
                    },
                    "metadata": {}
                },
                {
                    "output_type": "execute_result",
                    "metadata": {},
                    "execution_count": 8,
                    "data": {
                        "application/vnd.dataresource+json": {
                            "schema": {
                                "fields": [
                                    {
                                        "name": "SZALLAS_NEV"
                                    },
                                    {
                                        "name": "FOGLALAS_SZAM"
                                    }
                                ]
                            },
                            "data": [
                                {
                                    "SZALLAS_NEV": "Gold Hotel",
                                    "FOGLALAS_SZAM": "179"
                                },
                                {
                                    "SZALLAS_NEV": "Hotel Három Hattyú",
                                    "FOGLALAS_SZAM": "204"
                                },
                                {
                                    "SZALLAS_NEV": "Kentaur Hotel",
                                    "FOGLALAS_SZAM": "179"
                                }
                            ]
                        },
                        "text/html": [
                            "<table>",
                            "<tr><th>SZALLAS_NEV</th><th>FOGLALAS_SZAM</th></tr>",
                            "<tr><td>Gold Hotel</td><td>179</td></tr>",
                            "<tr><td>Hotel Három Hattyú</td><td>204</td></tr>",
                            "<tr><td>Kentaur Hotel</td><td>179</td></tr>",
                            "</table>"
                        ]
                    }
                }
            ],
            "execution_count": 8
        }
    ]
}